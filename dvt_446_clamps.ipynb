{
 "cells": [
  {
   "cell_type": "code",
   "execution_count": null,
   "metadata": {},
   "outputs": [],
   "source": [
    "import re\n",
    "import pandas as pd\n",
    "import plotly.io as pio\n",
    "import plotly.express as px\n",
    "from plotly.subplots import make_subplots\n",
    "import plotly.graph_objects as go\n",
    "\n",
    "pd.options.plotting.backend = \"plotly\""
   ]
  },
  {
   "cell_type": "code",
   "execution_count": null,
   "metadata": {},
   "outputs": [],
   "source": [
    "cc = pd.read_csv('data/446/bookmarks/DVT446_clamps.csv', usecols=[0,1,2,4,10])\n",
    "cc['name'] = [re.sub(r'\\s+', '', name) for name in cc['name']] # remove whitespace\n",
    "cc.rename(columns={'perfAngleFromHighSideClockwiseDegrees': 'clampsTOH'}, inplace=True)\n",
    "cc['type'] = ['CableDetectionClamp' if 'CDC' in name else 'CrossCouplingProtector' if 'CCP' in name else 'Centralizer' if 'CENT' in name else 'Other' for name in cc['name']]\n",
    "cc['hadware_name'] = [name.split('.')[0] for name in cc['name']]\n",
    "cc['obs'] = [name.split('-')[1] if '-' in name else pd.NA for name in cc['name']]\n",
    "\n",
    "#cc = cc.loc[cc['type'] == 'OrientationClamp']\n",
    "\n",
    "# perfs = pd.read_csv('data\\mabee2606_perfs_BIASED.csv', usecols=[0,1,7])\n",
    "# perfs['type'] = 'PERFS'\n",
    "# perfs.rename(columns={'perfAngleFromHighSideClockwiseDegrees': 'AngleFromHighSideClockwiseDegrees'}, inplace=True)"
   ]
  },
  {
   "cell_type": "code",
   "execution_count": null,
   "metadata": {},
   "outputs": [],
   "source": [
    "cc_k = cc.loc[cc['passName'] == 'mainpass_up2_autogain']\n",
    "cc = cc.loc[cc['passName'] == 'mainpass_up1_autogain']"
   ]
  },
  {
   "cell_type": "code",
   "execution_count": null,
   "metadata": {},
   "outputs": [],
   "source": [
    "# #deleting nv's rows\n",
    "# cc = cc.loc[cc['obs'] != 'NV']\n",
    "# cc_nv = cc.loc[cc['obs'] == 'NV']\n",
    "\n",
    "#set nv's to nan\n",
    "cc['obs'] = [obs if pd.isna(obs) else pd.NA if obs == 'NV' else obs for obs in cc['obs']]"
   ]
  },
  {
   "cell_type": "code",
   "execution_count": null,
   "metadata": {},
   "outputs": [],
   "source": [
    "features = cc[['type', 'hadware_name', 'depth', 'clampsTOH', 'passName', 'obs']].groupby(['type', 'hadware_name', 'passName', 'obs'], dropna=False).median(numeric_only=True)\n",
    "features = features.sort_values(by=['depth'], ascending=False).reset_index()\n",
    "\n",
    "features['fiberTOH'] = [angle+180 if angle < 180 else angle-180 for angle in features['clampsTOH']] # angle for 180deg\n",
    "\n",
    "features['fiberTOH'] = [angle-270 if angle > 90 and ty=='Centralizer' else angle+270 if ty=='Centralizer' else angle for angle, ty in features[['fiberTOH', 'type']].values]  # angle for 90deg\n",
    "\n",
    "features['fiber_plot_angle'] = [angle-360 if angle > 180 else angle for angle in features['fiberTOH']] # fiver plot angle\n",
    "\n",
    "\n",
    "# combined = pd.concat([features, perfs])\n",
    "combined = features\n",
    "combined['plot_angle'] = [angle-360 if angle > 180 else angle for angle in combined['clampsTOH']] # plot angle\n",
    "#combined['angle_rounded'] = combined['AngleFromHighSideClockwiseDegrees'].round(0)\n",
    "#combined['fiber_angle_rounded'] = combined['fiberAngleFromHighSideClockwiseDegrees'].round(0)\n",
    "combined = combined.round(3)"
   ]
  },
  {
   "cell_type": "code",
   "execution_count": null,
   "metadata": {},
   "outputs": [],
   "source": [
    "fig = go.Figure()\n",
    "\n",
    "# # Add windows\n",
    "# gozone_svg = ''.join([f'M {xy[0][0]+10},{xy[0][1]} ' if xy[1]==0 else f'L{xy[0][0]+10},{xy[0][1]} ' for xy in zip(combined.loc[combined['type']=='CableDetectionClamp', ['plot_angle','depth']].values,range(combined.loc[combined['type']=='CableDetectionClamp', ['plot_angle','depth']].shape[0]))])+''.join([f' L{xy[0][0]-10},{xy[0][1]} Z' if xy[1]==0 else f' L{xy[0][0]-10},{xy[0][1]}' for xy in zip(combined.loc[combined['type']=='CableDetectionClamp', ['plot_angle','depth']].values,range(combined.loc[combined['type']=='CableDetectionClamp', ['plot_angle','depth']].shape[0]))][::-1])\n",
    "\n",
    "# nogozone_svg = ''.join([f'M {xy[0][0]+10},{xy[0][1]} ' if xy[1]==0 else f'L{xy[0][0]+10},{xy[0][1]} ' for xy in zip(combined.loc[combined['type']=='CableDetectionClamp', ['fiber_plot_angle','depth']].values,range(combined.loc[combined['type']=='CableDetectionClamp', ['fiber_plot_angle','depth']].shape[0]))])+''.join([f' L{xy[0][0]-10},{xy[0][1]} Z' if xy[1]==0 else f' L{xy[0][0]-10},{xy[0][1]}' for xy in zip(combined.loc[combined['type']=='CableDetectionClamp', ['fiber_plot_angle','depth']].values,range(combined.loc[combined['type']=='CableDetectionClamp', ['fiber_plot_angle','depth']].shape[0]))][::-1])\n",
    "\n",
    "# fig.update_layout(shapes=[dict(type=\"path\", path=gozone_svg, fillcolor='rgba(154,205,50,0.2)', line=dict(width=0), layer='below'), dict(type=\"path\", path=nogozone_svg, fillcolor='rgba(255,69,0,0.2)', line=dict(width=0), layer='below')])\n",
    "\n",
    "# Add traces\n",
    "fig.add_trace(go.Scatter(x=combined.loc[(combined['type']=='CableDetectionClamp') & (pd.isna(combined['obs'])), 'plot_angle'], y=combined.loc[(combined['type']=='CableDetectionClamp') & (pd.isna(combined['obs'])), 'depth'], mode='markers', name='CableDetectionClamp', marker_color='forestgreen', customdata=combined.loc[(combined['type']=='CableDetectionClamp') & (pd.isna(combined['obs'])), ['hadware_name', 'clampsTOH', 'obs']].round(0)))\n",
    "\n",
    "\n",
    "fig.add_trace(go.Scatter(x=combined.loc[(combined['type']=='CrossCouplingProtector') & (pd.isna(combined['obs'])), 'plot_angle'], y=combined.loc[(combined['type']=='CrossCouplingProtector') & (pd.isna(combined['obs'])), 'depth'], mode='markers', name='CrossCouplingProtector', marker_color='darkolivegreen', customdata=combined.loc[(combined['type']=='CrossCouplingProtector') & (pd.isna(combined['obs'])), ['hadware_name', 'clampsTOH', 'obs']].round(0)))\n",
    "\n",
    "fig.add_trace(go.Scatter(x=combined.loc[(combined['type']=='CrossCouplingProtector') & (~pd.isna(combined['obs'])), 'plot_angle'], y=combined.loc[(combined['type']=='CrossCouplingProtector') & (~pd.isna(combined['obs'])), 'depth'], mode='markers', name='CrossCouplingProtector NVNH', marker_color='red', customdata=combined.loc[(combined['type']=='CrossCouplingProtector') & (~pd.isna(combined['obs'])), ['hadware_name', 'clampsTOH', 'obs']].round(0)))\n",
    "\n",
    "fig.add_trace(go.Scatter(x=combined.loc[(combined['type']=='Centralizer') & (pd.isna(combined['obs'])), 'plot_angle'], y=combined.loc[(combined['type']=='Centralizer') & (pd.isna(combined['obs'])), 'depth'], mode='markers', name='Centralizer', marker_color='cadetblue', customdata=combined.loc[(combined['type']=='Centralizer') & (pd.isna(combined['obs'])), ['hadware_name', 'clampsTOH', 'obs']].round(0)))\n",
    "\n",
    "# fig.add_trace(go.Scatter(x=combined.loc[combined['type']=='CableDetectionClamp', 'plot_angle'], y=combined.loc[combined['type']=='CableDetectionClamp', 'depth'], mode='markers', name='CableDetectionClamp', marker_color='forestgreen', customdata=combined.loc[combined['type']=='CableDetectionClamp', ['hadware_name', 'angle_rounded']]))\n",
    "\n",
    "# fig.add_trace(go.Scatter(x=combined.loc[combined['type']=='CrossCouplingProtector', 'plot_angle'], y=combined.loc[combined['type']=='CrossCouplingProtector', 'depth'], mode='markers', name='CrossCouplingProtector', marker_color='darkolivegreen', customdata=combined.loc[combined['type']=='CrossCouplingProtector', ['hadware_name', 'angle_rounded']]))\n",
    "\n",
    "# fig.add_trace(go.Scatter(x=combined.loc[combined['type']=='Centralizer', 'plot_angle'], y=combined.loc[combined['type']=='Centralizer', 'depth'], mode='markers', name='Centralizer', marker_color='cadetblue', customdata=combined.loc[combined['type']=='Centralizer', ['hadware_name', 'angle_rounded']]))\n",
    "\n",
    "# fig.add_trace(go.Scatter(x=combined.loc[combined['type']=='Other', 'plot_angle'], y=combined.loc[combined['type']=='Other', 'depth'], mode='markers', name='Other', marker_color='navy', customdata=combined.loc[combined['type']=='Other', ['hadware_name', 'angle_rounded']]))\n",
    "\n",
    "# fig.add_trace(go.Scatter(x=combined.loc[combined['type']=='PERFS', 'plot_angle'], y=combined.loc[combined['type']=='PERFS', 'depth'], mode='markers', name='PERFS', marker_color='navy', customdata=combined.loc[combined['type']=='PERFS', ['name', 'angle_rounded']]))\n",
    "\n",
    "fig.add_trace(go.Scatter(x=combined.loc[combined['type']!='CCableDetectionClamp', 'fiber_plot_angle'], y=combined.loc[combined['type']!='CCableDetectionClamp', 'depth'], mode='lines+markers', name='Fiber Wire', marker_color='crimson', customdata=combined.loc[combined['type']!='CCableDetectionClamp', ['hadware_name', 'fiberTOH']].round(0)))\n",
    "\n",
    "fig.update_traces(hovertemplate='%{customdata[0]}<br>%{customdata[1]}')\n",
    "fig.update_xaxes(range=[-270, 270])\n",
    "fig.update_yaxes(autorange=\"reversed\")\n",
    "fig.update_layout(hovermode=\"y\", title=\"Fiber cable orientation main1\", legend_title=\"Type\", legend_orientation=\"h\", template=\"plotly\", yaxis_title=\"Depth\", xaxis_title='AngleFromHighSideClockwiseDegrees')\n",
    "fig.show()"
   ]
  },
  {
   "cell_type": "code",
   "execution_count": null,
   "metadata": {},
   "outputs": [],
   "source": [
    "features['type'].value_counts()"
   ]
  },
  {
   "cell_type": "code",
   "execution_count": null,
   "metadata": {},
   "outputs": [],
   "source": [
    "features['obs'].value_counts()"
   ]
  },
  {
   "cell_type": "code",
   "execution_count": null,
   "metadata": {},
   "outputs": [],
   "source": [
    "# features['type'].value_counts()\n",
    "# O, CCP, C, CDC= features['type'].value_counts()\n",
    "\n",
    "# pie = make_subplots(rows=1, cols=1, specs=[[{\"type\": \"domain\"}]])\n",
    "\n",
    "# pie.add_trace(go.Pie(\n",
    "#      values=[CDC, CCP, C, O],\n",
    "#      labels=['CableDetectionClamp', 'CrossCouplingProtector', 'Centralizer', 'Other'],\n",
    "#      domain=dict(x=[0, 0.5]),\n",
    "#      name=\"Blast Protector\",\n",
    "#      hoverinfo='label+value',\n",
    "#      sort=False,\n",
    "#      marker_colors = ['forestgreen', 'darkolivegreen', 'cadetblue', 'navy']\n",
    "#      ), \n",
    "#      row=1, col=1)\n",
    "\n",
    "# pie.update_layout(title_text=\"Jewelry type\", template=\"plotly\")\n",
    "# pie.show()"
   ]
  },
  {
   "cell_type": "code",
   "execution_count": null,
   "metadata": {},
   "outputs": [],
   "source": [
    "pio.write_html(fig, file='plotly/446_plot_main1.html', auto_open=False)\n",
    "# pio.write_html(pie, file='plotly/4532_pie.html', auto_open=False)"
   ]
  },
  {
   "cell_type": "code",
   "execution_count": null,
   "metadata": {},
   "outputs": [],
   "source": [
    "def clamps_overview(clamps, clamps_types):\n",
    "\n",
    "    fiber = clamps[['type', 'fiber_plot_angle', 'depth', 'hadware_name', 'fiber_angle_rounded']].loc[clamps['type'].isin(clamps_types)]\n",
    "\n",
    "    fig = go.Figure()\n",
    "    # # Add windows\n",
    "    nogozone_svg = ''.join([f'M {xy[0][0]+10},{xy[0][1]} ' if xy[1]==0 else f'L{xy[0][0]+10},{xy[0][1]} ' for xy in zip(clamps.loc[clamps['type']=='CableDetectionClamp', ['fiber_plot_angle','depth']].values,range(clamps.loc[clamps['type']=='CableDetectionClamp', ['fiber_plot_angle','depth']].shape[0]))])+''.join([f' L{xy[0][0]-10},{xy[0][1]} Z' if xy[1]==0 else f' L{xy[0][0]-10},{xy[0][1]}' for xy in zip(clamps.loc[clamps['type']=='CableDetectionClamp', ['fiber_plot_angle','depth']].values,range(clamps.loc[clamps['type']=='CableDetectionClamp', ['fiber_plot_angle','depth']].shape[0]))][::-1])\n",
    "\n",
    "    fig.update_layout(shapes=[dict(type=\"path\", path=nogozone_svg, fillcolor='rgba(255,69,0,0.2)', line=dict(width=0), layer='below')])\n",
    "\n",
    "    # Add traces\n",
    "    for type in clamps['type'].unique():\n",
    "        fig.add_trace(go.Scatter(x=clamps.loc[clamps['type']==type, 'plot_angle'], y=clamps.loc[clamps['type']==type, 'depth'], mode='markers', name=type, customdata=clamps.loc[clamps['type']==type, ['hadware_name', 'fiber_angle_rounded']]))\n",
    "\n",
    "    fig.add_trace(go.Scatter(x=fiber['fiber_plot_angle'], y=fiber['depth'], mode='lines+markers', name='Fiber Wire', marker_color='crimson', customdata=fiber[['hadware_name', 'fiber_angle_rounded']]))\n",
    "\n",
    "    fig.update_traces(hovertemplate='%{customdata[0]}<br>%{customdata[1]}')\n",
    "    fig.update_xaxes(range=[-185, 185])\n",
    "    fig.update_yaxes(autorange=\"reversed\")\n",
    "    fig.update_layout(hovermode=\"y\", title=\"Fiber cable orientation overview\", legend_title=\"Type\", legend_orientation=\"h\", template=\"plotly\", yaxis_title=\"Depth\", xaxis_title='AngleFromHighSideClockwiseDegrees')\n",
    "\n",
    "    return fig\n",
    "\n",
    "clamps_overview(combined, ['CableDetectionClamp', 'CrossCouplingProtector', 'Centralizer', 'Other']).show()"
   ]
  },
  {
   "cell_type": "code",
   "execution_count": null,
   "metadata": {},
   "outputs": [],
   "source": [
    "combined.dtypes"
   ]
  },
  {
   "cell_type": "code",
   "execution_count": null,
   "metadata": {},
   "outputs": [],
   "source": [
    "#combined.to_hdf('data/446/446cd.h5', key='cd446', mode='w')\n",
    "combined.to_pickle('data/446/446cd.pkl')\n",
    "combined.to_parquet('data/446/446cd.parquet')"
   ]
  },
  {
   "cell_type": "markdown",
   "metadata": {},
   "source": [
    "kay plot"
   ]
  },
  {
   "cell_type": "code",
   "execution_count": null,
   "metadata": {},
   "outputs": [],
   "source": [
    "features_k = cc_k[['type', 'hadware_name', 'depth', 'AngleFromHighSideClockwiseDegrees', 'passName']].groupby(['type', 'hadware_name', 'passName']).median(numeric_only=True)\n",
    "features_k = features_k.sort_values(by=['depth'], ascending=False).reset_index()\n",
    "features_k['fiberAngleFromHighSideClockwiseDegrees'] = [angle+180 if angle < 180 else angle-180 for angle in features_k['AngleFromHighSideClockwiseDegrees']]\n",
    "features_k['fiber_plot_angle'] = [angle-360 if angle > 180 else angle for angle in features_k['fiberAngleFromHighSideClockwiseDegrees']]\n",
    "\n",
    "\n",
    "# combined = pd.concat([features_k, perfs])\n",
    "combined_k = features_k\n",
    "combined_k['plot_angle'] = [angle-360 if angle > 100 else angle for angle in combined_k['AngleFromHighSideClockwiseDegrees']]\n",
    "combined_k['angle_rounded'] = combined_k['AngleFromHighSideClockwiseDegrees'].round(0)\n",
    "combined_k['fiber_angle_rounded'] = combined_k['fiberAngleFromHighSideClockwiseDegrees'].round(0)"
   ]
  },
  {
   "cell_type": "code",
   "execution_count": null,
   "metadata": {},
   "outputs": [],
   "source": [
    "fig = go.Figure()\n",
    "\n",
    "# Add windows\n",
    "gozone_svg = ''.join([f'M {xy[0][0]+30},{xy[0][1]} ' if xy[1]==0 else f'L{xy[0][0]+30},{xy[0][1]} ' for xy in zip(combined_k.loc[combined_k['type']=='CableDetectionClamp', ['plot_angle','depth']].values,range(combined_k.loc[combined_k['type']=='CableDetectionClamp', ['plot_angle','depth']].shape[0]))])+''.join([f' L{xy[0][0]-30},{xy[0][1]} Z' if xy[1]==0 else f' L{xy[0][0]-30},{xy[0][1]}' for xy in zip(combined_k.loc[combined_k['type']=='CableDetectionClamp', ['plot_angle','depth']].values,range(combined_k.loc[combined_k['type']=='CableDetectionClamp', ['plot_angle','depth']].shape[0]))][::-1])\n",
    "\n",
    "nogozone_svg = ''.join([f'M {xy[0][0]+10},{xy[0][1]} ' if xy[1]==0 else f'L{xy[0][0]+10},{xy[0][1]} ' for xy in zip(combined_k.loc[combined_k['type']=='CableDetectionClamp', ['fiber_plot_angle','depth']].values,range(combined_k.loc[combined_k['type']=='CableDetectionClamp', ['fiber_plot_angle','depth']].shape[0]))])+''.join([f' L{xy[0][0]-10},{xy[0][1]} Z' if xy[1]==0 else f' L{xy[0][0]-10},{xy[0][1]}' for xy in zip(combined_k.loc[combined_k['type']=='CableDetectionClamp', ['fiber_plot_angle','depth']].values,range(combined_k.loc[combined_k['type']=='CableDetectionClamp', ['fiber_plot_angle','depth']].shape[0]))][::-1])\n",
    "\n",
    "fig.update_layout(shapes=[dict(type=\"path\", path=gozone_svg, fillcolor='rgba(154,205,50,0.2)', line=dict(width=0), layer='below'), dict(type=\"path\", path=nogozone_svg, fillcolor='rgba(255,69,0,0.2)', line=dict(width=0), layer='below')])\n",
    "\n",
    "# Add traces\n",
    "fig.add_trace(go.Scatter(x=combined_k.loc[combined_k['type']=='CableDetectionClamp', 'plot_angle'], y=combined_k.loc[combined_k['type']=='CableDetectionClamp', 'depth'], mode='markers', name='CableDetectionClamp', marker_color='forestgreen', customdata=combined_k.loc[combined_k['type']=='CableDetectionClamp', ['hadware_name', 'angle_rounded']]))\n",
    "\n",
    "fig.add_trace(go.Scatter(x=combined_k.loc[combined_k['type']=='CrossCouplingProtector', 'plot_angle'], y=combined_k.loc[combined_k['type']=='CrossCouplingProtector', 'depth'], mode='markers', name='CrossCouplingProtector', marker_color='darkolivegreen', customdata=combined_k.loc[combined_k['type']=='CrossCouplingProtector', ['hadware_name', 'angle_rounded']]))\n",
    "\n",
    "fig.add_trace(go.Scatter(x=combined_k.loc[combined_k['type']=='Centralizer', 'plot_angle'], y=combined_k.loc[combined_k['type']=='Centralizer', 'depth'], mode='markers', name='Centralizer', marker_color='cadetblue', customdata=combined_k.loc[combined_k['type']=='Centralizer', ['hadware_name', 'angle_rounded']]))\n",
    "\n",
    "# fig.add_trace(go.Scatter(x=combined_k.loc[combined_k['type']=='PERFS', 'plot_angle'], y=combined_k.loc[combined_k['type']=='PERFS', 'depth'], mode='markers', name='PERFS', marker_color='navy', customdata=combined_k.loc[combined_k['type']=='PERFS', ['name', 'angle_rounded']]))\n",
    "\n",
    "fig.add_trace(go.Scatter(x=combined_k.loc[combined_k['type']=='CableDetectionClamp', 'fiber_plot_angle'], y=combined_k.loc[combined_k['type']=='CableDetectionClamp', 'depth'], mode='lines+markers', name='Fiber Wire', marker_color='crimson', customdata=combined_k.loc[combined_k['type']=='CableDetectionClamp', ['hadware_name', 'fiber_angle_rounded']]))\n",
    "\n",
    "fig.update_traces(hovertemplate='%{customdata[0]}<br>%{customdata[1]}')\n",
    "fig.update_xaxes(range=[-270, 100])\n",
    "fig.update_yaxes(autorange=\"reversed\")\n",
    "fig.update_layout(hovermode=\"y\", title=\"Fiber cable orientation main2\", legend_title=\"Type\", legend_orientation=\"h\", template=\"plotly\", yaxis_title=\"Depth\", xaxis_title='AngleFromHighSideClockwiseDegrees')\n",
    "fig.show()"
   ]
  },
  {
   "cell_type": "code",
   "execution_count": null,
   "metadata": {},
   "outputs": [],
   "source": [
    "pio.write_html(fig, file='plotly/446_plot_main2.html', auto_open=False)\n",
    "# pio.write_html(pie, file='plotly/445_pie.html', auto_open=False)"
   ]
  },
  {
   "cell_type": "markdown",
   "metadata": {},
   "source": [
    "X CHECK"
   ]
  },
  {
   "cell_type": "code",
   "execution_count": null,
   "metadata": {},
   "outputs": [],
   "source": [
    "combined_x = pd.concat([features, features_k])\n",
    "combined_x['plot_angle'] = [angle-360 if angle > 100 else angle for angle in combined_x['AngleFromHighSideClockwiseDegrees']] # plot angle for rest\n",
    "combined_x['angle_rounded'] = combined_x['AngleFromHighSideClockwiseDegrees'].round(0)\n",
    "combined_x['fiber_angle_rounded'] = combined_x['fiberAngleFromHighSideClockwiseDegrees'].round(0)"
   ]
  },
  {
   "cell_type": "code",
   "execution_count": null,
   "metadata": {},
   "outputs": [],
   "source": [
    "fig = go.Figure()\n",
    "\n",
    "# # Add windows\n",
    "# gozone_svg = ''.join([f'M {xy[0][0]+30},{xy[0][1]} ' if xy[1]==0 else f'L{xy[0][0]+30},{xy[0][1]} ' for xy in zip(combined_x.loc[combined_x['type']=='CableDetectionClamp', ['plot_angle','depth']].values,range(combined_x.loc[combined_x['type']=='CableDetectionClamp', ['plot_angle','depth']].shape[0]))])+''.join([f' L{xy[0][0]-30},{xy[0][1]} Z' if xy[1]==0 else f' L{xy[0][0]-30},{xy[0][1]}' for xy in zip(combined_x.loc[combined_x['type']=='CableDetectionClamp', ['plot_angle','depth']].values,range(combined_x.loc[combined_x['type']=='CableDetectionClamp', ['plot_angle','depth']].shape[0]))][::-1])\n",
    "\n",
    "# nogozone_svg = ''.join([f'M {xy[0][0]+10},{xy[0][1]} ' if xy[1]==0 else f'L{xy[0][0]+10},{xy[0][1]} ' for xy in zip(combined_x.loc[combined_x['type']=='CableDetectionClamp', ['fiber_plot_angle','depth']].values,range(combined_x.loc[combined_x['type']=='CableDetectionClamp', ['fiber_plot_angle','depth']].shape[0]))])+''.join([f' L{xy[0][0]-10},{xy[0][1]} Z' if xy[1]==0 else f' L{xy[0][0]-10},{xy[0][1]}' for xy in zip(combined_x.loc[combined_x['type']=='CableDetectionClamp', ['fiber_plot_angle','depth']].values,range(combined_x.loc[combined_x['type']=='CableDetectionClamp', ['fiber_plot_angle','depth']].shape[0]))][::-1])\n",
    "\n",
    "# fig.update_layout(shapes=[dict(type=\"path\", path=gozone_svg, fillcolor='rgba(154,205,50,0.2)', line=dict(width=0), layer='below'), dict(type=\"path\", path=nogozone_svg, fillcolor='rgba(255,69,0,0.2)', line=dict(width=0), layer='below')])\n",
    "\n",
    "# Add traces\n",
    "fig.add_trace(go.Scatter(x=combined_x.loc[(combined_x['type']=='CableDetectionClamp') & (combined_x['passName']=='mainpass_up1_autogain'), 'plot_angle'], y=combined_x.loc[(combined_x['type']=='CableDetectionClamp') & (combined_x['passName']=='mainpass_up1_autogain'), 'depth'], mode='markers', name='CableDetectionClamp main 1', marker_color='blue', customdata=combined_x.loc[(combined_x['type']=='CableDetectionClamp') & (combined_x['passName']=='mainpass_up1_autogain'), ['hadware_name', 'angle_rounded', 'passName']]))\n",
    "\n",
    "fig.add_trace(go.Scatter(x=combined_x.loc[(combined_x['type']=='CableDetectionClamp') & (combined_x['passName']=='mainpass_up2_autogain'), 'plot_angle'], y=combined_x.loc[(combined_x['type']=='CableDetectionClamp') & (combined_x['passName']=='mainpass_up2_autogain'), 'depth'], mode='markers', name='CableDetectionClamp main 2', marker_color='red', customdata=combined_x.loc[(combined_x['type']=='CableDetectionClamp') & (combined_x['passName']=='mainpass_up2_autogain'), ['hadware_name', 'angle_rounded', 'passName']]))\n",
    "\n",
    "# fig.add_trace(go.Scatter(x=combined_x.loc[combined_x['type']=='CrossCouplingProtector', 'plot_angle'], y=combined_x.loc[combined_x['type']=='CrossCouplingProtector', 'depth'], mode='markers', name='CrossCouplingProtector', marker_color='darkolivegreen', customdata=combined_x.loc[combined_x['type']=='CrossCouplingProtector', ['hadware_name', 'angle_rounded']]))\n",
    "\n",
    "# fig.add_trace(go.Scatter(x=combined_x.loc[combined_x['type']=='Centralizer', 'plot_angle'], y=combined_x.loc[combined_x['type']=='Centralizer', 'depth'], mode='markers', name='Centralizer', marker_color='cadetblue', customdata=combined_x.loc[combined_x['type']=='Centralizer', ['hadware_name', 'angle_rounded']]))\n",
    "\n",
    "# fig.add_trace(go.Scatter(x=combined_x.loc[combined_x['type']=='Other', 'plot_angle'], y=combined_x.loc[combined_x['type']=='Other', 'depth'], mode='markers', name='Other', marker_color='navy', customdata=combined_x.loc[combined_x['type']=='Other', ['hadware_name', 'angle_rounded']]))\n",
    "\n",
    "# fig.add_trace(go.Scatter(x=combined_x.loc[combined_x['type']=='PERFS', 'plot_angle'], y=combined_x.loc[combined_x['type']=='PERFS', 'depth'], mode='markers', name='PERFS', marker_color='navy', customdata=combined_x.loc[combined_x['type']=='PERFS', ['name', 'angle_rounded']]))\n",
    "\n",
    "# fig.add_trace(go.Scatter(x=combined_x.loc[combined_x['type']=='CableDetectionClamp', 'fiber_plot_angle'], y=combined_x.loc[combined_x['type']=='CableDetectionClamp', 'depth'], mode='lines+markers', name='Fiber Wire', marker_color='crimson', customdata=combined_x.loc[combined_x['type']=='CableDetectionClamp', ['hadware_name', 'fiber_angle_rounded']]))\n",
    "\n",
    "fig.update_traces(hovertemplate='%{customdata[0]}<br>%{customdata[2]}<br>%{customdata[1]}')\n",
    "fig.update_xaxes(range=[-240, -100])\n",
    "fig.update_yaxes(autorange=\"reversed\")\n",
    "fig.update_layout(hovermode=\"y\", title=\"x check\", legend_title=\"Type\", legend_orientation=\"h\", template=\"plotly\", yaxis_title=\"Depth\", xaxis_title='AngleFromHighSideClockwiseDegrees')\n",
    "fig.show()"
   ]
  },
  {
   "cell_type": "code",
   "execution_count": null,
   "metadata": {},
   "outputs": [],
   "source": [
    "pio.write_html(fig, file='plotly/446_plot_xcheck.html', auto_open=False)"
   ]
  },
  {
   "cell_type": "code",
   "execution_count": null,
   "metadata": {},
   "outputs": [],
   "source": []
  }
 ],
 "metadata": {
  "interpreter": {
   "hash": "882840e2e09474506e728863248fb9b9eb6d35ae05d6a2e3e1c3c5fa48a89a79"
  },
  "kernelspec": {
   "display_name": "Python 3.9.12 ('.virtualenv_p10': venv)",
   "language": "python",
   "name": "python3"
  },
  "language_info": {
   "codemirror_mode": {
    "name": "ipython",
    "version": 3
   },
   "file_extension": ".py",
   "mimetype": "text/x-python",
   "name": "python",
   "nbconvert_exporter": "python",
   "pygments_lexer": "ipython3",
   "version": "3.9.12"
  },
  "orig_nbformat": 4
 },
 "nbformat": 4,
 "nbformat_minor": 2
}
