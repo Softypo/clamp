{
 "cells": [
  {
   "cell_type": "code",
   "execution_count": 1,
   "metadata": {},
   "outputs": [],
   "source": [
    "import re\n",
    "import pandas as pd\n",
    "import plotly.io as pio\n",
    "import plotly.express as px\n",
    "from plotly.subplots import make_subplots\n",
    "import plotly.graph_objects as go\n",
    "\n",
    "pd.options.plotting.backend = \"plotly\""
   ]
  },
  {
   "cell_type": "code",
   "execution_count": 20,
   "metadata": {},
   "outputs": [],
   "source": [
    "cc = pd.read_csv('data/446/DVT446_clamps.csv', usecols=[0,1,2,4,10])\n",
    "cc['name'] = [re.sub(r'\\s+', '', name) for name in cc['name']] # remove whitespace\n",
    "cc.rename(columns={'perfAngleFromHighSideClockwiseDegrees': 'clampsTOH'}, inplace=True)\n",
    "cc['type'] = ['CableDetectionClamp' if 'CDC' in name else 'CrossCouplingProtector' if 'CCP' in name else 'Centralizer' if 'CENT' in name else 'Other' for name in cc['name']]\n",
    "cc['hadware_name'] = [name.split('.')[0] for name in cc['name']]\n",
    "cc['obs'] = [name.split('-')[1] if '-' in name else pd.NA for name in cc['name']]\n",
    "\n",
    "#cc = cc.loc[cc['type'] == 'OrientationClamp']\n",
    "\n",
    "# perfs = pd.read_csv('data\\mabee2606_perfs_BIASED.csv', usecols=[0,1,7])\n",
    "# perfs['type'] = 'PERFS'\n",
    "# perfs.rename(columns={'perfAngleFromHighSideClockwiseDegrees': 'AngleFromHighSideClockwiseDegrees'}, inplace=True)"
   ]
  },
  {
   "cell_type": "code",
   "execution_count": 13,
   "metadata": {},
   "outputs": [],
   "source": [
    "cc_k = cc.loc[cc['passName'] == 'mainpass_up2_autogain']\n",
    "cc = cc.loc[cc['passName'] == 'mainpass_up1_autogain']"
   ]
  },
  {
   "cell_type": "code",
   "execution_count": 14,
   "metadata": {},
   "outputs": [],
   "source": [
    "# #deleting nv's rows\n",
    "# cc = cc.loc[cc['obs'] != 'NV']\n",
    "# cc_nv = cc.loc[cc['obs'] == 'NV']\n",
    "\n",
    "#set nv's to nan\n",
    "cc['obs'] = [obs if pd.isna(obs) else pd.NA if obs == 'NV' else obs for obs in cc['obs']]"
   ]
  },
  {
   "cell_type": "code",
   "execution_count": 16,
   "metadata": {},
   "outputs": [],
   "source": [
    "features = cc[['type', 'hadware_name', 'depth', 'clampsTOH', 'passName', 'obs']].groupby(['type', 'hadware_name', 'passName', 'obs'], dropna=False).median(numeric_only=True)\n",
    "features = features.sort_values(by=['depth'], ascending=False).reset_index()\n",
    "\n",
    "features['fiberTOH'] = [angle+180 if angle < 180 else angle-180 for angle in features['clampsTOH']] # angle for 180deg\n",
    "\n",
    "features['fiberTOH'] = [angle-270 if angle > 90 and ty=='Centralizer' else angle+270 if ty=='Centralizer' else angle for angle, ty in features[['fiberTOH', 'type']].values]  # angle for 90deg\n",
    "\n",
    "features['fiber_plot_angle'] = [angle-360 if angle > 180 else angle for angle in features['fiberTOH']] # fiver plot angle\n",
    "\n",
    "\n",
    "# combined = pd.concat([features, perfs])\n",
    "combined = features\n",
    "combined['plot_angle'] = [angle-360 if angle > 180 else angle for angle in combined['clampsTOH']] # plot angle\n",
    "#combined['angle_rounded'] = combined['AngleFromHighSideClockwiseDegrees'].round(0)\n",
    "#combined['fiber_angle_rounded'] = combined['fiberAngleFromHighSideClockwiseDegrees'].round(0)\n",
    "combined = combined.round(3)"
   ]
  },
  {
   "cell_type": "code",
   "execution_count": 17,
   "metadata": {},
   "outputs": [
    {
     "data": {
      "application/vnd.plotly.v1+json": {
       "config": {
        "plotlyServerURL": "https://plot.ly"
       },
       "data": [
        {
         "customdata": [
          [
           "CDC1",
           144,
           null
          ],
          [
           "CDC2",
           156,
           null
          ],
          [
           "CDC3",
           150,
           null
          ],
          [
           "CDC4",
           168,
           null
          ],
          [
           "CDC5",
           162,
           null
          ],
          [
           "CDC6",
           160,
           null
          ],
          [
           "CDC7",
           154,
           null
          ],
          [
           "CDC8",
           175,
           null
          ],
          [
           "CDC9",
           151,
           null
          ],
          [
           "CDC10",
           170,
           null
          ],
          [
           "CDC11",
           170,
           null
          ],
          [
           "CDC12",
           172,
           null
          ],
          [
           "CDC13",
           175,
           null
          ],
          [
           "CDC14",
           183,
           null
          ],
          [
           "CDC15",
           172,
           null
          ],
          [
           "CDC16",
           170,
           null
          ],
          [
           "CDC17",
           197,
           null
          ],
          [
           "CDC18",
           188,
           null
          ],
          [
           "CDC19",
           198,
           null
          ],
          [
           "CDC20",
           192,
           null
          ],
          [
           "CDC21",
           194,
           null
          ],
          [
           "CDC22",
           201,
           null
          ],
          [
           "CDC23",
           198,
           null
          ],
          [
           "CDC24",
           210,
           null
          ],
          [
           "CDC25",
           218,
           null
          ],
          [
           "CDC26",
           222,
           null
          ],
          [
           "CDC27",
           212,
           null
          ]
         ],
         "hovertemplate": "%{customdata[0]}<br>%{customdata[1]}",
         "marker": {
          "color": "forestgreen"
         },
         "mode": "markers",
         "name": "CableDetectionClamp",
         "type": "scatter",
         "x": [
          144.161,
          155.572,
          149.736,
          167.569,
          161.956,
          159.974,
          154.43,
          174.856,
          150.612,
          169.855,
          169.659,
          171.834,
          175.33,
          -176.934,
          171.98,
          170.495,
          -162.572,
          -172.446,
          -162.003,
          -168.042,
          -165.622,
          -158.678,
          -162.036,
          -150.166,
          -141.614,
          -138.204,
          -147.945
         ],
         "y": [
          6185.395,
          6103.77,
          6023.19,
          5942.088,
          5860.182,
          5779.254,
          5696.967,
          5615.283,
          5533.179,
          5451.514,
          5370.754,
          5284.725,
          5202.134,
          5116.405,
          5034.357,
          4953.244,
          4870.419,
          4787.543,
          4706.065,
          4623.843,
          4543.137,
          4460.615,
          4378.543,
          4296.704,
          4215.054,
          4134.034,
          4066.426
         ]
        },
        {
         "customdata": [
          [
           "CCPFET1",
           151,
           null
          ],
          [
           "CCP2",
           131,
           null
          ],
          [
           "CCP3",
           145,
           null
          ],
          [
           "CCP4",
           143,
           null
          ],
          [
           "CCP5",
           140,
           null
          ],
          [
           "CCP6",
           133,
           null
          ],
          [
           "CCP7",
           139,
           null
          ],
          [
           "CCP8",
           136,
           null
          ],
          [
           "CCP9",
           148,
           null
          ],
          [
           "CCP10",
           145,
           null
          ],
          [
           "CCP11",
           145,
           null
          ],
          [
           "CCP12",
           145,
           null
          ],
          [
           "CCP13",
           144,
           null
          ],
          [
           "CCP14",
           149,
           null
          ],
          [
           "CCP15",
           148,
           null
          ],
          [
           "CCP16",
           151,
           null
          ],
          [
           "CCP17",
           148,
           null
          ],
          [
           "CCP18",
           148,
           null
          ],
          [
           "CCP19",
           143,
           null
          ],
          [
           "CCP20",
           150,
           null
          ],
          [
           "CCP21",
           149,
           null
          ],
          [
           "CCP22",
           158,
           null
          ],
          [
           "CCP23",
           146,
           null
          ],
          [
           "CCP24",
           157,
           null
          ],
          [
           "CCP25",
           165,
           null
          ],
          [
           "CCP26",
           153,
           null
          ],
          [
           "CCP27",
           160,
           null
          ],
          [
           "CCP28",
           168,
           null
          ],
          [
           "CCP29",
           159,
           null
          ],
          [
           "CCP30",
           163,
           null
          ],
          [
           "CCP31",
           157,
           null
          ],
          [
           "CCP32",
           163,
           null
          ],
          [
           "CCP33",
           154,
           null
          ],
          [
           "CCP34",
           149,
           null
          ],
          [
           "CCP35",
           157,
           null
          ],
          [
           "CCP36",
           158,
           null
          ],
          [
           "CCP37",
           159,
           null
          ],
          [
           "CCP38",
           151,
           null
          ],
          [
           "CCP39",
           150,
           null
          ],
          [
           "CCP40",
           160,
           null
          ],
          [
           "CCP41",
           153,
           null
          ],
          [
           "CCP42",
           147,
           null
          ],
          [
           "CCP43",
           153,
           null
          ],
          [
           "CCP44",
           160,
           null
          ],
          [
           "CCP45",
           163,
           null
          ],
          [
           "CCP46",
           167,
           null
          ],
          [
           "CCP47",
           155,
           null
          ],
          [
           "CCP48",
           159,
           null
          ],
          [
           "CCP49",
           160,
           null
          ],
          [
           "CCP50",
           150,
           null
          ],
          [
           "CCP51",
           152,
           null
          ],
          [
           "CCP52",
           160,
           null
          ],
          [
           "CCP53",
           152,
           null
          ],
          [
           "CCP54",
           158,
           null
          ],
          [
           "CCP55",
           165,
           null
          ],
          [
           "CCP56",
           157,
           null
          ],
          [
           "CCP57",
           158,
           null
          ],
          [
           "CCP58",
           153,
           null
          ],
          [
           "CCP59",
           172,
           null
          ],
          [
           "CCP60",
           162,
           null
          ],
          [
           "CCP61",
           157,
           null
          ],
          [
           "CCP62",
           158,
           null
          ],
          [
           "CCP63",
           159,
           null
          ],
          [
           "CCP64",
           160,
           null
          ],
          [
           "CCP65",
           162,
           null
          ],
          [
           "CCP66",
           167,
           null
          ],
          [
           "CCP67",
           166,
           null
          ],
          [
           "CCP68",
           164,
           null
          ],
          [
           "CCP69",
           157,
           null
          ],
          [
           "CCP70",
           174,
           null
          ],
          [
           "CCP71",
           162,
           null
          ],
          [
           "CCP72",
           171,
           null
          ],
          [
           "CCP73",
           156,
           null
          ],
          [
           "CCP74",
           163,
           null
          ],
          [
           "CCP75",
           166,
           null
          ],
          [
           "CCP76",
           155,
           null
          ],
          [
           "CCP77",
           168,
           null
          ],
          [
           "CCP78",
           168,
           null
          ],
          [
           "CCP79",
           159,
           null
          ],
          [
           "CCP80",
           161,
           null
          ],
          [
           "CCP81",
           178,
           null
          ],
          [
           "CCP82",
           172,
           null
          ],
          [
           "CCP83",
           158,
           null
          ],
          [
           "CCP84",
           158,
           null
          ],
          [
           "CCP85",
           166,
           null
          ],
          [
           "CCP86",
           160,
           null
          ],
          [
           "CCP87",
           166,
           null
          ],
          [
           "CCP89",
           179,
           null
          ],
          [
           "CCP90",
           165,
           null
          ],
          [
           "CCP92",
           163,
           null
          ],
          [
           "CCP93",
           174,
           null
          ],
          [
           "CCP94",
           170,
           null
          ],
          [
           "CCP95",
           182,
           null
          ],
          [
           "CCP96",
           178,
           null
          ],
          [
           "CCP97",
           177,
           null
          ],
          [
           "CCP98",
           167,
           null
          ],
          [
           "CCP99",
           174,
           null
          ],
          [
           "CCP100",
           179,
           null
          ],
          [
           "CCP101",
           183,
           null
          ],
          [
           "CCP102",
           190,
           null
          ],
          [
           "CCP103",
           190,
           null
          ],
          [
           "CCP104",
           180,
           null
          ],
          [
           "CCP105",
           185,
           null
          ],
          [
           "CCP106",
           181,
           null
          ],
          [
           "CCP107",
           194,
           null
          ],
          [
           "CCP108",
           193,
           null
          ],
          [
           "CCP109",
           188,
           null
          ],
          [
           "CCP110",
           203,
           null
          ],
          [
           "CCP111",
           191,
           null
          ],
          [
           "CCP112",
           193,
           null
          ],
          [
           "CCP113",
           181,
           null
          ],
          [
           "CCP114",
           195,
           null
          ],
          [
           "CCP115",
           200,
           null
          ],
          [
           "CCP116",
           192,
           null
          ],
          [
           "CCP117",
           204,
           null
          ],
          [
           "CCP118",
           197,
           null
          ],
          [
           "CCP119",
           200,
           null
          ],
          [
           "CCP121",
           195,
           null
          ],
          [
           "CCP122",
           195,
           null
          ],
          [
           "CCP123",
           214,
           null
          ],
          [
           "CCP125",
           187,
           null
          ],
          [
           "CCP127",
           196,
           null
          ],
          [
           "CCP130",
           206,
           null
          ],
          [
           "CCP131",
           191,
           null
          ],
          [
           "CCP132",
           191,
           null
          ],
          [
           "CCP133",
           194,
           null
          ],
          [
           "CCP134",
           184,
           null
          ],
          [
           "CCP135",
           208,
           null
          ],
          [
           "CCP136",
           204,
           null
          ],
          [
           "CCP137",
           219,
           null
          ],
          [
           "CCP138",
           198,
           null
          ],
          [
           "CCP139",
           206,
           null
          ],
          [
           "CCP140",
           194,
           null
          ],
          [
           "CCP141",
           213,
           null
          ],
          [
           "CCP142",
           199,
           null
          ],
          [
           "CCP143",
           213,
           null
          ],
          [
           "CCP144",
           210,
           null
          ],
          [
           "CCP146",
           201,
           null
          ],
          [
           "CCP148",
           202,
           null
          ],
          [
           "CCP149",
           211,
           null
          ],
          [
           "CCP150",
           192,
           null
          ],
          [
           "CCP151",
           199,
           null
          ],
          [
           "CCP152",
           211,
           null
          ],
          [
           "CCP153",
           213,
           null
          ],
          [
           "CCP154",
           195,
           null
          ],
          [
           "CCP157",
           207,
           null
          ],
          [
           "CCP159",
           206,
           null
          ],
          [
           "CCP162",
           202,
           null
          ],
          [
           "CCP165",
           200,
           null
          ],
          [
           "CCP170",
           217,
           null
          ],
          [
           "CCP172",
           224,
           null
          ],
          [
           "CCP173",
           208,
           null
          ],
          [
           "CCP174",
           197,
           null
          ],
          [
           "CCP176",
           196,
           null
          ]
         ],
         "hovertemplate": "%{customdata[0]}<br>%{customdata[1]}",
         "marker": {
          "color": "darkolivegreen"
         },
         "mode": "markers",
         "name": "CrossCouplingProtector",
         "type": "scatter",
         "x": [
          151.278,
          130.911,
          145.127,
          143.048,
          139.5,
          132.6,
          138.958,
          135.593,
          148.196,
          144.787,
          145.025,
          145.328,
          144.193,
          149.471,
          147.833,
          150.966,
          147.853,
          147.965,
          142.673,
          150.228,
          148.816,
          157.709,
          145.614,
          157.295,
          164.974,
          153.243,
          160.002,
          167.51,
          158.715,
          162.757,
          156.52,
          163.015,
          153.578,
          148.745,
          157.211,
          157.78,
          159.18,
          151.336,
          149.937,
          159.672,
          152.846,
          147.149,
          153.046,
          160.152,
          163.362,
          167.388,
          154.506,
          159.365,
          160.031,
          150.42,
          151.63,
          160.395,
          152.194,
          158.383,
          165.199,
          156.73,
          157.926,
          152.925,
          172.007,
          162.11,
          156.769,
          157.932,
          158.972,
          159.533,
          161.753,
          166.967,
          166.128,
          163.68,
          157.395,
          174.166,
          162.295,
          171.388,
          156.334,
          163.163,
          166.278,
          155.318,
          167.693,
          168.15,
          159.227,
          160.848,
          177.645,
          171.76,
          157.699,
          157.54,
          165.781,
          159.659,
          166.482,
          179.329,
          164.52,
          162.962,
          174.405,
          169.662,
          -178.145,
          178.104,
          176.731,
          167.444,
          174.135,
          179.431,
          -177.201,
          -170.353,
          -169.668,
          -179.871,
          -175.187,
          -178.722,
          -166.037,
          -166.697,
          -171.851,
          -157.066,
          -169.433,
          -166.922,
          -178.927,
          -164.617,
          -159.972,
          -167.598,
          -156.151,
          -162.671,
          -160.006,
          -165.202,
          -164.574,
          -145.819,
          -172.769,
          -164.072,
          -154.271,
          -169.256,
          -169.008,
          -165.863,
          -175.911,
          -152.459,
          -155.627,
          -141.124,
          -162.166,
          -154.165,
          -165.727,
          -147.367,
          -160.747,
          -147.038,
          -150.243,
          -158.88,
          -157.922,
          -148.861,
          -167.841,
          -161.227,
          -149.187,
          -147.415,
          -164.617,
          -153.013,
          -154.332,
          -157.756,
          -159.711,
          -143.439,
          -135.689,
          -152.116,
          -163.105,
          -163.565
         ],
         "y": [
          6206.965,
          6192.956,
          6179.245,
          6165.215,
          6151.634,
          6138.018,
          6124.509,
          6111,
          6097.449,
          6084.053,
          6070.355,
          6057.126,
          6043.897,
          6030.379,
          6016.72,
          6003.185,
          5989.56,
          5976.191,
          5962.66,
          5949.334,
          5935.377,
          5921.686,
          5908.023,
          5894.365,
          5880.773,
          5867.542,
          5853.543,
          5839.962,
          5826.596,
          5813.184,
          5799.847,
          5786.308,
          5772.917,
          5759.604,
          5746.057,
          5732.517,
          5718.549,
          5704.88,
          5691.261,
          5677.534,
          5663.933,
          5650.269,
          5635.958,
          5622.339,
          5608.615,
          5594.985,
          5581.855,
          5568.206,
          5554.324,
          5540.689,
          5527.028,
          5513.673,
          5499.991,
          5486.391,
          5472.716,
          5458.973,
          5445.77,
          5432.078,
          5419.084,
          5405.401,
          5391.752,
          5378.075,
          5364.486,
          5350.006,
          5335.599,
          5321.408,
          5306.975,
          5292.544,
          5278.194,
          5264.777,
          5251.439,
          5237.784,
          5224.485,
          5210.013,
          5195.647,
          5181.362,
          5166.964,
          5152.551,
          5138.16,
          5124.789,
          5110.309,
          5096.929,
          5082.569,
          5068.935,
          5055.27,
          5041.928,
          5028.596,
          5000.938,
          4987.571,
          4959.572,
          4946.938,
          4932.443,
          4919.144,
          4904.598,
          4891.642,
          4877.92,
          4864.286,
          4850.301,
          4836.653,
          4822.778,
          4808.423,
          4794.742,
          4781.169,
          4767.914,
          4754.258,
          4741.277,
          4727.579,
          4713.96,
          4699.652,
          4686.006,
          4672.391,
          4658.712,
          4645.127,
          4631.422,
          4617.817,
          4603.823,
          4590.188,
          4563.501,
          4550.18,
          4536.482,
          4509.694,
          4481.679,
          4440.514,
          4426.856,
          4413.137,
          4399.469,
          4385.8,
          4372.162,
          4358.536,
          4344.895,
          4331.248,
          4317.522,
          4303.866,
          4290.238,
          4276.576,
          4262.852,
          4249.815,
          4222.545,
          4195.263,
          4181.64,
          4167.656,
          4154.066,
          4140.773,
          4127.573,
          4114.243,
          4073.808,
          4046.812,
          4006.505,
          3966.641,
          3901.265,
          3872.598,
          3858.208,
          3844.519,
          3826.207
         ]
        },
        {
         "customdata": [
          [
           "CCP88",
           161,
           "NVNH"
          ],
          [
           "CCP91",
           166,
           "NVNH"
          ],
          [
           "CCP120",
           190,
           "NVNH"
          ],
          [
           "CCP124",
           201,
           "NVNH"
          ],
          [
           "CCP126",
           205,
           "NVNH"
          ],
          [
           "CCP128",
           201,
           "NVNH"
          ],
          [
           "CCP129",
           193,
           "NVNH"
          ],
          [
           "CCP145",
           216,
           "NVNH"
          ],
          [
           "CCP147",
           209,
           "NVNH"
          ],
          [
           "CCP155",
           214,
           "NVNH"
          ],
          [
           "CCP156",
           207,
           "NVNH"
          ],
          [
           "CCP158",
           210,
           "NVNH"
          ],
          [
           "CCP160",
           216,
           "NVNH"
          ],
          [
           "CCP161",
           210,
           "NVNH"
          ],
          [
           "CCP163",
           206,
           "NVNH"
          ],
          [
           "CCP164",
           205,
           "NVNH"
          ],
          [
           "CCP166",
           212,
           "NVNH"
          ],
          [
           "CCP167",
           216,
           "NVNH"
          ],
          [
           "CCP168",
           219,
           "NVNH"
          ],
          [
           "CCP169",
           218,
           "NVNH"
          ],
          [
           "CCP171",
           217,
           "NVNH"
          ],
          [
           "CCP175",
           210,
           "NVNH"
          ]
         ],
         "hovertemplate": "%{customdata[0]}<br>%{customdata[1]}",
         "marker": {
          "color": "red"
         },
         "mode": "markers",
         "name": "CrossCouplingProtector NVNH",
         "type": "scatter",
         "x": [
          160.526,
          165.694,
          -170.452,
          -159.308,
          -154.697,
          -159.383,
          -166.812,
          -144.43,
          -150.772,
          -145.703,
          -153.324,
          -150.432,
          -143.628,
          -150.385,
          -154.262,
          -155.305,
          -147.767,
          -143.81,
          -140.562,
          -141.68,
          -142.878,
          -149.576
         ],
         "y": [
          5015.272,
          4973.906,
          4576.518,
          4522.94,
          4495.378,
          4467.905,
          4454.243,
          4236.196,
          4208.918,
          4100.771,
          4087.408,
          4060.515,
          4033.373,
          4020.259,
          3993.08,
          3979.748,
          3953.33,
          3939.971,
          3926.423,
          3912.752,
          3886.958,
          3830.756
         ]
        },
        {
         "customdata": [
          [
           "CENT0",
           268,
           null
          ],
          [
           "CENT1",
           246,
           null
          ],
          [
           "CENT2",
           248,
           null
          ],
          [
           "CENT3",
           229,
           null
          ],
          [
           "CENT4",
           239,
           null
          ],
          [
           "CENT5",
           247,
           null
          ],
          [
           "CENT6",
           242,
           null
          ],
          [
           "CENT7",
           244,
           null
          ],
          [
           "CENT8",
           264,
           null
          ],
          [
           "CENT9",
           236,
           null
          ],
          [
           "CENT10",
           241,
           null
          ],
          [
           "CENT11",
           240,
           null
          ],
          [
           "CENT12",
           247,
           null
          ],
          [
           "CENT13",
           241,
           null
          ],
          [
           "CENT14",
           239,
           null
          ],
          [
           "CENT15",
           235,
           null
          ],
          [
           "CENT16",
           253,
           null
          ]
         ],
         "hovertemplate": "%{customdata[0]}<br>%{customdata[1]}",
         "marker": {
          "color": "cadetblue"
         },
         "mode": "markers",
         "name": "Centralizer",
         "type": "scatter",
         "x": [
          -92.253,
          -114.189,
          -111.657,
          -131.282,
          -121.003,
          -113.351,
          -117.649,
          -115.884,
          -96.242,
          -123.54,
          -118.733,
          -120.394,
          -112.933,
          -118.92,
          -120.636,
          -125.112,
          -107.016
         ],
         "y": [
          6207.24,
          6200.293,
          6186.62,
          6172.567,
          6158.871,
          6144.985,
          6131.624,
          6118.242,
          6105.174,
          6091.257,
          6077.412,
          6064.102,
          6051.11,
          6037.729,
          6024.482,
          6010.201,
          5996.789
         ]
        },
        {
         "customdata": [
          [
           "CENT0",
           358
          ],
          [
           "CCPFET1",
           331
          ],
          [
           "CENT1",
           336
          ],
          [
           "CCP2",
           311
          ],
          [
           "CENT2",
           338
          ],
          [
           "CDC1",
           324
          ],
          [
           "CCP3",
           325
          ],
          [
           "CENT3",
           319
          ],
          [
           "CCP4",
           323
          ],
          [
           "CENT4",
           329
          ],
          [
           "CCP5",
           320
          ],
          [
           "CENT5",
           337
          ],
          [
           "CCP6",
           313
          ],
          [
           "CENT6",
           332
          ],
          [
           "CCP7",
           319
          ],
          [
           "CENT7",
           334
          ],
          [
           "CCP8",
           316
          ],
          [
           "CENT8",
           354
          ],
          [
           "CDC2",
           336
          ],
          [
           "CCP9",
           328
          ],
          [
           "CENT9",
           326
          ],
          [
           "CCP10",
           325
          ],
          [
           "CENT10",
           331
          ],
          [
           "CCP11",
           325
          ],
          [
           "CENT11",
           330
          ],
          [
           "CCP12",
           325
          ],
          [
           "CENT12",
           337
          ],
          [
           "CCP13",
           324
          ],
          [
           "CENT13",
           331
          ],
          [
           "CCP14",
           329
          ],
          [
           "CENT14",
           329
          ],
          [
           "CDC3",
           330
          ],
          [
           "CCP15",
           328
          ],
          [
           "CENT15",
           325
          ],
          [
           "CCP16",
           331
          ],
          [
           "CENT16",
           343
          ],
          [
           "CCP17",
           328
          ],
          [
           "CCP18",
           328
          ],
          [
           "CCP19",
           323
          ],
          [
           "CCP20",
           330
          ],
          [
           "CDC4",
           348
          ],
          [
           "CCP21",
           329
          ],
          [
           "CCP22",
           338
          ],
          [
           "CCP23",
           326
          ],
          [
           "CCP24",
           337
          ],
          [
           "CCP25",
           345
          ],
          [
           "CCP26",
           333
          ],
          [
           "CDC5",
           342
          ],
          [
           "CCP27",
           340
          ],
          [
           "CCP28",
           348
          ],
          [
           "CCP29",
           339
          ],
          [
           "CCP30",
           343
          ],
          [
           "CCP31",
           337
          ],
          [
           "CCP32",
           343
          ],
          [
           "CDC6",
           340
          ],
          [
           "CCP33",
           334
          ],
          [
           "CCP34",
           329
          ],
          [
           "CCP35",
           337
          ],
          [
           "CCP36",
           338
          ],
          [
           "CCP37",
           339
          ],
          [
           "CCP38",
           331
          ],
          [
           "CDC7",
           334
          ],
          [
           "CCP39",
           330
          ],
          [
           "CCP40",
           340
          ],
          [
           "CCP41",
           333
          ],
          [
           "CCP42",
           327
          ],
          [
           "CCP43",
           333
          ],
          [
           "CCP44",
           340
          ],
          [
           "CDC8",
           355
          ],
          [
           "CCP45",
           343
          ],
          [
           "CCP46",
           347
          ],
          [
           "CCP47",
           335
          ],
          [
           "CCP48",
           339
          ],
          [
           "CCP49",
           340
          ],
          [
           "CCP50",
           330
          ],
          [
           "CDC9",
           331
          ],
          [
           "CCP51",
           332
          ],
          [
           "CCP52",
           340
          ],
          [
           "CCP53",
           332
          ],
          [
           "CCP54",
           338
          ],
          [
           "CCP55",
           345
          ],
          [
           "CCP56",
           337
          ],
          [
           "CDC10",
           350
          ],
          [
           "CCP57",
           338
          ],
          [
           "CCP58",
           333
          ],
          [
           "CCP59",
           352
          ],
          [
           "CCP60",
           342
          ],
          [
           "CCP61",
           337
          ],
          [
           "CCP62",
           338
          ],
          [
           "CDC11",
           350
          ],
          [
           "CCP63",
           339
          ],
          [
           "CCP64",
           340
          ],
          [
           "CCP65",
           342
          ],
          [
           "CCP66",
           347
          ],
          [
           "CCP67",
           346
          ],
          [
           "CCP68",
           344
          ],
          [
           "CDC12",
           352
          ],
          [
           "CCP69",
           337
          ],
          [
           "CCP70",
           354
          ],
          [
           "CCP71",
           342
          ],
          [
           "CCP72",
           351
          ],
          [
           "CCP73",
           336
          ],
          [
           "CCP74",
           343
          ],
          [
           "CDC13",
           355
          ],
          [
           "CCP75",
           346
          ],
          [
           "CCP76",
           335
          ],
          [
           "CCP77",
           348
          ],
          [
           "CCP78",
           348
          ],
          [
           "CCP79",
           339
          ],
          [
           "CCP80",
           341
          ],
          [
           "CDC14",
           3
          ],
          [
           "CCP81",
           358
          ],
          [
           "CCP82",
           352
          ],
          [
           "CCP83",
           338
          ],
          [
           "CCP84",
           338
          ],
          [
           "CCP85",
           346
          ],
          [
           "CCP86",
           340
          ],
          [
           "CDC15",
           352
          ],
          [
           "CCP87",
           346
          ],
          [
           "CCP88",
           341
          ],
          [
           "CCP89",
           359
          ],
          [
           "CCP90",
           345
          ],
          [
           "CCP91",
           346
          ],
          [
           "CCP92",
           343
          ],
          [
           "CDC16",
           350
          ],
          [
           "CCP93",
           354
          ],
          [
           "CCP94",
           350
          ],
          [
           "CCP95",
           2
          ],
          [
           "CCP96",
           358
          ],
          [
           "CCP97",
           357
          ],
          [
           "CCP98",
           347
          ],
          [
           "CDC17",
           17
          ],
          [
           "CCP99",
           354
          ],
          [
           "CCP100",
           359
          ],
          [
           "CCP101",
           3
          ],
          [
           "CCP102",
           10
          ],
          [
           "CCP103",
           10
          ],
          [
           "CCP104",
           0
          ],
          [
           "CDC18",
           8
          ],
          [
           "CCP105",
           5
          ],
          [
           "CCP106",
           1
          ],
          [
           "CCP107",
           14
          ],
          [
           "CCP108",
           13
          ],
          [
           "CCP109",
           8
          ],
          [
           "CCP110",
           23
          ],
          [
           "CDC19",
           18
          ],
          [
           "CCP111",
           11
          ],
          [
           "CCP112",
           13
          ],
          [
           "CCP113",
           1
          ],
          [
           "CCP114",
           15
          ],
          [
           "CCP115",
           20
          ],
          [
           "CCP116",
           12
          ],
          [
           "CDC20",
           12
          ],
          [
           "CCP117",
           24
          ],
          [
           "CCP118",
           17
          ],
          [
           "CCP119",
           20
          ],
          [
           "CCP120",
           10
          ],
          [
           "CCP121",
           15
          ],
          [
           "CCP122",
           15
          ],
          [
           "CDC21",
           14
          ],
          [
           "CCP123",
           34
          ],
          [
           "CCP124",
           21
          ],
          [
           "CCP125",
           7
          ],
          [
           "CCP126",
           25
          ],
          [
           "CCP127",
           16
          ],
          [
           "CCP128",
           21
          ],
          [
           "CDC22",
           21
          ],
          [
           "CCP129",
           13
          ],
          [
           "CCP130",
           26
          ],
          [
           "CCP131",
           11
          ],
          [
           "CCP132",
           11
          ],
          [
           "CCP133",
           14
          ],
          [
           "CCP134",
           4
          ],
          [
           "CDC23",
           18
          ],
          [
           "CCP135",
           28
          ],
          [
           "CCP136",
           24
          ],
          [
           "CCP137",
           39
          ],
          [
           "CCP138",
           18
          ],
          [
           "CCP139",
           26
          ],
          [
           "CCP140",
           14
          ],
          [
           "CDC24",
           30
          ],
          [
           "CCP141",
           33
          ],
          [
           "CCP142",
           19
          ],
          [
           "CCP143",
           33
          ],
          [
           "CCP144",
           30
          ],
          [
           "CCP145",
           36
          ],
          [
           "CCP146",
           21
          ],
          [
           "CDC25",
           38
          ],
          [
           "CCP147",
           29
          ],
          [
           "CCP148",
           22
          ],
          [
           "CCP149",
           31
          ],
          [
           "CCP150",
           12
          ],
          [
           "CCP151",
           19
          ],
          [
           "CCP152",
           31
          ],
          [
           "CDC26",
           42
          ],
          [
           "CCP153",
           33
          ],
          [
           "CCP154",
           15
          ],
          [
           "CCP155",
           34
          ],
          [
           "CCP156",
           27
          ],
          [
           "CCP157",
           27
          ],
          [
           "CDC27",
           32
          ],
          [
           "CCP158",
           30
          ],
          [
           "CCP159",
           26
          ],
          [
           "CCP160",
           36
          ],
          [
           "CCP161",
           30
          ],
          [
           "CCP162",
           22
          ],
          [
           "CCP163",
           26
          ],
          [
           "CCP164",
           25
          ],
          [
           "CCP165",
           20
          ],
          [
           "CCP166",
           32
          ],
          [
           "CCP167",
           36
          ],
          [
           "CCP168",
           39
          ],
          [
           "CCP169",
           38
          ],
          [
           "CCP170",
           37
          ],
          [
           "CCP171",
           37
          ],
          [
           "CCP172",
           44
          ],
          [
           "CCP173",
           28
          ],
          [
           "CCP174",
           17
          ],
          [
           "CCP175",
           30
          ],
          [
           "CCP176",
           16
          ]
         ],
         "hovertemplate": "%{customdata[0]}<br>%{customdata[1]}",
         "marker": {
          "color": "crimson"
         },
         "mode": "lines+markers",
         "name": "Fiber Wire",
         "type": "scatter",
         "x": [
          -2.253,
          -28.722,
          -24.189,
          -49.089,
          -21.657,
          -35.839,
          -34.873,
          -41.282,
          -36.952,
          -31.003,
          -40.5,
          -23.351,
          -47.4,
          -27.649,
          -41.042,
          -25.884,
          -44.407,
          -6.242,
          -24.428,
          -31.804,
          -33.54,
          -35.213,
          -28.733,
          -34.975,
          -30.394,
          -34.672,
          -22.933,
          -35.807,
          -28.92,
          -30.529,
          -30.636,
          -30.264,
          -32.167,
          -35.112,
          -29.034,
          -17.016,
          -32.147,
          -32.035,
          -37.327,
          -29.772,
          -12.431,
          -31.184,
          -22.291,
          -34.386,
          -22.705,
          -15.026,
          -26.757,
          -18.044,
          -19.998,
          -12.49,
          -21.285,
          -17.243,
          -23.48,
          -16.985,
          -20.026,
          -26.422,
          -31.255,
          -22.789,
          -22.22,
          -20.82,
          -28.664,
          -25.57,
          -30.063,
          -20.328,
          -27.154,
          -32.851,
          -26.954,
          -19.848,
          -5.144,
          -16.638,
          -12.612,
          -25.494,
          -20.635,
          -19.969,
          -29.58,
          -29.388,
          -28.37,
          -19.605,
          -27.806,
          -21.617,
          -14.801,
          -23.27,
          -10.145,
          -22.074,
          -27.075,
          -7.993,
          -17.89,
          -23.231,
          -22.068,
          -10.341,
          -21.028,
          -20.467,
          -18.247,
          -13.033,
          -13.872,
          -16.32,
          -8.166,
          -22.605,
          -5.834,
          -17.705,
          -8.612,
          -23.666,
          -16.837,
          -4.67,
          -13.722,
          -24.682,
          -12.307,
          -11.85,
          -20.773,
          -19.152,
          3.066,
          -2.355,
          -8.24,
          -22.301,
          -22.46,
          -14.219,
          -20.341,
          -8.02,
          -13.518,
          -19.474,
          -0.671,
          -15.48,
          -14.306,
          -17.038,
          -9.505,
          -5.595,
          -10.338,
          1.855,
          -1.896,
          -3.269,
          -12.556,
          17.428,
          -5.865,
          -0.569,
          2.799,
          9.647,
          10.332,
          0.129,
          7.554,
          4.813,
          1.278,
          13.963,
          13.303,
          8.149,
          22.934,
          17.997,
          10.567,
          13.078,
          1.073,
          15.383,
          20.028,
          12.402,
          11.958,
          23.849,
          17.329,
          19.994,
          9.548,
          14.798,
          15.426,
          14.378,
          34.181,
          20.692,
          7.231,
          25.303,
          15.928,
          20.617,
          21.322,
          13.188,
          25.729,
          10.744,
          10.992,
          14.137,
          4.089,
          17.964,
          27.541,
          24.373,
          38.876,
          17.834,
          25.835,
          14.273,
          29.834,
          32.633,
          19.253,
          32.962,
          29.757,
          35.57,
          21.12,
          38.386,
          29.228,
          22.078,
          31.139,
          12.159,
          18.773,
          30.813,
          41.796,
          32.585,
          15.383,
          34.297,
          26.676,
          26.987,
          32.055,
          29.568,
          25.668,
          36.372,
          29.615,
          22.244,
          25.738,
          24.695,
          20.289,
          32.233,
          36.19,
          39.438,
          38.32,
          36.561,
          37.122,
          44.311,
          27.884,
          16.895,
          30.424,
          16.435
         ],
         "y": [
          6207.24,
          6206.965,
          6200.293,
          6192.956,
          6186.62,
          6185.395,
          6179.245,
          6172.567,
          6165.215,
          6158.871,
          6151.634,
          6144.985,
          6138.018,
          6131.624,
          6124.509,
          6118.242,
          6111,
          6105.174,
          6103.77,
          6097.449,
          6091.257,
          6084.053,
          6077.412,
          6070.355,
          6064.102,
          6057.126,
          6051.11,
          6043.897,
          6037.729,
          6030.379,
          6024.482,
          6023.19,
          6016.72,
          6010.201,
          6003.185,
          5996.789,
          5989.56,
          5976.191,
          5962.66,
          5949.334,
          5942.088,
          5935.377,
          5921.686,
          5908.023,
          5894.365,
          5880.773,
          5867.542,
          5860.182,
          5853.543,
          5839.962,
          5826.596,
          5813.184,
          5799.847,
          5786.308,
          5779.254,
          5772.917,
          5759.604,
          5746.057,
          5732.517,
          5718.549,
          5704.88,
          5696.967,
          5691.261,
          5677.534,
          5663.933,
          5650.269,
          5635.958,
          5622.339,
          5615.283,
          5608.615,
          5594.985,
          5581.855,
          5568.206,
          5554.324,
          5540.689,
          5533.179,
          5527.028,
          5513.673,
          5499.991,
          5486.391,
          5472.716,
          5458.973,
          5451.514,
          5445.77,
          5432.078,
          5419.084,
          5405.401,
          5391.752,
          5378.075,
          5370.754,
          5364.486,
          5350.006,
          5335.599,
          5321.408,
          5306.975,
          5292.544,
          5284.725,
          5278.194,
          5264.777,
          5251.439,
          5237.784,
          5224.485,
          5210.013,
          5202.134,
          5195.647,
          5181.362,
          5166.964,
          5152.551,
          5138.16,
          5124.789,
          5116.405,
          5110.309,
          5096.929,
          5082.569,
          5068.935,
          5055.27,
          5041.928,
          5034.357,
          5028.596,
          5015.272,
          5000.938,
          4987.571,
          4973.906,
          4959.572,
          4953.244,
          4946.938,
          4932.443,
          4919.144,
          4904.598,
          4891.642,
          4877.92,
          4870.419,
          4864.286,
          4850.301,
          4836.653,
          4822.778,
          4808.423,
          4794.742,
          4787.543,
          4781.169,
          4767.914,
          4754.258,
          4741.277,
          4727.579,
          4713.96,
          4706.065,
          4699.652,
          4686.006,
          4672.391,
          4658.712,
          4645.127,
          4631.422,
          4623.843,
          4617.817,
          4603.823,
          4590.188,
          4576.518,
          4563.501,
          4550.18,
          4543.137,
          4536.482,
          4522.94,
          4509.694,
          4495.378,
          4481.679,
          4467.905,
          4460.615,
          4454.243,
          4440.514,
          4426.856,
          4413.137,
          4399.469,
          4385.8,
          4378.543,
          4372.162,
          4358.536,
          4344.895,
          4331.248,
          4317.522,
          4303.866,
          4296.704,
          4290.238,
          4276.576,
          4262.852,
          4249.815,
          4236.196,
          4222.545,
          4215.054,
          4208.918,
          4195.263,
          4181.64,
          4167.656,
          4154.066,
          4140.773,
          4134.034,
          4127.573,
          4114.243,
          4100.771,
          4087.408,
          4073.808,
          4066.426,
          4060.515,
          4046.812,
          4033.373,
          4020.259,
          4006.505,
          3993.08,
          3979.748,
          3966.641,
          3953.33,
          3939.971,
          3926.423,
          3912.752,
          3901.265,
          3886.958,
          3872.598,
          3858.208,
          3844.519,
          3830.756,
          3826.207
         ]
        }
       ],
       "layout": {
        "hovermode": "y",
        "legend": {
         "orientation": "h",
         "title": {
          "text": "Type"
         }
        },
        "template": {
         "data": {
          "bar": [
           {
            "error_x": {
             "color": "#2a3f5f"
            },
            "error_y": {
             "color": "#2a3f5f"
            },
            "marker": {
             "line": {
              "color": "#E5ECF6",
              "width": 0.5
             },
             "pattern": {
              "fillmode": "overlay",
              "size": 10,
              "solidity": 0.2
             }
            },
            "type": "bar"
           }
          ],
          "barpolar": [
           {
            "marker": {
             "line": {
              "color": "#E5ECF6",
              "width": 0.5
             },
             "pattern": {
              "fillmode": "overlay",
              "size": 10,
              "solidity": 0.2
             }
            },
            "type": "barpolar"
           }
          ],
          "carpet": [
           {
            "aaxis": {
             "endlinecolor": "#2a3f5f",
             "gridcolor": "white",
             "linecolor": "white",
             "minorgridcolor": "white",
             "startlinecolor": "#2a3f5f"
            },
            "baxis": {
             "endlinecolor": "#2a3f5f",
             "gridcolor": "white",
             "linecolor": "white",
             "minorgridcolor": "white",
             "startlinecolor": "#2a3f5f"
            },
            "type": "carpet"
           }
          ],
          "choropleth": [
           {
            "colorbar": {
             "outlinewidth": 0,
             "ticks": ""
            },
            "type": "choropleth"
           }
          ],
          "contour": [
           {
            "colorbar": {
             "outlinewidth": 0,
             "ticks": ""
            },
            "colorscale": [
             [
              0,
              "#0d0887"
             ],
             [
              0.1111111111111111,
              "#46039f"
             ],
             [
              0.2222222222222222,
              "#7201a8"
             ],
             [
              0.3333333333333333,
              "#9c179e"
             ],
             [
              0.4444444444444444,
              "#bd3786"
             ],
             [
              0.5555555555555556,
              "#d8576b"
             ],
             [
              0.6666666666666666,
              "#ed7953"
             ],
             [
              0.7777777777777778,
              "#fb9f3a"
             ],
             [
              0.8888888888888888,
              "#fdca26"
             ],
             [
              1,
              "#f0f921"
             ]
            ],
            "type": "contour"
           }
          ],
          "contourcarpet": [
           {
            "colorbar": {
             "outlinewidth": 0,
             "ticks": ""
            },
            "type": "contourcarpet"
           }
          ],
          "heatmap": [
           {
            "colorbar": {
             "outlinewidth": 0,
             "ticks": ""
            },
            "colorscale": [
             [
              0,
              "#0d0887"
             ],
             [
              0.1111111111111111,
              "#46039f"
             ],
             [
              0.2222222222222222,
              "#7201a8"
             ],
             [
              0.3333333333333333,
              "#9c179e"
             ],
             [
              0.4444444444444444,
              "#bd3786"
             ],
             [
              0.5555555555555556,
              "#d8576b"
             ],
             [
              0.6666666666666666,
              "#ed7953"
             ],
             [
              0.7777777777777778,
              "#fb9f3a"
             ],
             [
              0.8888888888888888,
              "#fdca26"
             ],
             [
              1,
              "#f0f921"
             ]
            ],
            "type": "heatmap"
           }
          ],
          "heatmapgl": [
           {
            "colorbar": {
             "outlinewidth": 0,
             "ticks": ""
            },
            "colorscale": [
             [
              0,
              "#0d0887"
             ],
             [
              0.1111111111111111,
              "#46039f"
             ],
             [
              0.2222222222222222,
              "#7201a8"
             ],
             [
              0.3333333333333333,
              "#9c179e"
             ],
             [
              0.4444444444444444,
              "#bd3786"
             ],
             [
              0.5555555555555556,
              "#d8576b"
             ],
             [
              0.6666666666666666,
              "#ed7953"
             ],
             [
              0.7777777777777778,
              "#fb9f3a"
             ],
             [
              0.8888888888888888,
              "#fdca26"
             ],
             [
              1,
              "#f0f921"
             ]
            ],
            "type": "heatmapgl"
           }
          ],
          "histogram": [
           {
            "marker": {
             "pattern": {
              "fillmode": "overlay",
              "size": 10,
              "solidity": 0.2
             }
            },
            "type": "histogram"
           }
          ],
          "histogram2d": [
           {
            "colorbar": {
             "outlinewidth": 0,
             "ticks": ""
            },
            "colorscale": [
             [
              0,
              "#0d0887"
             ],
             [
              0.1111111111111111,
              "#46039f"
             ],
             [
              0.2222222222222222,
              "#7201a8"
             ],
             [
              0.3333333333333333,
              "#9c179e"
             ],
             [
              0.4444444444444444,
              "#bd3786"
             ],
             [
              0.5555555555555556,
              "#d8576b"
             ],
             [
              0.6666666666666666,
              "#ed7953"
             ],
             [
              0.7777777777777778,
              "#fb9f3a"
             ],
             [
              0.8888888888888888,
              "#fdca26"
             ],
             [
              1,
              "#f0f921"
             ]
            ],
            "type": "histogram2d"
           }
          ],
          "histogram2dcontour": [
           {
            "colorbar": {
             "outlinewidth": 0,
             "ticks": ""
            },
            "colorscale": [
             [
              0,
              "#0d0887"
             ],
             [
              0.1111111111111111,
              "#46039f"
             ],
             [
              0.2222222222222222,
              "#7201a8"
             ],
             [
              0.3333333333333333,
              "#9c179e"
             ],
             [
              0.4444444444444444,
              "#bd3786"
             ],
             [
              0.5555555555555556,
              "#d8576b"
             ],
             [
              0.6666666666666666,
              "#ed7953"
             ],
             [
              0.7777777777777778,
              "#fb9f3a"
             ],
             [
              0.8888888888888888,
              "#fdca26"
             ],
             [
              1,
              "#f0f921"
             ]
            ],
            "type": "histogram2dcontour"
           }
          ],
          "mesh3d": [
           {
            "colorbar": {
             "outlinewidth": 0,
             "ticks": ""
            },
            "type": "mesh3d"
           }
          ],
          "parcoords": [
           {
            "line": {
             "colorbar": {
              "outlinewidth": 0,
              "ticks": ""
             }
            },
            "type": "parcoords"
           }
          ],
          "pie": [
           {
            "automargin": true,
            "type": "pie"
           }
          ],
          "scatter": [
           {
            "marker": {
             "colorbar": {
              "outlinewidth": 0,
              "ticks": ""
             }
            },
            "type": "scatter"
           }
          ],
          "scatter3d": [
           {
            "line": {
             "colorbar": {
              "outlinewidth": 0,
              "ticks": ""
             }
            },
            "marker": {
             "colorbar": {
              "outlinewidth": 0,
              "ticks": ""
             }
            },
            "type": "scatter3d"
           }
          ],
          "scattercarpet": [
           {
            "marker": {
             "colorbar": {
              "outlinewidth": 0,
              "ticks": ""
             }
            },
            "type": "scattercarpet"
           }
          ],
          "scattergeo": [
           {
            "marker": {
             "colorbar": {
              "outlinewidth": 0,
              "ticks": ""
             }
            },
            "type": "scattergeo"
           }
          ],
          "scattergl": [
           {
            "marker": {
             "colorbar": {
              "outlinewidth": 0,
              "ticks": ""
             }
            },
            "type": "scattergl"
           }
          ],
          "scattermapbox": [
           {
            "marker": {
             "colorbar": {
              "outlinewidth": 0,
              "ticks": ""
             }
            },
            "type": "scattermapbox"
           }
          ],
          "scatterpolar": [
           {
            "marker": {
             "colorbar": {
              "outlinewidth": 0,
              "ticks": ""
             }
            },
            "type": "scatterpolar"
           }
          ],
          "scatterpolargl": [
           {
            "marker": {
             "colorbar": {
              "outlinewidth": 0,
              "ticks": ""
             }
            },
            "type": "scatterpolargl"
           }
          ],
          "scatterternary": [
           {
            "marker": {
             "colorbar": {
              "outlinewidth": 0,
              "ticks": ""
             }
            },
            "type": "scatterternary"
           }
          ],
          "surface": [
           {
            "colorbar": {
             "outlinewidth": 0,
             "ticks": ""
            },
            "colorscale": [
             [
              0,
              "#0d0887"
             ],
             [
              0.1111111111111111,
              "#46039f"
             ],
             [
              0.2222222222222222,
              "#7201a8"
             ],
             [
              0.3333333333333333,
              "#9c179e"
             ],
             [
              0.4444444444444444,
              "#bd3786"
             ],
             [
              0.5555555555555556,
              "#d8576b"
             ],
             [
              0.6666666666666666,
              "#ed7953"
             ],
             [
              0.7777777777777778,
              "#fb9f3a"
             ],
             [
              0.8888888888888888,
              "#fdca26"
             ],
             [
              1,
              "#f0f921"
             ]
            ],
            "type": "surface"
           }
          ],
          "table": [
           {
            "cells": {
             "fill": {
              "color": "#EBF0F8"
             },
             "line": {
              "color": "white"
             }
            },
            "header": {
             "fill": {
              "color": "#C8D4E3"
             },
             "line": {
              "color": "white"
             }
            },
            "type": "table"
           }
          ]
         },
         "layout": {
          "annotationdefaults": {
           "arrowcolor": "#2a3f5f",
           "arrowhead": 0,
           "arrowwidth": 1
          },
          "autotypenumbers": "strict",
          "coloraxis": {
           "colorbar": {
            "outlinewidth": 0,
            "ticks": ""
           }
          },
          "colorscale": {
           "diverging": [
            [
             0,
             "#8e0152"
            ],
            [
             0.1,
             "#c51b7d"
            ],
            [
             0.2,
             "#de77ae"
            ],
            [
             0.3,
             "#f1b6da"
            ],
            [
             0.4,
             "#fde0ef"
            ],
            [
             0.5,
             "#f7f7f7"
            ],
            [
             0.6,
             "#e6f5d0"
            ],
            [
             0.7,
             "#b8e186"
            ],
            [
             0.8,
             "#7fbc41"
            ],
            [
             0.9,
             "#4d9221"
            ],
            [
             1,
             "#276419"
            ]
           ],
           "sequential": [
            [
             0,
             "#0d0887"
            ],
            [
             0.1111111111111111,
             "#46039f"
            ],
            [
             0.2222222222222222,
             "#7201a8"
            ],
            [
             0.3333333333333333,
             "#9c179e"
            ],
            [
             0.4444444444444444,
             "#bd3786"
            ],
            [
             0.5555555555555556,
             "#d8576b"
            ],
            [
             0.6666666666666666,
             "#ed7953"
            ],
            [
             0.7777777777777778,
             "#fb9f3a"
            ],
            [
             0.8888888888888888,
             "#fdca26"
            ],
            [
             1,
             "#f0f921"
            ]
           ],
           "sequentialminus": [
            [
             0,
             "#0d0887"
            ],
            [
             0.1111111111111111,
             "#46039f"
            ],
            [
             0.2222222222222222,
             "#7201a8"
            ],
            [
             0.3333333333333333,
             "#9c179e"
            ],
            [
             0.4444444444444444,
             "#bd3786"
            ],
            [
             0.5555555555555556,
             "#d8576b"
            ],
            [
             0.6666666666666666,
             "#ed7953"
            ],
            [
             0.7777777777777778,
             "#fb9f3a"
            ],
            [
             0.8888888888888888,
             "#fdca26"
            ],
            [
             1,
             "#f0f921"
            ]
           ]
          },
          "colorway": [
           "#636efa",
           "#EF553B",
           "#00cc96",
           "#ab63fa",
           "#FFA15A",
           "#19d3f3",
           "#FF6692",
           "#B6E880",
           "#FF97FF",
           "#FECB52"
          ],
          "font": {
           "color": "#2a3f5f"
          },
          "geo": {
           "bgcolor": "white",
           "lakecolor": "white",
           "landcolor": "#E5ECF6",
           "showlakes": true,
           "showland": true,
           "subunitcolor": "white"
          },
          "hoverlabel": {
           "align": "left"
          },
          "hovermode": "closest",
          "mapbox": {
           "style": "light"
          },
          "paper_bgcolor": "white",
          "plot_bgcolor": "#E5ECF6",
          "polar": {
           "angularaxis": {
            "gridcolor": "white",
            "linecolor": "white",
            "ticks": ""
           },
           "bgcolor": "#E5ECF6",
           "radialaxis": {
            "gridcolor": "white",
            "linecolor": "white",
            "ticks": ""
           }
          },
          "scene": {
           "xaxis": {
            "backgroundcolor": "#E5ECF6",
            "gridcolor": "white",
            "gridwidth": 2,
            "linecolor": "white",
            "showbackground": true,
            "ticks": "",
            "zerolinecolor": "white"
           },
           "yaxis": {
            "backgroundcolor": "#E5ECF6",
            "gridcolor": "white",
            "gridwidth": 2,
            "linecolor": "white",
            "showbackground": true,
            "ticks": "",
            "zerolinecolor": "white"
           },
           "zaxis": {
            "backgroundcolor": "#E5ECF6",
            "gridcolor": "white",
            "gridwidth": 2,
            "linecolor": "white",
            "showbackground": true,
            "ticks": "",
            "zerolinecolor": "white"
           }
          },
          "shapedefaults": {
           "line": {
            "color": "#2a3f5f"
           }
          },
          "ternary": {
           "aaxis": {
            "gridcolor": "white",
            "linecolor": "white",
            "ticks": ""
           },
           "baxis": {
            "gridcolor": "white",
            "linecolor": "white",
            "ticks": ""
           },
           "bgcolor": "#E5ECF6",
           "caxis": {
            "gridcolor": "white",
            "linecolor": "white",
            "ticks": ""
           }
          },
          "title": {
           "x": 0.05
          },
          "xaxis": {
           "automargin": true,
           "gridcolor": "white",
           "linecolor": "white",
           "ticks": "",
           "title": {
            "standoff": 15
           },
           "zerolinecolor": "white",
           "zerolinewidth": 2
          },
          "yaxis": {
           "automargin": true,
           "gridcolor": "white",
           "linecolor": "white",
           "ticks": "",
           "title": {
            "standoff": 15
           },
           "zerolinecolor": "white",
           "zerolinewidth": 2
          }
         }
        },
        "title": {
         "text": "Fiber cable orientation main1"
        },
        "xaxis": {
         "range": [
          -270,
          270
         ],
         "title": {
          "text": "AngleFromHighSideClockwiseDegrees"
         }
        },
        "yaxis": {
         "autorange": "reversed",
         "title": {
          "text": "Depth"
         }
        }
       }
      }
     },
     "metadata": {},
     "output_type": "display_data"
    }
   ],
   "source": [
    "fig = go.Figure()\n",
    "\n",
    "# # Add windows\n",
    "# gozone_svg = ''.join([f'M {xy[0][0]+10},{xy[0][1]} ' if xy[1]==0 else f'L{xy[0][0]+10},{xy[0][1]} ' for xy in zip(combined.loc[combined['type']=='CableDetectionClamp', ['plot_angle','depth']].values,range(combined.loc[combined['type']=='CableDetectionClamp', ['plot_angle','depth']].shape[0]))])+''.join([f' L{xy[0][0]-10},{xy[0][1]} Z' if xy[1]==0 else f' L{xy[0][0]-10},{xy[0][1]}' for xy in zip(combined.loc[combined['type']=='CableDetectionClamp', ['plot_angle','depth']].values,range(combined.loc[combined['type']=='CableDetectionClamp', ['plot_angle','depth']].shape[0]))][::-1])\n",
    "\n",
    "# nogozone_svg = ''.join([f'M {xy[0][0]+10},{xy[0][1]} ' if xy[1]==0 else f'L{xy[0][0]+10},{xy[0][1]} ' for xy in zip(combined.loc[combined['type']=='CableDetectionClamp', ['fiber_plot_angle','depth']].values,range(combined.loc[combined['type']=='CableDetectionClamp', ['fiber_plot_angle','depth']].shape[0]))])+''.join([f' L{xy[0][0]-10},{xy[0][1]} Z' if xy[1]==0 else f' L{xy[0][0]-10},{xy[0][1]}' for xy in zip(combined.loc[combined['type']=='CableDetectionClamp', ['fiber_plot_angle','depth']].values,range(combined.loc[combined['type']=='CableDetectionClamp', ['fiber_plot_angle','depth']].shape[0]))][::-1])\n",
    "\n",
    "# fig.update_layout(shapes=[dict(type=\"path\", path=gozone_svg, fillcolor='rgba(154,205,50,0.2)', line=dict(width=0), layer='below'), dict(type=\"path\", path=nogozone_svg, fillcolor='rgba(255,69,0,0.2)', line=dict(width=0), layer='below')])\n",
    "\n",
    "# Add traces\n",
    "fig.add_trace(go.Scatter(x=combined.loc[(combined['type']=='CableDetectionClamp') & (pd.isna(combined['obs'])), 'plot_angle'], y=combined.loc[(combined['type']=='CableDetectionClamp') & (pd.isna(combined['obs'])), 'depth'], mode='markers', name='CableDetectionClamp', marker_color='forestgreen', customdata=combined.loc[(combined['type']=='CableDetectionClamp') & (pd.isna(combined['obs'])), ['hadware_name', 'clampsTOH', 'obs']].round(0)))\n",
    "\n",
    "\n",
    "fig.add_trace(go.Scatter(x=combined.loc[(combined['type']=='CrossCouplingProtector') & (pd.isna(combined['obs'])), 'plot_angle'], y=combined.loc[(combined['type']=='CrossCouplingProtector') & (pd.isna(combined['obs'])), 'depth'], mode='markers', name='CrossCouplingProtector', marker_color='darkolivegreen', customdata=combined.loc[(combined['type']=='CrossCouplingProtector') & (pd.isna(combined['obs'])), ['hadware_name', 'clampsTOH', 'obs']].round(0)))\n",
    "\n",
    "fig.add_trace(go.Scatter(x=combined.loc[(combined['type']=='CrossCouplingProtector') & (~pd.isna(combined['obs'])), 'plot_angle'], y=combined.loc[(combined['type']=='CrossCouplingProtector') & (~pd.isna(combined['obs'])), 'depth'], mode='markers', name='CrossCouplingProtector NVNH', marker_color='red', customdata=combined.loc[(combined['type']=='CrossCouplingProtector') & (~pd.isna(combined['obs'])), ['hadware_name', 'clampsTOH', 'obs']].round(0)))\n",
    "\n",
    "fig.add_trace(go.Scatter(x=combined.loc[(combined['type']=='Centralizer') & (pd.isna(combined['obs'])), 'plot_angle'], y=combined.loc[(combined['type']=='Centralizer') & (pd.isna(combined['obs'])), 'depth'], mode='markers', name='Centralizer', marker_color='cadetblue', customdata=combined.loc[(combined['type']=='Centralizer') & (pd.isna(combined['obs'])), ['hadware_name', 'clampsTOH', 'obs']].round(0)))\n",
    "\n",
    "# fig.add_trace(go.Scatter(x=combined.loc[combined['type']=='CableDetectionClamp', 'plot_angle'], y=combined.loc[combined['type']=='CableDetectionClamp', 'depth'], mode='markers', name='CableDetectionClamp', marker_color='forestgreen', customdata=combined.loc[combined['type']=='CableDetectionClamp', ['hadware_name', 'angle_rounded']]))\n",
    "\n",
    "# fig.add_trace(go.Scatter(x=combined.loc[combined['type']=='CrossCouplingProtector', 'plot_angle'], y=combined.loc[combined['type']=='CrossCouplingProtector', 'depth'], mode='markers', name='CrossCouplingProtector', marker_color='darkolivegreen', customdata=combined.loc[combined['type']=='CrossCouplingProtector', ['hadware_name', 'angle_rounded']]))\n",
    "\n",
    "# fig.add_trace(go.Scatter(x=combined.loc[combined['type']=='Centralizer', 'plot_angle'], y=combined.loc[combined['type']=='Centralizer', 'depth'], mode='markers', name='Centralizer', marker_color='cadetblue', customdata=combined.loc[combined['type']=='Centralizer', ['hadware_name', 'angle_rounded']]))\n",
    "\n",
    "# fig.add_trace(go.Scatter(x=combined.loc[combined['type']=='Other', 'plot_angle'], y=combined.loc[combined['type']=='Other', 'depth'], mode='markers', name='Other', marker_color='navy', customdata=combined.loc[combined['type']=='Other', ['hadware_name', 'angle_rounded']]))\n",
    "\n",
    "# fig.add_trace(go.Scatter(x=combined.loc[combined['type']=='PERFS', 'plot_angle'], y=combined.loc[combined['type']=='PERFS', 'depth'], mode='markers', name='PERFS', marker_color='navy', customdata=combined.loc[combined['type']=='PERFS', ['name', 'angle_rounded']]))\n",
    "\n",
    "fig.add_trace(go.Scatter(x=combined.loc[combined['type']!='CCableDetectionClamp', 'fiber_plot_angle'], y=combined.loc[combined['type']!='CCableDetectionClamp', 'depth'], mode='lines+markers', name='Fiber Wire', marker_color='crimson', customdata=combined.loc[combined['type']!='CCableDetectionClamp', ['hadware_name', 'fiberTOH']].round(0)))\n",
    "\n",
    "fig.update_traces(hovertemplate='%{customdata[0]}<br>%{customdata[1]}')\n",
    "fig.update_xaxes(range=[-270, 270])\n",
    "fig.update_yaxes(autorange=\"reversed\")\n",
    "fig.update_layout(hovermode=\"y\", title=\"Fiber cable orientation main1\", legend_title=\"Type\", legend_orientation=\"h\", template=\"plotly\", yaxis_title=\"Depth\", xaxis_title='AngleFromHighSideClockwiseDegrees')\n",
    "fig.show()"
   ]
  },
  {
   "cell_type": "code",
   "execution_count": null,
   "metadata": {},
   "outputs": [],
   "source": [
    "features['type'].value_counts()"
   ]
  },
  {
   "cell_type": "code",
   "execution_count": null,
   "metadata": {},
   "outputs": [],
   "source": [
    "features['obs'].value_counts()"
   ]
  },
  {
   "cell_type": "code",
   "execution_count": null,
   "metadata": {},
   "outputs": [],
   "source": [
    "# features['type'].value_counts()\n",
    "# O, CCP, C, CDC= features['type'].value_counts()\n",
    "\n",
    "# pie = make_subplots(rows=1, cols=1, specs=[[{\"type\": \"domain\"}]])\n",
    "\n",
    "# pie.add_trace(go.Pie(\n",
    "#      values=[CDC, CCP, C, O],\n",
    "#      labels=['CableDetectionClamp', 'CrossCouplingProtector', 'Centralizer', 'Other'],\n",
    "#      domain=dict(x=[0, 0.5]),\n",
    "#      name=\"Blast Protector\",\n",
    "#      hoverinfo='label+value',\n",
    "#      sort=False,\n",
    "#      marker_colors = ['forestgreen', 'darkolivegreen', 'cadetblue', 'navy']\n",
    "#      ), \n",
    "#      row=1, col=1)\n",
    "\n",
    "# pie.update_layout(title_text=\"Jewelry type\", template=\"plotly\")\n",
    "# pie.show()"
   ]
  },
  {
   "cell_type": "code",
   "execution_count": null,
   "metadata": {},
   "outputs": [],
   "source": [
    "pio.write_html(fig, file='plotly/446_plot_main1.html', auto_open=False)\n",
    "# pio.write_html(pie, file='plotly/4532_pie.html', auto_open=False)"
   ]
  },
  {
   "cell_type": "code",
   "execution_count": null,
   "metadata": {},
   "outputs": [],
   "source": [
    "def clamps_overview(clamps, clamps_types):\n",
    "\n",
    "    fiber = clamps[['type', 'fiber_plot_angle', 'depth', 'hadware_name', 'fiber_angle_rounded']].loc[clamps['type'].isin(clamps_types)]\n",
    "\n",
    "    fig = go.Figure()\n",
    "    # # Add windows\n",
    "    nogozone_svg = ''.join([f'M {xy[0][0]+10},{xy[0][1]} ' if xy[1]==0 else f'L{xy[0][0]+10},{xy[0][1]} ' for xy in zip(clamps.loc[clamps['type']=='CableDetectionClamp', ['fiber_plot_angle','depth']].values,range(clamps.loc[clamps['type']=='CableDetectionClamp', ['fiber_plot_angle','depth']].shape[0]))])+''.join([f' L{xy[0][0]-10},{xy[0][1]} Z' if xy[1]==0 else f' L{xy[0][0]-10},{xy[0][1]}' for xy in zip(clamps.loc[clamps['type']=='CableDetectionClamp', ['fiber_plot_angle','depth']].values,range(clamps.loc[clamps['type']=='CableDetectionClamp', ['fiber_plot_angle','depth']].shape[0]))][::-1])\n",
    "\n",
    "    fig.update_layout(shapes=[dict(type=\"path\", path=nogozone_svg, fillcolor='rgba(255,69,0,0.2)', line=dict(width=0), layer='below')])\n",
    "\n",
    "    # Add traces\n",
    "    for type in clamps['type'].unique():\n",
    "        fig.add_trace(go.Scatter(x=clamps.loc[clamps['type']==type, 'plot_angle'], y=clamps.loc[clamps['type']==type, 'depth'], mode='markers', name=type, customdata=clamps.loc[clamps['type']==type, ['hadware_name', 'fiber_angle_rounded']]))\n",
    "\n",
    "    fig.add_trace(go.Scatter(x=fiber['fiber_plot_angle'], y=fiber['depth'], mode='lines+markers', name='Fiber Wire', marker_color='crimson', customdata=fiber[['hadware_name', 'fiber_angle_rounded']]))\n",
    "\n",
    "    fig.update_traces(hovertemplate='%{customdata[0]}<br>%{customdata[1]}')\n",
    "    fig.update_xaxes(range=[-185, 185])\n",
    "    fig.update_yaxes(autorange=\"reversed\")\n",
    "    fig.update_layout(hovermode=\"y\", title=\"Fiber cable orientation overview\", legend_title=\"Type\", legend_orientation=\"h\", template=\"plotly\", yaxis_title=\"Depth\", xaxis_title='AngleFromHighSideClockwiseDegrees')\n",
    "\n",
    "    return fig\n",
    "\n",
    "clamps_overview(combined, ['CableDetectionClamp', 'CrossCouplingProtector', 'Centralizer', 'Other']).show()"
   ]
  },
  {
   "cell_type": "code",
   "execution_count": 8,
   "metadata": {},
   "outputs": [
    {
     "data": {
      "text/plain": [
       "type                                       object\n",
       "hadware_name                               object\n",
       "passName                                   object\n",
       "obs                                        object\n",
       "depth                                     float64\n",
       "AngleFromHighSideClockwiseDegrees         float64\n",
       "fiberAngleFromHighSideClockwiseDegrees    float64\n",
       "fiber_plot_angle                          float64\n",
       "plot_angle                                float64\n",
       "angle_rounded                             float64\n",
       "fiber_angle_rounded                       float64\n",
       "dtype: object"
      ]
     },
     "execution_count": 8,
     "metadata": {},
     "output_type": "execute_result"
    }
   ],
   "source": [
    "combined.dtypes"
   ]
  },
  {
   "cell_type": "code",
   "execution_count": 18,
   "metadata": {},
   "outputs": [
    {
     "name": "stderr",
     "output_type": "stream",
     "text": [
      "C:\\Users\\ggrso\\AppData\\Local\\Programs\\Python\\Python39\\lib\\site-packages\\pandas\\core\\generic.py:2703: PerformanceWarning:\n",
      "\n",
      "\n",
      "your performance may suffer as PyTables will pickle object types that it cannot\n",
      "map directly to c-types [inferred_type->mixed,key->block1_values] [items->Index(['type', 'hadware_name', 'passName', 'obs'], dtype='object')]\n",
      "\n",
      "\n"
     ]
    }
   ],
   "source": [
    "combined.to_hdf('data/446/446cd.h5', key='cd446', mode='w')"
   ]
  },
  {
   "cell_type": "markdown",
   "metadata": {},
   "source": [
    "kay plot"
   ]
  },
  {
   "cell_type": "code",
   "execution_count": null,
   "metadata": {},
   "outputs": [],
   "source": [
    "features_k = cc_k[['type', 'hadware_name', 'depth', 'AngleFromHighSideClockwiseDegrees', 'passName']].groupby(['type', 'hadware_name', 'passName']).median(numeric_only=True)\n",
    "features_k = features_k.sort_values(by=['depth'], ascending=False).reset_index()\n",
    "features_k['fiberAngleFromHighSideClockwiseDegrees'] = [angle+180 if angle < 180 else angle-180 for angle in features_k['AngleFromHighSideClockwiseDegrees']]\n",
    "features_k['fiber_plot_angle'] = [angle-360 if angle > 180 else angle for angle in features_k['fiberAngleFromHighSideClockwiseDegrees']]\n",
    "\n",
    "\n",
    "# combined = pd.concat([features_k, perfs])\n",
    "combined_k = features_k\n",
    "combined_k['plot_angle'] = [angle-360 if angle > 100 else angle for angle in combined_k['AngleFromHighSideClockwiseDegrees']]\n",
    "combined_k['angle_rounded'] = combined_k['AngleFromHighSideClockwiseDegrees'].round(0)\n",
    "combined_k['fiber_angle_rounded'] = combined_k['fiberAngleFromHighSideClockwiseDegrees'].round(0)"
   ]
  },
  {
   "cell_type": "code",
   "execution_count": null,
   "metadata": {},
   "outputs": [],
   "source": [
    "fig = go.Figure()\n",
    "\n",
    "# Add windows\n",
    "gozone_svg = ''.join([f'M {xy[0][0]+30},{xy[0][1]} ' if xy[1]==0 else f'L{xy[0][0]+30},{xy[0][1]} ' for xy in zip(combined_k.loc[combined_k['type']=='CableDetectionClamp', ['plot_angle','depth']].values,range(combined_k.loc[combined_k['type']=='CableDetectionClamp', ['plot_angle','depth']].shape[0]))])+''.join([f' L{xy[0][0]-30},{xy[0][1]} Z' if xy[1]==0 else f' L{xy[0][0]-30},{xy[0][1]}' for xy in zip(combined_k.loc[combined_k['type']=='CableDetectionClamp', ['plot_angle','depth']].values,range(combined_k.loc[combined_k['type']=='CableDetectionClamp', ['plot_angle','depth']].shape[0]))][::-1])\n",
    "\n",
    "nogozone_svg = ''.join([f'M {xy[0][0]+10},{xy[0][1]} ' if xy[1]==0 else f'L{xy[0][0]+10},{xy[0][1]} ' for xy in zip(combined_k.loc[combined_k['type']=='CableDetectionClamp', ['fiber_plot_angle','depth']].values,range(combined_k.loc[combined_k['type']=='CableDetectionClamp', ['fiber_plot_angle','depth']].shape[0]))])+''.join([f' L{xy[0][0]-10},{xy[0][1]} Z' if xy[1]==0 else f' L{xy[0][0]-10},{xy[0][1]}' for xy in zip(combined_k.loc[combined_k['type']=='CableDetectionClamp', ['fiber_plot_angle','depth']].values,range(combined_k.loc[combined_k['type']=='CableDetectionClamp', ['fiber_plot_angle','depth']].shape[0]))][::-1])\n",
    "\n",
    "fig.update_layout(shapes=[dict(type=\"path\", path=gozone_svg, fillcolor='rgba(154,205,50,0.2)', line=dict(width=0), layer='below'), dict(type=\"path\", path=nogozone_svg, fillcolor='rgba(255,69,0,0.2)', line=dict(width=0), layer='below')])\n",
    "\n",
    "# Add traces\n",
    "fig.add_trace(go.Scatter(x=combined_k.loc[combined_k['type']=='CableDetectionClamp', 'plot_angle'], y=combined_k.loc[combined_k['type']=='CableDetectionClamp', 'depth'], mode='markers', name='CableDetectionClamp', marker_color='forestgreen', customdata=combined_k.loc[combined_k['type']=='CableDetectionClamp', ['hadware_name', 'angle_rounded']]))\n",
    "\n",
    "fig.add_trace(go.Scatter(x=combined_k.loc[combined_k['type']=='CrossCouplingProtector', 'plot_angle'], y=combined_k.loc[combined_k['type']=='CrossCouplingProtector', 'depth'], mode='markers', name='CrossCouplingProtector', marker_color='darkolivegreen', customdata=combined_k.loc[combined_k['type']=='CrossCouplingProtector', ['hadware_name', 'angle_rounded']]))\n",
    "\n",
    "fig.add_trace(go.Scatter(x=combined_k.loc[combined_k['type']=='Centralizer', 'plot_angle'], y=combined_k.loc[combined_k['type']=='Centralizer', 'depth'], mode='markers', name='Centralizer', marker_color='cadetblue', customdata=combined_k.loc[combined_k['type']=='Centralizer', ['hadware_name', 'angle_rounded']]))\n",
    "\n",
    "# fig.add_trace(go.Scatter(x=combined_k.loc[combined_k['type']=='PERFS', 'plot_angle'], y=combined_k.loc[combined_k['type']=='PERFS', 'depth'], mode='markers', name='PERFS', marker_color='navy', customdata=combined_k.loc[combined_k['type']=='PERFS', ['name', 'angle_rounded']]))\n",
    "\n",
    "fig.add_trace(go.Scatter(x=combined_k.loc[combined_k['type']=='CableDetectionClamp', 'fiber_plot_angle'], y=combined_k.loc[combined_k['type']=='CableDetectionClamp', 'depth'], mode='lines+markers', name='Fiber Wire', marker_color='crimson', customdata=combined_k.loc[combined_k['type']=='CableDetectionClamp', ['hadware_name', 'fiber_angle_rounded']]))\n",
    "\n",
    "fig.update_traces(hovertemplate='%{customdata[0]}<br>%{customdata[1]}')\n",
    "fig.update_xaxes(range=[-270, 100])\n",
    "fig.update_yaxes(autorange=\"reversed\")\n",
    "fig.update_layout(hovermode=\"y\", title=\"Fiber cable orientation main2\", legend_title=\"Type\", legend_orientation=\"h\", template=\"plotly\", yaxis_title=\"Depth\", xaxis_title='AngleFromHighSideClockwiseDegrees')\n",
    "fig.show()"
   ]
  },
  {
   "cell_type": "code",
   "execution_count": null,
   "metadata": {},
   "outputs": [],
   "source": [
    "pio.write_html(fig, file='plotly/446_plot_main2.html', auto_open=False)\n",
    "# pio.write_html(pie, file='plotly/445_pie.html', auto_open=False)"
   ]
  },
  {
   "cell_type": "markdown",
   "metadata": {},
   "source": [
    "X CHECK"
   ]
  },
  {
   "cell_type": "code",
   "execution_count": null,
   "metadata": {},
   "outputs": [],
   "source": [
    "combined_x = pd.concat([features, features_k])\n",
    "combined_x['plot_angle'] = [angle-360 if angle > 100 else angle for angle in combined_x['AngleFromHighSideClockwiseDegrees']] # plot angle for rest\n",
    "combined_x['angle_rounded'] = combined_x['AngleFromHighSideClockwiseDegrees'].round(0)\n",
    "combined_x['fiber_angle_rounded'] = combined_x['fiberAngleFromHighSideClockwiseDegrees'].round(0)"
   ]
  },
  {
   "cell_type": "code",
   "execution_count": null,
   "metadata": {},
   "outputs": [],
   "source": [
    "fig = go.Figure()\n",
    "\n",
    "# # Add windows\n",
    "# gozone_svg = ''.join([f'M {xy[0][0]+30},{xy[0][1]} ' if xy[1]==0 else f'L{xy[0][0]+30},{xy[0][1]} ' for xy in zip(combined_x.loc[combined_x['type']=='CableDetectionClamp', ['plot_angle','depth']].values,range(combined_x.loc[combined_x['type']=='CableDetectionClamp', ['plot_angle','depth']].shape[0]))])+''.join([f' L{xy[0][0]-30},{xy[0][1]} Z' if xy[1]==0 else f' L{xy[0][0]-30},{xy[0][1]}' for xy in zip(combined_x.loc[combined_x['type']=='CableDetectionClamp', ['plot_angle','depth']].values,range(combined_x.loc[combined_x['type']=='CableDetectionClamp', ['plot_angle','depth']].shape[0]))][::-1])\n",
    "\n",
    "# nogozone_svg = ''.join([f'M {xy[0][0]+10},{xy[0][1]} ' if xy[1]==0 else f'L{xy[0][0]+10},{xy[0][1]} ' for xy in zip(combined_x.loc[combined_x['type']=='CableDetectionClamp', ['fiber_plot_angle','depth']].values,range(combined_x.loc[combined_x['type']=='CableDetectionClamp', ['fiber_plot_angle','depth']].shape[0]))])+''.join([f' L{xy[0][0]-10},{xy[0][1]} Z' if xy[1]==0 else f' L{xy[0][0]-10},{xy[0][1]}' for xy in zip(combined_x.loc[combined_x['type']=='CableDetectionClamp', ['fiber_plot_angle','depth']].values,range(combined_x.loc[combined_x['type']=='CableDetectionClamp', ['fiber_plot_angle','depth']].shape[0]))][::-1])\n",
    "\n",
    "# fig.update_layout(shapes=[dict(type=\"path\", path=gozone_svg, fillcolor='rgba(154,205,50,0.2)', line=dict(width=0), layer='below'), dict(type=\"path\", path=nogozone_svg, fillcolor='rgba(255,69,0,0.2)', line=dict(width=0), layer='below')])\n",
    "\n",
    "# Add traces\n",
    "fig.add_trace(go.Scatter(x=combined_x.loc[(combined_x['type']=='CableDetectionClamp') & (combined_x['passName']=='mainpass_up1_autogain'), 'plot_angle'], y=combined_x.loc[(combined_x['type']=='CableDetectionClamp') & (combined_x['passName']=='mainpass_up1_autogain'), 'depth'], mode='markers', name='CableDetectionClamp main 1', marker_color='blue', customdata=combined_x.loc[(combined_x['type']=='CableDetectionClamp') & (combined_x['passName']=='mainpass_up1_autogain'), ['hadware_name', 'angle_rounded', 'passName']]))\n",
    "\n",
    "fig.add_trace(go.Scatter(x=combined_x.loc[(combined_x['type']=='CableDetectionClamp') & (combined_x['passName']=='mainpass_up2_autogain'), 'plot_angle'], y=combined_x.loc[(combined_x['type']=='CableDetectionClamp') & (combined_x['passName']=='mainpass_up2_autogain'), 'depth'], mode='markers', name='CableDetectionClamp main 2', marker_color='red', customdata=combined_x.loc[(combined_x['type']=='CableDetectionClamp') & (combined_x['passName']=='mainpass_up2_autogain'), ['hadware_name', 'angle_rounded', 'passName']]))\n",
    "\n",
    "# fig.add_trace(go.Scatter(x=combined_x.loc[combined_x['type']=='CrossCouplingProtector', 'plot_angle'], y=combined_x.loc[combined_x['type']=='CrossCouplingProtector', 'depth'], mode='markers', name='CrossCouplingProtector', marker_color='darkolivegreen', customdata=combined_x.loc[combined_x['type']=='CrossCouplingProtector', ['hadware_name', 'angle_rounded']]))\n",
    "\n",
    "# fig.add_trace(go.Scatter(x=combined_x.loc[combined_x['type']=='Centralizer', 'plot_angle'], y=combined_x.loc[combined_x['type']=='Centralizer', 'depth'], mode='markers', name='Centralizer', marker_color='cadetblue', customdata=combined_x.loc[combined_x['type']=='Centralizer', ['hadware_name', 'angle_rounded']]))\n",
    "\n",
    "# fig.add_trace(go.Scatter(x=combined_x.loc[combined_x['type']=='Other', 'plot_angle'], y=combined_x.loc[combined_x['type']=='Other', 'depth'], mode='markers', name='Other', marker_color='navy', customdata=combined_x.loc[combined_x['type']=='Other', ['hadware_name', 'angle_rounded']]))\n",
    "\n",
    "# fig.add_trace(go.Scatter(x=combined_x.loc[combined_x['type']=='PERFS', 'plot_angle'], y=combined_x.loc[combined_x['type']=='PERFS', 'depth'], mode='markers', name='PERFS', marker_color='navy', customdata=combined_x.loc[combined_x['type']=='PERFS', ['name', 'angle_rounded']]))\n",
    "\n",
    "# fig.add_trace(go.Scatter(x=combined_x.loc[combined_x['type']=='CableDetectionClamp', 'fiber_plot_angle'], y=combined_x.loc[combined_x['type']=='CableDetectionClamp', 'depth'], mode='lines+markers', name='Fiber Wire', marker_color='crimson', customdata=combined_x.loc[combined_x['type']=='CableDetectionClamp', ['hadware_name', 'fiber_angle_rounded']]))\n",
    "\n",
    "fig.update_traces(hovertemplate='%{customdata[0]}<br>%{customdata[2]}<br>%{customdata[1]}')\n",
    "fig.update_xaxes(range=[-240, -100])\n",
    "fig.update_yaxes(autorange=\"reversed\")\n",
    "fig.update_layout(hovermode=\"y\", title=\"x check\", legend_title=\"Type\", legend_orientation=\"h\", template=\"plotly\", yaxis_title=\"Depth\", xaxis_title='AngleFromHighSideClockwiseDegrees')\n",
    "fig.show()"
   ]
  },
  {
   "cell_type": "code",
   "execution_count": null,
   "metadata": {},
   "outputs": [],
   "source": [
    "pio.write_html(fig, file='plotly/446_plot_xcheck.html', auto_open=False)"
   ]
  },
  {
   "cell_type": "code",
   "execution_count": null,
   "metadata": {},
   "outputs": [],
   "source": []
  }
 ],
 "metadata": {
  "interpreter": {
   "hash": "1e2fdc5b86b5227cd00967d3bc86dcbd439bf936df37a4710a92069cadecd97f"
  },
  "kernelspec": {
   "display_name": "Python 3.9.9 64-bit",
   "language": "python",
   "name": "python3"
  },
  "language_info": {
   "codemirror_mode": {
    "name": "ipython",
    "version": 3
   },
   "file_extension": ".py",
   "mimetype": "text/x-python",
   "name": "python",
   "nbconvert_exporter": "python",
   "pygments_lexer": "ipython3",
   "version": "3.9.7"
  },
  "orig_nbformat": 4
 },
 "nbformat": 4,
 "nbformat_minor": 2
}
