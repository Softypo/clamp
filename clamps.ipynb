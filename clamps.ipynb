{
 "cells": [
  {
   "cell_type": "code",
   "execution_count": null,
   "metadata": {},
   "outputs": [],
   "source": [
    "import pandas as pd\n",
    "import plotly.io as pio\n",
    "import plotly.express as px\n",
    "from plotly.subplots import make_subplots\n",
    "import plotly.graph_objects as go\n",
    "\n",
    "pd.options.plotting.backend = \"plotly\""
   ]
  },
  {
   "cell_type": "code",
   "execution_count": null,
   "metadata": {},
   "outputs": [],
   "source": [
    "cc = pd.read_csv('data\\mabee2606_features_QF.csv', usecols=[0,1,7])\n",
    "cc['type'] = 'CC'\n",
    "cc['NV'] = ['NV' if 'NV' in name else 'Inc' if 'Inc' in name else pd.NA for name in cc['name']]\n",
    "cc.loc[(cc['NV'] == 'NV') | (cc['NV'] == 'Inc') , 'perfAngleFromHighSideClockwiseDegrees'] = pd.NA\n",
    "cc['CC'] = ['CC'+name.split('.')[0] for name in cc['name']]\n",
    "\n",
    "\n",
    "perfs = pd.read_csv('data\\mabee2606_perfs_BIASED.csv', usecols=[0,1,7])\n",
    "perfs['type'] = 'PERFS'"
   ]
  },
  {
   "cell_type": "code",
   "execution_count": null,
   "metadata": {},
   "outputs": [],
   "source": [
    "features = cc[['depth', 'CC', 'perfAngleFromHighSideClockwiseDegrees']].groupby(['CC']).mean(numeric_only=False)\n",
    "features['name'] = features.index"
   ]
  },
  {
   "cell_type": "code",
   "execution_count": null,
   "metadata": {},
   "outputs": [],
   "source": [
    "features = cc[['depth', 'CC', 'perfAngleFromHighSideClockwiseDegrees']].groupby(['CC']).mean(numeric_only=False)\n",
    "features['name'] = features.index\n",
    "features = features.sort_values(by=['depth'], ascending=False)\n",
    "features.reset_index(drop=True, inplace=True)\n",
    "features['type'] = 'CC'\n",
    "features.loc[features['perfAngleFromHighSideClockwiseDegrees'].isna(), 'type'] = features.loc[features['perfAngleFromHighSideClockwiseDegrees'].isna(), 'type']+' NV'\n",
    "features.interpolate(method='pad', inplace=True)\n",
    "\n",
    "\n",
    "\n",
    "combined = pd.concat([features, perfs])\n",
    "combined['AngleFromHighSideClockwiseDegrees'] = [angle-360 if angle > 180 else angle for angle in combined['perfAngleFromHighSideClockwiseDegrees']]\n",
    "combined['angle'] = combined['perfAngleFromHighSideClockwiseDegrees']//10*10"
   ]
  },
  {
   "cell_type": "code",
   "execution_count": null,
   "metadata": {},
   "outputs": [],
   "source": [
    "fig  = combined.plot(x='AngleFromHighSideClockwiseDegrees', y='depth', kind='scatter', color='type', custom_data=['name', 'angle'], color_discrete_map={'CC':'crimson', 'CC NV':'crimson', 'PERFS':'cornflowerblue'})\n",
    "fig.update_layout(hovermode=\"y\", title=\"Jewelry vs Perfs\", legend_title=\"Type\", legend_orientation=\"h\", template=\"plotly\")\n",
    "fig.update_traces(hovertemplate='%{customdata[0]}<br>%{customdata[1]}')\n",
    "fig.update_xaxes(range=[-185, 185])\n",
    "fig.update_yaxes(autorange=\"reversed\")"
   ]
  },
  {
   "cell_type": "code",
   "execution_count": null,
   "metadata": {},
   "outputs": [],
   "source": [
    "CC, CC_NV = features['type'].value_counts()\n",
    "\n",
    "pie = make_subplots(rows=1, cols=1, specs=[[{\"type\": \"domain\"}]])\n",
    "\n",
    "pie.add_trace(go.Pie(\n",
    "     values=[CC, CC_NV],\n",
    "     labels=['CC', 'No vertical component'],\n",
    "     domain=dict(x=[0, 0.5]),\n",
    "     name=\"Blast Protector\",\n",
    "     hoverinfo='label+value',\n",
    "     sort=False,\n",
    "     marker_colors = ['crimson', 'lightgrey']\n",
    "     ), \n",
    "     row=1, col=1)\n",
    "\n",
    "pie.update_layout(title_text=\"Success rate by jewelry type\", template=\"plotly\")\n",
    "pie.show()"
   ]
  },
  {
   "cell_type": "code",
   "execution_count": null,
   "metadata": {},
   "outputs": [],
   "source": [
    "pio.write_html(fig, file='plotly/m.html', auto_open=False)\n",
    "pio.write_html(pie, file='plotly/mc.html', auto_open=False)"
   ]
  },
  {
   "cell_type": "markdown",
   "metadata": {},
   "source": [
    "Well 2"
   ]
  },
  {
   "cell_type": "code",
   "execution_count": null,
   "metadata": {},
   "outputs": [],
   "source": [
    "cc = pd.read_csv('data\\Seidel Unit A3_features_QF.csv', usecols=[0,1,7])\n",
    "cc['type'] = ['CrossCouple' if 'CC' in name else 'BlastProtector' if 'BP' in name else 'Centralizer' for name in cc['name']]\n",
    "cc['NV'] = ['NV' if 'NV' in name else pd.NA for name in cc['name']]\n",
    "cc.loc[cc['NV'] == 'NV', 'perfAngleFromHighSideClockwiseDegrees'] = pd.NA\n",
    "cc['J'] = [name.split()[0] if 'J' in name.split()[0] else pd.NA for name in cc['name']]\n",
    "cc['BP'] = [name.split()[1][:3] if 'BP' in name.split()[1] else pd.NA for name in cc['name']]\n",
    "cc['CC'] = [name.split()[1][:-2] if 'CC' in name.split()[1] else pd.NA for name in cc['name']]\n",
    "cc['C'] = [name.split()[1] if name.split()[1].startswith('C1') else pd.NA for name in cc['name']]\n",
    "\n",
    "\n",
    "perfs = pd.read_csv('data\\Seidel Unit A3_Perfs_BIASED.csv', usecols=[0,1,7])\n",
    "perfs['type'] = 'PERFS'"
   ]
  },
  {
   "cell_type": "code",
   "execution_count": null,
   "metadata": {},
   "outputs": [],
   "source": [
    "features = pd.concat([cc[['depth', 'J', 'BP', 'perfAngleFromHighSideClockwiseDegrees']].groupby(['J','BP']).mean(numeric_only=False), cc[['depth', 'CC', 'perfAngleFromHighSideClockwiseDegrees']].groupby(['CC']).mean(numeric_only=False)])\n",
    "features['name'] = features.index\n",
    "features = features.sort_values(by=['depth'], ascending=False)\n",
    "features.reset_index(drop=True, inplace=True)\n",
    "features['type'] = ['BlastProtector' if 'BP' in name[1] else 'CrossCoupling' if 'CC' in name else 'Centralizer' for name in features['name']]\n",
    "features.loc[features['perfAngleFromHighSideClockwiseDegrees'].isna(), 'type'] = features.loc[features['perfAngleFromHighSideClockwiseDegrees'].isna(), 'type']+' NV'\n",
    "features.interpolate(method='pad', inplace=True)\n",
    "\n",
    "\n",
    "\n",
    "combined = pd.concat([features, perfs])\n",
    "combined['AngleFromHighSideClockwiseDegrees'] = [angle-360 if angle > 180 else angle for angle in combined['perfAngleFromHighSideClockwiseDegrees']]\n",
    "combined['angle'] = combined['perfAngleFromHighSideClockwiseDegrees']//10*10"
   ]
  },
  {
   "cell_type": "code",
   "execution_count": null,
   "metadata": {},
   "outputs": [],
   "source": [
    "fig  = combined.plot(x='AngleFromHighSideClockwiseDegrees', y='depth', kind='scatter', color='type', custom_data=['name', 'angle'], color_discrete_map={'CrossCoupling':'lightsalmon', 'CrossCoupling NV':'lightsalmon', 'BlastProtector':'crimson', 'BlastProtector NV':'crimson', 'Centralizer':'lightblue', 'PERFS':'cornflowerblue', 'NV':'grey'})\n",
    "fig.update_layout(hovermode=\"y\", title=\"Jewelry vs Perfs\", legend_title=\"Type\", legend_orientation=\"h\", template=\"plotly\")\n",
    "fig.update_traces(hovertemplate='%{customdata[0]}<br>%{customdata[1]}')\n",
    "fig.update_xaxes(range=[-185, 185])\n",
    "fig.update_yaxes(autorange=\"reversed\")"
   ]
  },
  {
   "cell_type": "code",
   "execution_count": null,
   "metadata": {},
   "outputs": [],
   "source": [
    "features['type'].value_counts()"
   ]
  },
  {
   "cell_type": "code",
   "execution_count": null,
   "metadata": {},
   "outputs": [],
   "source": [
    "BP, CC, BP_NV, CC_NV = features['type'].value_counts()\n",
    "\n",
    "pie = make_subplots(rows=1, cols=2, specs=[[{\"type\": \"domain\"}, {\"type\": \"domain\"}]])\n",
    "\n",
    "pie.add_trace(go.Pie(\n",
    "     values=[BP, BP_NV],\n",
    "     labels=['BlastProtector', 'No vertical component'],\n",
    "     domain=dict(x=[0, 0.5]),\n",
    "     name=\"Blast Protector\",\n",
    "     hoverinfo='label+value',\n",
    "     sort=False,\n",
    "     marker_colors = ['crimson', 'lightgrey']\n",
    "     ), \n",
    "     row=1, col=1)\n",
    "\n",
    "\n",
    "pie.add_trace(go.Pie(\n",
    "     values=[CC, CC_NV],\n",
    "     labels=['CrossCoupling', 'No vertical component'],\n",
    "     domain=dict(x=[0, 0.5]),\n",
    "     name=\"Cross Coupling\",\n",
    "     hoverinfo='label+value',\n",
    "     sort=False,\n",
    "     marker_colors = ['lightsalmon', 'lightgrey']\n",
    "     ), \n",
    "     row=1, col=2)\n",
    "\n",
    "pie.update_layout(title_text=\"Success rate by jewelry type\", template=\"plotly\")\n",
    "pie.show()"
   ]
  },
  {
   "cell_type": "code",
   "execution_count": null,
   "metadata": {},
   "outputs": [],
   "source": [
    "pio.write_html(fig, file='plotly/s.html', auto_open=False)\n",
    "pio.write_html(pie, file='plotly/sc.html', auto_open=False)"
   ]
  },
  {
   "cell_type": "code",
   "execution_count": null,
   "metadata": {},
   "outputs": [],
   "source": []
  }
 ],
 "metadata": {
  "interpreter": {
   "hash": "1e2fdc5b86b5227cd00967d3bc86dcbd439bf936df37a4710a92069cadecd97f"
  },
  "kernelspec": {
   "display_name": "Python 3.9.9 64-bit",
   "language": "python",
   "name": "python3"
  },
  "language_info": {
   "codemirror_mode": {
    "name": "ipython",
    "version": 3
   },
   "file_extension": ".py",
   "mimetype": "text/x-python",
   "name": "python",
   "nbconvert_exporter": "python",
   "pygments_lexer": "ipython3",
   "version": "3.9.9"
  },
  "orig_nbformat": 4
 },
 "nbformat": 4,
 "nbformat_minor": 2
}
