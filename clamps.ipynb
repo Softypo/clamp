{
 "cells": [
  {
   "cell_type": "code",
   "execution_count": 1,
   "metadata": {},
   "outputs": [],
   "source": [
    "import re\n",
    "import pandas as pd\n",
    "import plotly.io as pio\n",
    "import plotly.express as px\n",
    "from plotly.subplots import make_subplots\n",
    "import plotly.graph_objects as go\n",
    "\n",
    "pd.options.plotting.backend = \"plotly\""
   ]
  },
  {
   "cell_type": "code",
   "execution_count": null,
   "metadata": {},
   "outputs": [],
   "source": [
    "cc = pd.read_csv('data\\mabee2606_features_QF.csv', usecols=[0,1,7])\n",
    "cc.rename(columns={'perfAngleFromHighSideClockwiseDegrees': 'AngleFromHighSideClockwiseDegrees'}, inplace=True)\n",
    "cc['type'] = 'Blast Protector'\n",
    "cc['NV'] = ['NV' if 'NV' in name else 'Inc' if 'Inc' in name else pd.NA for name in cc['name']]\n",
    "cc.loc[(cc['NV'] == 'NV') | (cc['NV'] == 'Inc') , 'AngleFromHighSideClockwiseDegrees'] = pd.NA\n",
    "cc['CC'] = ['CC'+name.split('.')[0] for name in cc['name']]\n",
    "\n",
    "\n",
    "perfs = pd.read_csv('data\\mabee2606_perfs_BIASED.csv', usecols=[0,1,7])\n",
    "perfs['type'] = 'PERFS'\n",
    "perfs.rename(columns={'perfAngleFromHighSideClockwiseDegrees': 'AngleFromHighSideClockwiseDegrees'}, inplace=True)"
   ]
  },
  {
   "cell_type": "code",
   "execution_count": null,
   "metadata": {},
   "outputs": [],
   "source": [
    "features = cc[['depth', 'CC', 'AngleFromHighSideClockwiseDegrees']].groupby(['CC']).mean(numeric_only=False)\n",
    "features['name'] = features.index"
   ]
  },
  {
   "cell_type": "code",
   "execution_count": null,
   "metadata": {},
   "outputs": [],
   "source": [
    "features = cc[['depth', 'CC', 'AngleFromHighSideClockwiseDegrees']].groupby(['CC']).mean(numeric_only=False)\n",
    "features['name'] = features.index\n",
    "features = features.sort_values(by=['depth'], ascending=False)\n",
    "features.reset_index(drop=True, inplace=True)\n",
    "features['type'] = 'CC'\n",
    "features.loc[features['AngleFromHighSideClockwiseDegrees'].isna(), 'type'] = features.loc[features['AngleFromHighSideClockwiseDegrees'].isna(), 'type']+' NV'\n",
    "features.interpolate(method='pad', inplace=True)\n",
    "\n",
    "\n",
    "features['fiberAngleFromHighSideClockwiseDegrees'] = [angle+180 if angle < 180 else angle-180 for angle in features['AngleFromHighSideClockwiseDegrees']]\n",
    "features['fiber_plot_angle'] = [angle-360 if angle > 180 else angle for angle in features['fiberAngleFromHighSideClockwiseDegrees']]\n",
    "\n",
    "\n",
    "combined = pd.concat([features, perfs])\n",
    "combined['plot_angle'] = [angle-360 if angle > 180 else angle for angle in combined['AngleFromHighSideClockwiseDegrees']]\n",
    "combined['angle_rounded'] = combined['AngleFromHighSideClockwiseDegrees'].round(0)\n",
    "combined['fiber_angle_rounded'] = combined['fiberAngleFromHighSideClockwiseDegrees'].round(0)"
   ]
  },
  {
   "cell_type": "code",
   "execution_count": null,
   "metadata": {},
   "outputs": [],
   "source": [
    "fig = go.Figure()\n",
    "\n",
    "# Add windows\n",
    "gozone_svg = ''.join([f'M {xy[0][0]+30},{xy[0][1]} ' if xy[1]==0 else f'L{xy[0][0]+30},{xy[0][1]} ' for xy in zip(combined.loc[combined['type']!='PERFS', ['plot_angle','depth']].values,range(combined.loc[combined['type']!='PERFS', ['plot_angle','depth']].shape[0]))])+''.join([f' L{xy[0][0]-30},{xy[0][1]} Z' if xy[1]==0 else f' L{xy[0][0]-30},{xy[0][1]}' for xy in zip(combined.loc[combined['type']!='PERFS', ['plot_angle','depth']].values,range(combined.loc[combined['type']!='PERFS', ['plot_angle','depth']].shape[0]))][::-1])\n",
    "\n",
    "nogozone_svg = ''.join([f'M {xy[0][0]+10},{xy[0][1]} ' if xy[1]==0 else f'L{xy[0][0]+10},{xy[0][1]} ' for xy in zip(combined.loc[combined['type']!='PERFS', ['fiber_plot_angle','depth']].values,range(combined.loc[combined['type']!='PERFS', ['fiber_plot_angle','depth']].shape[0]))])+''.join([f' L{xy[0][0]-10},{xy[0][1]} Z' if xy[1]==0 else f' L{xy[0][0]-10},{xy[0][1]}' for xy in zip(combined.loc[combined['type']!='PERFS', ['fiber_plot_angle','depth']].values,range(combined.loc[combined['type']!='PERFS', ['fiber_plot_angle','depth']].shape[0]))][::-1])\n",
    "\n",
    "fig.update_layout(shapes=[dict(type=\"path\", path=gozone_svg, fillcolor='rgba(154,205,50,0.2)', line=dict(width=0), layer='below'), dict(type=\"path\", path=nogozone_svg, fillcolor='rgba(255,69,0,0.2)', line=dict(width=0), layer='below')])\n",
    "\n",
    "# Add traces\n",
    "fig.add_trace(go.Scatter(x=combined.loc[combined['type']=='CC', 'plot_angle'], y=combined.loc[combined['type']=='CC', 'depth'], mode='markers', name='Blast Protector', marker_color='forestgreen', customdata=combined.loc[combined['type']=='CC', ['name', 'angle_rounded']]))\n",
    "\n",
    "fig.add_trace(go.Scatter(x=combined.loc[combined['type']=='CC NV', 'plot_angle'], y=combined.loc[combined['type']=='CC NV', 'depth'], mode='markers', name='Blast Protector LowConf', marker_color='forestgreen', customdata=combined.loc[combined['type']=='CC NV', ['name', 'angle_rounded']]))\n",
    "\n",
    "fig.add_trace(go.Scatter(x=combined.loc[combined['type']=='PERFS', 'plot_angle'], y=combined.loc[combined['type']=='PERFS', 'depth'], mode='markers', name='PERFS', marker_color='navy', customdata=combined.loc[combined['type']=='PERFS', ['name', 'angle_rounded']]))\n",
    "\n",
    "fig.add_trace(go.Scatter(x=combined.loc[combined['type']!='PERFS', 'fiber_plot_angle'], y=combined.loc[combined['type']!='PERFS', 'depth'], mode='lines+markers', name='Fiber Wire', marker_color='crimson', customdata=combined.loc[combined['type']!='PERFS', ['name', 'fiber_angle_rounded']]))\n",
    "\n",
    "fig.update_traces(hovertemplate='%{customdata[0]}<br>%{customdata[1]}')\n",
    "fig.update_xaxes(range=[-185, 185])\n",
    "fig.update_yaxes(autorange=\"reversed\")\n",
    "fig.update_layout(hovermode=\"y\", title=\"Jewelry vs Perfs\", legend_title=\"Type\", legend_orientation=\"h\", template=\"plotly\", yaxis_title=\"Depth\", xaxis_title='AngleFromHighSideClockwiseDegrees')\n",
    "fig.show()"
   ]
  },
  {
   "cell_type": "code",
   "execution_count": null,
   "metadata": {},
   "outputs": [],
   "source": [
    "fig = go.Figure()\n",
    "\n",
    "# Add windows\n",
    "gozone = [[combined.loc[combined['type']!='PERFS', 'plot_angle'].min(),combined.loc[combined['type']!='PERFS', 'plot_angle'].max()],\n",
    "[combined.loc[combined['type']!='PERFS', 'depth'].min(), combined.loc[combined['type']!='PERFS', 'depth'].max()]]\n",
    "\n",
    "nogo = [[combined.loc[combined['type']!='PERFS', 'fiber_plot_angle'].min(),combined.loc[combined['type']!='PERFS', 'fiber_plot_angle'].max()],\n",
    "[combined.loc[combined['type']!='PERFS', 'depth'].min(), combined.loc[combined['type']!='PERFS', 'depth'].max()]]\n",
    "\n",
    "fig.add_shape(type=\"rect\",\n",
    "    x0=gozone[0][0]-3, y0=gozone[1][0]-100, x1=gozone[0][1]+3, y1=gozone[1][1]+100,\n",
    "    line=dict(width=0),\n",
    "    fillcolor='rgba(154,205,50,0.1)', layer='below')\n",
    "\n",
    "fig.add_shape(type=\"rect\",\n",
    "    x0=nogo[0][0]-3, y0=nogo[1][0]-100, x1=nogo[0][1]+3, y1=nogo[1][1]+100,\n",
    "    line=dict(width=0),\n",
    "    fillcolor='rgba(255,0,0,0.1)', layer='below')\n",
    "\n",
    "# Add traces\n",
    "fig.add_trace(go.Scatter(x=combined.loc[combined['type']=='CC', 'plot_angle'], y=combined.loc[combined['type']=='CC', 'depth'], mode='markers', name='CC', marker_color='forestgreen', customdata=combined.loc[combined['type']=='CC', ['name', 'angle_rounded']]))\n",
    "\n",
    "fig.add_trace(go.Scatter(x=combined.loc[combined['type']=='CC NV', 'plot_angle'], y=combined.loc[combined['type']=='CC NV', 'depth'], mode='markers', name='CC NV', marker_color='forestgreen', customdata=combined.loc[combined['type']=='CC NV', ['name', 'angle_rounded']]))\n",
    "\n",
    "fig.add_trace(go.Scatter(x=combined.loc[combined['type']=='PERFS', 'plot_angle'], y=combined.loc[combined['type']=='PERFS', 'depth'], mode='markers', name='PERFS', marker_color='navy', customdata=combined.loc[combined['type']=='PERFS', ['name', 'angle_rounded']]))\n",
    "\n",
    "fig.add_trace(go.Scatter(x=combined.loc[combined['type']!='PERFS', 'fiber_plot_angle'], y=combined.loc[combined['type']!='PERFS', 'depth'], mode='lines+markers', name='Fiber Wire', marker_color='crimson', customdata=combined.loc[combined['type']!='PERFS', ['name', 'fiber_angle_rounded']]))\n",
    "\n",
    "fig.update_layout(hovermode=\"y\", title=\"Jewelry vs Perfs\", legend_title=\"Type\", legend_orientation=\"h\", template=\"plotly\")\n",
    "fig.update_traces(hovertemplate='%{customdata[0]}<br>%{customdata[1]}')\n",
    "fig.update_xaxes(range=[-185, 185])\n",
    "fig.update_yaxes(autorange=\"reversed\")\n",
    "fig.show()"
   ]
  },
  {
   "cell_type": "code",
   "execution_count": null,
   "metadata": {},
   "outputs": [],
   "source": [
    "CC, CC_NV = features['type'].value_counts()\n",
    "\n",
    "pie = make_subplots(rows=1, cols=1, specs=[[{\"type\": \"domain\"}]])\n",
    "\n",
    "pie.add_trace(go.Pie(\n",
    "     values=[CC, CC_NV],\n",
    "     labels=['Blast Protector', 'LowConfidence Orientation Interpolated'],\n",
    "     domain=dict(x=[0, 0.5]),\n",
    "     name=\"Blast Protector\",\n",
    "     hoverinfo='label+value',\n",
    "     sort=False,\n",
    "     marker_colors = ['forestgreen', 'lightgrey']\n",
    "     ), \n",
    "     row=1, col=1)\n",
    "\n",
    "pie.update_layout(title_text=\"Success rate by jewelry type\", template=\"plotly\")\n",
    "pie.show()"
   ]
  },
  {
   "cell_type": "code",
   "execution_count": null,
   "metadata": {},
   "outputs": [],
   "source": [
    "pio.write_html(fig, file='plotly/m.html', auto_open=False)\n",
    "pio.write_html(pie, file='plotly/mc.html', auto_open=False)"
   ]
  },
  {
   "cell_type": "code",
   "execution_count": 25,
   "metadata": {},
   "outputs": [
    {
     "data": {
      "text/plain": [
       "'CC'"
      ]
     },
     "execution_count": 25,
     "metadata": {},
     "output_type": "execute_result"
    }
   ],
   "source": [
    "\n",
    "\n",
    "re.split('(\\d+)', cc.name[0])[0]"
   ]
  },
  {
   "cell_type": "markdown",
   "metadata": {},
   "source": [
    "Well 2"
   ]
  },
  {
   "cell_type": "code",
   "execution_count": 56,
   "metadata": {},
   "outputs": [],
   "source": [
    "cc = pd.read_csv('data\\DVT340_clamps.csv', usecols=[0,4,9])\n",
    "cc.rename(columns={'perfAngleFromHighSideCounterClockwiseDegrees': 'AngleFromHighSideCounterClockwiseDegrees'}, inplace=True)\n",
    "cc['AngleFromHighSideClockwiseDegrees'] = abs(cc['AngleFromHighSideCounterClockwiseDegrees']-360)\n",
    "cc['type'] = ['CrossCoupling' if 'CC' in name else 'BlastProtector' if 'BP' in name else 'Other' for name in cc['name']]\n",
    "cc['hadware_name'] = [name.split('.')[0] for name in cc['name']]\n",
    "\n",
    "\n",
    "perfs = pd.read_csv('data\\Seidel Unit A3_Perfs_BIASED.csv', usecols=[0,1,7])\n",
    "perfs['type'] = 'PERFS'\n",
    "perfs.rename(columns={'perfAngleFromHighSideClockwiseDegrees': 'AngleFromHighSideClockwiseDegrees'}, inplace=True)"
   ]
  },
  {
   "cell_type": "code",
   "execution_count": 57,
   "metadata": {},
   "outputs": [],
   "source": [
    "features = cc[['hadware_name', 'depth', 'AngleFromHighSideClockwiseDegrees']].groupby(['hadware_name']).mean(numeric_only=True)\n",
    "features = features.sort_values(by=['depth'], ascending=False).reset_index()\n",
    "features['type'] = ['CrossCoupling' if 'CC' in name else 'BlastProtector' if 'BP' in name else 'Other' for name in features['hadware_name']]\n",
    "features['fiberAngleFromHighSideClockwiseDegrees'] = [angle+180 if angle < 180 else angle-180 for angle in features['AngleFromHighSideClockwiseDegrees']]\n",
    "features['fiber_plot_angle'] = [angle-360 if angle > 180 else angle for angle in features['fiberAngleFromHighSideClockwiseDegrees']]\n",
    "\n",
    "\n",
    "combined = pd.concat([features, perfs])\n",
    "combined['plot_angle'] = [angle-360 if angle > 180 else angle for angle in combined['AngleFromHighSideClockwiseDegrees']]\n",
    "combined['angle_rounded'] = combined['AngleFromHighSideClockwiseDegrees'].round(0)\n",
    "combined['fiber_angle_rounded'] = combined['fiberAngleFromHighSideClockwiseDegrees'].round(0)"
   ]
  },
  {
   "cell_type": "code",
   "execution_count": 59,
   "metadata": {},
   "outputs": [
    {
     "data": {
      "application/vnd.plotly.v1+json": {
       "config": {
        "plotlyServerURL": "https://plot.ly"
       },
       "data": [
        {
         "customdata": [
          [
           "BP1",
           301
          ],
          [
           "BP2",
           301
          ],
          [
           "BP4",
           297
          ],
          [
           "BP5",
           301
          ],
          [
           "BP7",
           311
          ],
          [
           "BP8",
           304
          ],
          [
           "BP10",
           303
          ],
          [
           "BP11",
           309
          ],
          [
           "BP13",
           300
          ],
          [
           "BP14",
           296
          ],
          [
           "BP16",
           304
          ],
          [
           "BP17",
           305
          ],
          [
           "BP19",
           302
          ],
          [
           "BP20",
           303
          ],
          [
           "BP22",
           305
          ],
          [
           "BP23",
           308
          ],
          [
           "BP25",
           294
          ],
          [
           "BP26",
           295
          ],
          [
           "BP28",
           293
          ],
          [
           "BP29",
           297
          ],
          [
           "BP31",
           298
          ],
          [
           "BP32",
           304
          ],
          [
           "BP34",
           310
          ],
          [
           "BP35",
           302
          ],
          [
           "BP37",
           301
          ],
          [
           "BP38",
           292
          ],
          [
           "BP40",
           300
          ],
          [
           "BP41",
           300
          ],
          [
           "BP43",
           299
          ],
          [
           "BP44",
           301
          ],
          [
           "BP46",
           297
          ],
          [
           "BP47",
           298
          ],
          [
           "BP49",
           291
          ],
          [
           "BP50",
           297
          ],
          [
           "BP52",
           295
          ],
          [
           "BP53",
           297
          ],
          [
           "BP55",
           298
          ],
          [
           "BP56",
           301
          ],
          [
           "BP58",
           308
          ],
          [
           "BP59",
           302
          ],
          [
           "BP61",
           303
          ],
          [
           "BP62",
           303
          ],
          [
           "BP64",
           312
          ],
          [
           "BP65",
           315
          ],
          [
           "BP67",
           299
          ],
          [
           "BP68",
           304
          ],
          [
           "BP70",
           307
          ],
          [
           "BP71",
           309
          ],
          [
           "BP73",
           310
          ],
          [
           "BP74",
           314
          ],
          [
           "BP76",
           300
          ],
          [
           "BP77",
           308
          ],
          [
           "BP79",
           305
          ],
          [
           "BP80",
           314
          ],
          [
           "BP81",
           306
          ],
          [
           "BP82",
           310
          ],
          [
           "BP83",
           312
          ],
          [
           "BP85",
           301
          ],
          [
           "BP86",
           307
          ],
          [
           "BP87",
           290
          ],
          [
           "BP88",
           292
          ],
          [
           "BP89",
           292
          ],
          [
           "BP91",
           295
          ],
          [
           "BP92",
           296
          ],
          [
           "BP94",
           298
          ],
          [
           "BP95",
           301
          ],
          [
           "BP97",
           303
          ],
          [
           "BP98",
           306
          ],
          [
           "BP100",
           292
          ],
          [
           "BP101",
           296
          ],
          [
           "BP103",
           285
          ],
          [
           "BP104",
           289
          ],
          [
           "BP106",
           298
          ],
          [
           "BP107",
           298
          ],
          [
           "BP109",
           298
          ],
          [
           "BP110",
           298
          ],
          [
           "BP112",
           301
          ],
          [
           "BP113",
           301
          ],
          [
           "BP115",
           301
          ],
          [
           "BP116",
           310
          ],
          [
           "BP118",
           301
          ],
          [
           "BP119",
           297
          ],
          [
           "BP121",
           288
          ],
          [
           "BP122",
           299
          ],
          [
           "BP124",
           295
          ],
          [
           "BP125",
           309
          ],
          [
           "BP127",
           289
          ],
          [
           "BP128",
           301
          ],
          [
           "BP130",
           280
          ],
          [
           "BP131",
           288
          ],
          [
           "BP133",
           303
          ],
          [
           "BP134",
           302
          ],
          [
           "BP136",
           306
          ],
          [
           "BP137",
           304
          ],
          [
           "BP139",
           303
          ],
          [
           "BP140",
           314
          ],
          [
           "BP142",
           313
          ],
          [
           "BP143",
           303
          ],
          [
           "BP145",
           306
          ],
          [
           "BP146",
           310
          ],
          [
           "BP148",
           313
          ],
          [
           "BP149",
           311
          ],
          [
           "BP151",
           310
          ],
          [
           "BP152",
           306
          ],
          [
           "BP154",
           300
          ],
          [
           "BP155",
           295
          ],
          [
           "BP157",
           303
          ],
          [
           "BP158",
           296
          ],
          [
           "BP160",
           298
          ],
          [
           "BP161",
           300
          ],
          [
           "BP163",
           288
          ],
          [
           "BP164",
           288
          ],
          [
           "BP166",
           275
          ],
          [
           "BP167",
           280
          ],
          [
           "BP169",
           312
          ],
          [
           "BP170",
           313
          ],
          [
           "BP172",
           320
          ],
          [
           "BP173",
           314
          ],
          [
           "BP175",
           304
          ],
          [
           "BP176",
           300
          ],
          [
           "BP178",
           268
          ],
          [
           "BP179",
           265
          ],
          [
           "BP181",
           307
          ],
          [
           "BP182",
           316
          ],
          [
           "BP184",
           297
          ],
          [
           "BP185",
           290
          ],
          [
           "BP187",
           297
          ],
          [
           "BP188",
           294
          ],
          [
           "BP190",
           282
          ],
          [
           "BP191",
           289
          ],
          [
           "BP193",
           305
          ],
          [
           "BP194",
           299
          ],
          [
           "BP196",
           308
          ],
          [
           "BP197",
           305
          ],
          [
           "BP199",
           318
          ],
          [
           "BP200",
           308
          ],
          [
           "BP202",
           304
          ],
          [
           "BP203",
           306
          ],
          [
           "BP205",
           302
          ],
          [
           "BP206",
           293
          ]
         ],
         "hovertemplate": "%{customdata[0]}<br>%{customdata[1]}",
         "marker": {
          "color": "forestgreen"
         },
         "mode": "markers",
         "name": "BlastProtector",
         "type": "scatter",
         "x": [
          -58.53518196766652,
          -58.837799176461374,
          -63.156220275548776,
          -58.51090765574605,
          -49.41186040423935,
          -56.095413084440395,
          -56.86140036075085,
          -51.058063642616105,
          -60.33707618832375,
          -63.627696946615686,
          -55.75629846409561,
          -55.36569403656176,
          -58.08256440810629,
          -56.60416140933029,
          -55.393119616355364,
          -51.833676609884606,
          -65.8457796588587,
          -64.75482981974329,
          -66.79360464075052,
          -62.82132644429481,
          -61.62023501836205,
          -56.242644139195875,
          -49.594137377463596,
          -57.61589028397219,
          -59.32150924570402,
          -67.52890047783507,
          -59.78090680583995,
          -60.19716944404939,
          -60.86629820509296,
          -59.34344323071127,
          -62.94852307481386,
          -61.94760400390663,
          -69.20036085643073,
          -63.028392642205404,
          -65.11428444181519,
          -63.14025385165775,
          -61.88486512533984,
          -58.75534980049241,
          -51.581155010977284,
          -58.41251170372897,
          -56.62119735443878,
          -56.81004424371389,
          -47.50022491797171,
          -45.49821488881872,
          -60.872677884461666,
          -56.41382482978776,
          -53.31465791873876,
          -51.39932685469256,
          -50.07538372818726,
          -46.303468872688825,
          -59.6152265100813,
          -52.363185105551395,
          -55.40098823674185,
          -45.69527417315743,
          -54.129383306322325,
          -50.33741642649369,
          -48.40838212184724,
          -58.93839146669325,
          -53.1226406629973,
          -69.69254040249501,
          -68.43980712987752,
          -68.30394048730847,
          -65.2442121711577,
          -63.59170639703456,
          -61.846332964367605,
          -58.70780385279312,
          -57.18699317713043,
          -54.463247312044416,
          -67.57513817190204,
          -64.02278074349783,
          -74.51709481770712,
          -71.16070805383077,
          -62.156905486467906,
          -62.23878040614244,
          -62.25915935430561,
          -61.93205774906545,
          -58.83490499034633,
          -58.81474642525433,
          -58.934017888857056,
          -50.30294271657033,
          -58.825958048695384,
          -62.95530232613987,
          -72.17812830923776,
          -60.565432200171756,
          -64.67278226348054,
          -50.79543888792131,
          -70.89936290487839,
          -59.133961060764534,
          -80.42436607987861,
          -72.32826235015517,
          -57.00232887975977,
          -58.05966519489425,
          -54.481428423493526,
          -56.29491623945529,
          -56.60977639572252,
          -46.48683446572386,
          -46.983760761440806,
          -56.55574647564168,
          -54.22743698216175,
          -49.53365213289101,
          -47.47833793019771,
          -49.03781445698479,
          -50.46951184616108,
          -53.69617141592329,
          -60.289387750425306,
          -65.25528935519691,
          -56.90599557580509,
          -63.502773797933685,
          -61.97671025989928,
          -60.381041899053116,
          -71.7007016771484,
          -71.56620938403802,
          -85.3016502123366,
          -80.34249041095438,
          -47.83872838333497,
          -47.268348898282284,
          -39.52031702910085,
          -45.85046934126518,
          -56.1832284158408,
          -59.73736201340995,
          -91.50135913314278,
          -94.74978154982335,
          -52.62051954993785,
          -43.81818804193614,
          -62.907613888241485,
          -70.36622567650926,
          -62.657918881123464,
          -66.04918922542674,
          -78.04888306126622,
          -70.81783101063132,
          -54.593662055512766,
          -61.24680977538554,
          -52.14118305853134,
          -55.04964096747102,
          -42.03422665101681,
          -52.08211110985343,
          -56.37730831964478,
          -53.918555434806706,
          -58.241273717357615,
          -66.93092352565014
         ],
         "y": [
          4984.313162,
          4982.802707,
          4971.897355,
          4970.0365286666665,
          4956.991142,
          4955.050317,
          4942.868155,
          4940.997767,
          4928.821293833334,
          4926.914620833333,
          4914.488997333333,
          4912.628154333333,
          4900.243102,
          4898.339244333333,
          4885.952392666667,
          4884.035937,
          4871.775360333333,
          4869.890827666667,
          4857.543570333333,
          4855.647383666666,
          4843.105012,
          4841.220379333333,
          4828.959864333333,
          4827.014093666667,
          4814.776691666666,
          4812.8775633333335,
          4800.595321666667,
          4798.682036666666,
          4786.253150333334,
          4784.342945166667,
          4772.055244666667,
          4770.091257,
          4757.9049393333335,
          4756.066050666667,
          4743.662304333334,
          4741.749565666666,
          4729.305364666667,
          4727.3739015,
          4715.018646666666,
          4713.079495333333,
          4700.527095166667,
          4698.641813,
          4686.335992333334,
          4684.436351666666,
          4672.334191000001,
          4670.42817,
          4657.970682333334,
          4656.0787915,
          4643.765138666667,
          4641.846996,
          4629.354456666667,
          4627.463041666667,
          4615.011251,
          4613.088736666667,
          4604.639547,
          4600.720334333333,
          4598.834733666667,
          4586.3124020000005,
          4584.420193666667,
          4572.254406,
          4571.2920205,
          4570.404875,
          4553.5756833333335,
          4551.654464,
          4543.7299158333335,
          4541.822674333333,
          4529.522104333333,
          4527.654555666667,
          4515.094760999999,
          4513.205724666666,
          4501.074941333333,
          4499.160920666666,
          4487.026122,
          4485.050129,
          4472.478254000001,
          4470.5690976666665,
          4458.0147545,
          4456.059557166666,
          4444.345016666666,
          4442.348602666666,
          4429.896556666667,
          4427.957653,
          4415.729238,
          4413.681958333334,
          4401.339666333333,
          4399.388962,
          4386.848264333334,
          4385.024064333334,
          4372.515137666666,
          4370.571607999999,
          4358.592572333333,
          4356.6982216666665,
          4344.3228695,
          4342.437246166667,
          4329.929198,
          4328.046853333333,
          4315.6353930000005,
          4313.722295,
          4301.311308666666,
          4299.402256,
          4287.132058666666,
          4285.251353666667,
          4272.969019166667,
          4271.058371666667,
          4258.829865666667,
          4256.940933333333,
          4244.519354666667,
          4242.653079666667,
          4230.272219333333,
          4228.395004999999,
          4215.849682666667,
          4213.942044,
          4201.7362146666665,
          4199.857529333333,
          4187.678637333333,
          4185.823228666667,
          4173.723347333334,
          4171.896638,
          4159.319468333333,
          4157.397682,
          4144.956483666666,
          4143.069679666667,
          4130.838517,
          4128.971604333333,
          4116.661766,
          4114.812947666666,
          4101.337297833333,
          4099.835026,
          4087.8701791666667,
          4085.9877353333336,
          4073.753666666667,
          4071.8652575,
          4059.310949,
          4057.466473666667,
          4045.013999666666,
          4043.1447338333332,
          4030.836486166667,
          4028.9357455000004,
          4015.794506333333,
          4013.7710733333333
         ]
        },
        {
         "customdata": [
          [
           "CC3",
           300
          ],
          [
           "CC6",
           306
          ],
          [
           "CC9",
           301
          ],
          [
           "CC12",
           293
          ],
          [
           "CC15",
           295
          ],
          [
           "CC18",
           307
          ],
          [
           "CC21",
           292
          ],
          [
           "CC24",
           301
          ],
          [
           "CC27",
           296
          ],
          [
           "CC30",
           297
          ],
          [
           "CC33",
           297
          ],
          [
           "CC36",
           300
          ],
          [
           "CC39",
           292
          ],
          [
           "CC42",
           302
          ],
          [
           "CC45",
           296
          ],
          [
           "CC48",
           301
          ],
          [
           "CC51",
           290
          ],
          [
           "CC54",
           305
          ],
          [
           "CC57",
           296
          ],
          [
           "CC60",
           303
          ],
          [
           "CC63",
           303
          ],
          [
           "CC66",
           308
          ],
          [
           "CC69",
           293
          ],
          [
           "CC72",
           307
          ],
          [
           "CC75",
           308
          ],
          [
           "CC78",
           304
          ],
          [
           "CC81",
           304
          ],
          [
           "CC84",
           306
          ],
          [
           "CC87",
           301
          ],
          [
           "CC90",
           292
          ],
          [
           "CC93",
           289
          ],
          [
           "CC96",
           287
          ],
          [
           "CC99",
           293
          ],
          [
           "CC102",
           293
          ],
          [
           "CC105",
           310
          ],
          [
           "CC108",
           305
          ],
          [
           "CC111",
           310
          ],
          [
           "CC114",
           310
          ],
          [
           "CC117",
           305
          ],
          [
           "CC120",
           296
          ],
          [
           "CC123",
           296
          ],
          [
           "CC126",
           291
          ],
          [
           "CC129",
           303
          ],
          [
           "CC132",
           304
          ],
          [
           "CC135",
           298
          ],
          [
           "CC138",
           301
          ],
          [
           "CC141",
           305
          ],
          [
           "CC144",
           303
          ],
          [
           "CC147",
           309
          ],
          [
           "CC150",
           309
          ],
          [
           "CC153",
           299
          ],
          [
           "CC156",
           302
          ],
          [
           "CC159",
           302
          ],
          [
           "CC162",
           294
          ],
          [
           "CC165",
           284
          ],
          [
           "CC168",
           304
          ],
          [
           "CC171",
           303
          ],
          [
           "CC174",
           313
          ],
          [
           "CC177",
           294
          ],
          [
           "CC180",
           291
          ],
          [
           "CC183",
           288
          ],
          [
           "CC186",
           291
          ],
          [
           "CC189",
           294
          ],
          [
           "CC192",
           305
          ],
          [
           "CC195",
           310
          ],
          [
           "CC198",
           303
          ],
          [
           "CC201",
           298
          ],
          [
           "CC204",
           306
          ],
          [
           "CC207",
           293
          ],
          [
           "CC208",
           290
          ],
          [
           "CC209",
           329
          ]
         ],
         "hovertemplate": "%{customdata[0]}<br>%{customdata[1]}",
         "marker": {
          "color": "darkolivegreen"
         },
         "mode": "markers",
         "name": "CrossCoupling",
         "type": "scatter",
         "x": [
          -60.077240577481575,
          -54.00162476580408,
          -59.36009795320615,
          -67.14510469876666,
          -65.10907052587947,
          -53.395807841122405,
          -68.16766247573662,
          -59.10504579070357,
          -64.37605697067892,
          -62.623837441609794,
          -62.96368735779163,
          -60.24225242247928,
          -67.56637191763662,
          -58.18954517775387,
          -64.3971418175397,
          -58.62972000386304,
          -69.8295265605135,
          -55.32481349787918,
          -64.42593294674509,
          -56.61585929764749,
          -56.767893648585414,
          -51.59517337836485,
          -67.14166695199583,
          -53.405290292631946,
          -52.24848850426275,
          -56.38807992619326,
          -56.464713031292035,
          -53.54870162875318,
          -58.6367960326329,
          -68.33499479980458,
          -71.16062211016151,
          -72.92736611933708,
          -67.47627430435227,
          -67.35655477305966,
          -49.69705894681266,
          -54.55461498177459,
          -49.94557059040369,
          -49.597412786192535,
          -55.28877445256546,
          -64.47506407767753,
          -64.08124153719433,
          -69.24467989113373,
          -56.96802780642463,
          -56.26294594373667,
          -61.536707321128574,
          -58.712598348928736,
          -54.60076673217236,
          -56.64207211677473,
          -51.07931082751884,
          -51.12691369637275,
          -60.81174382294955,
          -58.066903561706056,
          -58.17476286663941,
          -66.13042509147965,
          -76.19789515761306,
          -55.90745427974775,
          -57.06571711049446,
          -47.30956366234534,
          -65.7140280138683,
          -68.58953130029147,
          -71.63041885427901,
          -69.22093079052559,
          -65.97947936035246,
          -55.496829751922405,
          -49.92318226455893,
          -56.951039607798975,
          -62.090442382232766,
          -53.826643455171165,
          -67.07259688979286,
          -70.06518410165086,
          -31.450206484683235
         ],
         "y": [
          4975.153592500001,
          4960.856463,
          4946.7358955,
          4932.450533499999,
          4918.394408,
          4904.153004,
          4889.893803000001,
          4875.670314999999,
          4861.392934,
          4847.1043205,
          4832.8717455000005,
          4818.6014995000005,
          4804.3107385,
          4790.0136170000005,
          4775.7611055,
          4761.494815,
          4747.3386215,
          4733.168165,
          4718.9480955,
          4704.6543280000005,
          4690.4078305,
          4676.137288,
          4661.8621885,
          4647.519645,
          4633.218693000001,
          4618.9546435,
          4604.6477445,
          4590.3937105,
          4576.067463,
          4561.802341500001,
          4547.59944,
          4533.3124885,
          4518.9843205,
          4504.7514695,
          4490.66994,
          4476.363686,
          4462.0629205000005,
          4447.752784,
          4433.463826499999,
          4419.317337,
          4405.0266295,
          4390.7306225,
          4376.3647855,
          4362.0885634999995,
          4347.9172555000005,
          4333.773406,
          4319.450185,
          4305.1179245,
          4290.800976500001,
          4276.54949175,
          4262.3246309999995,
          4248.079079499999,
          4233.814691,
          4219.497231,
          4205.272089,
          4191.144644,
          4177.1087449999995,
          4162.8124295,
          4148.4793805,
          4134.2420645,
          4119.990605,
          4105.693119,
          4091.404432,
          4077.17376125,
          4062.8807662500003,
          4048.591841,
          4034.371141,
          4020.056055,
          4006.0868405,
          4000.103262,
          3995.46385
         ]
        },
        {
         "customdata": [
          [
           "14.5.4",
           323
          ],
          [
           "14.5.3",
           321
          ],
          [
           "14.5.2",
           328
          ],
          [
           "14.5.1",
           330
          ],
          [
           "14.4.4",
           320
          ],
          [
           "14.4.3",
           318
          ],
          [
           "14.4.2",
           322
          ],
          [
           "14.4.1",
           324
          ],
          [
           "14.3.4",
           319
          ],
          [
           "14.3.3",
           317
          ],
          [
           "14.3.2",
           315
          ],
          [
           "14.3.1",
           317
          ],
          [
           "14.2.4",
           324
          ],
          [
           "14.2.3",
           326
          ],
          [
           "14.2.2",
           323
          ],
          [
           "14.2.1",
           325
          ],
          [
           "14.1.4",
           321
          ],
          [
           "14.1.3",
           323
          ],
          [
           "14.1.2",
           320
          ],
          [
           "14.1.1",
           324
          ],
          [
           "13.5.4",
           307
          ],
          [
           "13.5.3",
           307
          ],
          [
           "13.5.2",
           307
          ],
          [
           "13.5.1",
           308
          ],
          [
           "13.4.4",
           304
          ],
          [
           "13.4.3",
           306
          ],
          [
           "13.4.2",
           304
          ],
          [
           "13.4.1",
           305
          ],
          [
           "13.3.4",
           306
          ],
          [
           "13.3.3",
           308
          ],
          [
           "13.3.2",
           306
          ],
          [
           "13.3.1",
           305
          ],
          [
           "13.2.4",
           301
          ],
          [
           "13.2.3",
           302
          ],
          [
           "13.2.2",
           303
          ],
          [
           "13.2.1",
           304
          ],
          [
           "13.1.4",
           307
          ],
          [
           "13.1.3",
           308
          ],
          [
           "13.1.2",
           305
          ],
          [
           "13.1.1",
           310
          ],
          [
           "12.4.4",
           299
          ],
          [
           "12.4.3",
           297
          ],
          [
           "12.4.2",
           299
          ],
          [
           "12.4.1",
           299
          ],
          [
           "12.3.4",
           301
          ],
          [
           "12.3.3",
           304
          ],
          [
           "12.3.2",
           306
          ],
          [
           "12.3.1",
           308
          ],
          [
           "12.2.4",
           309
          ],
          [
           "12.2.3",
           311
          ],
          [
           "12.2.2",
           310
          ],
          [
           "12.2.1",
           311
          ],
          [
           "12.1.4",
           317
          ],
          [
           "12.1.3",
           321
          ],
          [
           "12.1.2",
           319
          ],
          [
           "12.1.1",
           321
          ],
          [
           "11.5.4",
           315
          ],
          [
           "11.5.3",
           315
          ],
          [
           "11.5.2",
           319
          ],
          [
           "11.5.1",
           314
          ],
          [
           "11.4.4",
           339
          ],
          [
           "11.4.3",
           340
          ],
          [
           "11.4.2",
           340
          ],
          [
           "11.4.1",
           340
          ],
          [
           "11.3.4",
           324
          ],
          [
           "11.3.3",
           323
          ],
          [
           "11.3.2",
           326
          ],
          [
           "11.3.1",
           324
          ],
          [
           "11.2.4",
           331
          ],
          [
           "11.2.3",
           333
          ],
          [
           "11.2.2",
           337
          ],
          [
           "11.2.1",
           337
          ],
          [
           "11.1.4",
           300
          ],
          [
           "11.1.3",
           301
          ],
          [
           "11.1.2",
           301
          ],
          [
           "11.1.1",
           301
          ],
          [
           "10.4.4",
           325
          ],
          [
           "10.4.3",
           322
          ],
          [
           "10.4.2",
           326
          ],
          [
           "10.4.1",
           327
          ],
          [
           "10.3.4",
           336
          ],
          [
           "10.3.3",
           340
          ],
          [
           "10.3.2",
           340
          ],
          [
           "10.3.1",
           343
          ],
          [
           "10.2.4",
           315
          ],
          [
           "10.2.3",
           313
          ],
          [
           "10.2.2",
           314
          ],
          [
           "10.2.1",
           317
          ],
          [
           "10.1.4",
           315
          ],
          [
           "10.1.3",
           316
          ],
          [
           "10.1.2",
           316
          ],
          [
           "10.1.1",
           313
          ],
          [
           "9.4.4",
           348
          ],
          [
           "9.4.3",
           347
          ],
          [
           "9.4.2",
           347
          ],
          [
           "9.4.1",
           346
          ],
          [
           "9.3.4",
           347
          ],
          [
           "9.3.3",
           346
          ],
          [
           "9.3.2",
           350
          ],
          [
           "9.3.1",
           345
          ],
          [
           "9.2.4",
           349
          ],
          [
           "9.2.3",
           355
          ],
          [
           "9.2.2",
           355
          ],
          [
           "9.2.1",
           353
          ],
          [
           "9.1.4",
           357
          ],
          [
           "9.1.3",
           355
          ],
          [
           "9.1.2",
           356
          ],
          [
           "9.1.1",
           359
          ],
          [
           "8.5.4",
           329
          ],
          [
           "8.5.3",
           323
          ],
          [
           "8.5.2",
           326
          ],
          [
           "8.5.1",
           330
          ],
          [
           "8.4.4",
           331
          ],
          [
           "8.4.3",
           329
          ],
          [
           "8.4.2",
           330
          ],
          [
           "8.4.1",
           332
          ],
          [
           "8.3.4",
           304
          ],
          [
           "8.3.3",
           305
          ],
          [
           "8.3.2",
           307
          ],
          [
           "8.3.1",
           308
          ],
          [
           "8.2.4",
           303
          ],
          [
           "8.2.3",
           300
          ],
          [
           "8.2.2",
           302
          ],
          [
           "8.2.1",
           302
          ],
          [
           "8.1.3",
           288
          ],
          [
           "8.1.2",
           288
          ],
          [
           "8.1.1",
           286
          ],
          [
           "7.5.4",
           306
          ],
          [
           "7.5.3",
           305
          ],
          [
           "7.5.2",
           303
          ],
          [
           "7.5.1",
           307
          ],
          [
           "7.4.4",
           300
          ],
          [
           "7.4.3",
           302
          ],
          [
           "7.4.2",
           299
          ],
          [
           "7.4.1",
           299
          ],
          [
           "7.3.3",
           303
          ],
          [
           "7.3.2",
           303
          ],
          [
           "7.3.1",
           301
          ],
          [
           "7.2.4",
           292
          ],
          [
           "7.2.3",
           290
          ],
          [
           "7.2.2",
           294
          ],
          [
           "7.2.1",
           292
          ],
          [
           "7.1.4",
           294
          ],
          [
           "7.1.3",
           294
          ],
          [
           "7.1.2",
           298
          ],
          [
           "7.1.1",
           296
          ],
          [
           "6.4.4",
           297
          ],
          [
           "6.4.3",
           302
          ],
          [
           "6.4.2",
           297
          ],
          [
           "6.4.1",
           298
          ],
          [
           "6.3.4",
           300
          ],
          [
           "6.3.2",
           303
          ],
          [
           "6.3.1",
           301
          ],
          [
           "6.2.4",
           295
          ],
          [
           "6.2.3",
           293
          ],
          [
           "6.2.2",
           296
          ],
          [
           "6.2.1",
           296
          ],
          [
           "6.1.4",
           304
          ],
          [
           "6.1.3",
           302
          ],
          [
           "6.1.2",
           301
          ],
          [
           "6.1.1",
           303
          ],
          [
           "5.5.4",
           296
          ],
          [
           "5.5.3",
           297
          ],
          [
           "5.5.2",
           300
          ],
          [
           "5.5.1",
           296
          ],
          [
           "5.4.4",
           291
          ],
          [
           "5.4.3",
           290
          ],
          [
           "5.4.2",
           296
          ],
          [
           "5.4.1",
           295
          ],
          [
           "5.3.4",
           298
          ],
          [
           "5.3.3",
           301
          ],
          [
           "5.3.2",
           297
          ],
          [
           "5.3.1",
           295
          ],
          [
           "5.2.4",
           301
          ],
          [
           "5.2.3",
           302
          ],
          [
           "5.2.2",
           302
          ],
          [
           "5.2.1",
           301
          ],
          [
           "5.1.4",
           284
          ],
          [
           "5.1.3",
           286
          ],
          [
           "5.1.2",
           287
          ],
          [
           "5.1.1",
           288
          ],
          [
           "4.5.4",
           297
          ],
          [
           "4.5.3",
           294
          ],
          [
           "4.5.2",
           293
          ],
          [
           "4.5.1",
           294
          ],
          [
           "4.4.4",
           315
          ],
          [
           "4.4.3",
           310
          ],
          [
           "4.4.2",
           312
          ],
          [
           "4.4.1",
           313
          ],
          [
           "4.3.4",
           303
          ],
          [
           "4.3.3",
           302
          ],
          [
           "4.3.2",
           305
          ],
          [
           "4.3.1",
           305
          ],
          [
           "4.2.4",
           294
          ],
          [
           "4.2.3",
           297
          ],
          [
           "4.2.2",
           296
          ],
          [
           "4.2.1",
           296
          ],
          [
           "4.1.3",
           310
          ],
          [
           "4.1.2",
           313
          ],
          [
           "4.1.1",
           313
          ],
          [
           "3.5.4",
           283
          ],
          [
           "3.5.3",
           285
          ],
          [
           "3.5.2",
           287
          ],
          [
           "3.5.1",
           287
          ],
          [
           "3.4.4",
           293
          ],
          [
           "3.4.3",
           292
          ],
          [
           "3.4.2",
           290
          ],
          [
           "3.4.1",
           294
          ],
          [
           "3.3.4",
           287
          ],
          [
           "3.3.3",
           287
          ],
          [
           "3.3.2",
           290
          ],
          [
           "3.3.1",
           285
          ],
          [
           "3.2.4",
           303
          ],
          [
           "3.2.3",
           304
          ],
          [
           "3.2.2",
           306
          ],
          [
           "3.2.1",
           304
          ],
          [
           "3.1.4",
           301
          ],
          [
           "3.1.3",
           299
          ],
          [
           "3.1.2",
           301
          ],
          [
           "3.1.1",
           301
          ],
          [
           "2.6.3",
           314
          ],
          [
           "2.6.2",
           319
          ],
          [
           "2.6.1",
           313
          ],
          [
           "2.5.4",
           307
          ],
          [
           "2.5.3",
           305
          ],
          [
           "2.5.1",
           305
          ],
          [
           "2.4.4",
           300
          ],
          [
           "2.4.3",
           300
          ],
          [
           "2.4.2",
           300
          ],
          [
           "2.4.1",
           298
          ],
          [
           "2.3.4",
           298
          ],
          [
           "2.3.3",
           292
          ],
          [
           "2.3.2",
           294
          ],
          [
           "2.3.1",
           295
          ],
          [
           "2.2.4",
           309
          ],
          [
           "2.2.3",
           308
          ],
          [
           "2.2.2",
           303
          ],
          [
           "2.1.2",
           280
          ],
          [
           "2.1.1",
           280
          ],
          [
           "1.4.4",
           261
          ]
         ],
         "hovertemplate": "%{customdata[0]}<br>%{customdata[1]}",
         "marker": {
          "color": "navy"
         },
         "mode": "markers",
         "name": "PERFS",
         "type": "scatter",
         "x": [
          -36.701018999999974,
          -39.23269699999997,
          -31.806670999999994,
          -29.882355000000018,
          -39.871216000000004,
          -42.14724699999999,
          -38.23443600000002,
          -36.409851,
          -40.97146600000002,
          -42.86700400000001,
          -44.69586199999998,
          -42.63870200000002,
          -35.863433999999984,
          -34.207336,
          -37.086945000000014,
          -34.92993200000001,
          -39.134277,
          -36.936432000000025,
          -39.87527499999999,
          -35.82232699999997,
          -53.154540999999995,
          -52.63699300000002,
          -52.67373700000002,
          -51.657317999999975,
          -56.23559599999999,
          -54.294677999999976,
          -56.014679,
          -55.206511999999975,
          -54.104614000000026,
          -52.24981700000001,
          -53.69781499999999,
          -55.389343,
          -58.900116000000025,
          -57.899963000000014,
          -56.80865499999999,
          -56.334045,
          -52.74835200000001,
          -51.94802900000002,
          -54.96374500000002,
          -49.704436999999984,
          -61.114349000000004,
          -62.79638699999998,
          -60.911681999999985,
          -60.80789199999998,
          -58.920929,
          -55.95379600000001,
          -54.455322000000024,
          -52.02218599999998,
          -50.881530999999995,
          -48.811492999999984,
          -50.469086000000004,
          -48.786407,
          -42.616179999999986,
          -38.85498000000001,
          -41.277466000000004,
          -39.00149499999998,
          -44.59448200000003,
          -44.88110399999999,
          -40.86971999999997,
          -46.288756999999976,
          -20.710357999999985,
          -20.392395000000022,
          -19.69415299999997,
          -20.416930999999977,
          -36.32858299999998,
          -36.79495200000002,
          -33.90136699999999,
          -35.60229500000003,
          -28.753905999999972,
          -27.078949000000023,
          -23.000824000000023,
          -23.35961900000001,
          -60.03610200000003,
          -58.92639200000002,
          -58.72216800000001,
          -59.112243999999976,
          -34.600036999999986,
          -38.00531000000001,
          -34.45431500000001,
          -32.84484900000001,
          -23.777008000000023,
          -20.262999999999977,
          -20.223297000000002,
          -17.43957499999999,
          -45.36779799999999,
          -47.221802000000025,
          -45.771454000000006,
          -42.83633400000002,
          -44.833252000000016,
          -43.856719999999996,
          -43.791747999999984,
          -46.60873400000003,
          -12.06759599999998,
          -13.30676299999999,
          -12.743072999999981,
          -13.550995,
          -13.41815200000002,
          -14.495239000000026,
          -9.600310999999977,
          -14.94598400000001,
          -10.733520999999996,
          -4.587676999999985,
          -4.509551999999985,
          -6.791747999999984,
          -3.4121700000000033,
          -5.1989750000000186,
          -3.588318000000015,
          -1.3601070000000277,
          -31.489379999999983,
          -36.89865099999997,
          -33.82693499999999,
          -29.83279399999998,
          -29.32699600000001,
          -30.77688599999999,
          -30.362731999999994,
          -27.62548800000002,
          -55.97729500000003,
          -54.586761000000024,
          -52.545410000000004,
          -51.78146400000003,
          -56.847351,
          -60.03317299999998,
          -57.999145999999996,
          -58.023528999999996,
          -72.44970699999999,
          -71.67044099999998,
          -73.68640099999999,
          -54.17648300000002,
          -55.171538999999996,
          -56.693817000000024,
          -52.96621699999997,
          -59.86920199999997,
          -57.620299999999986,
          -60.925385000000006,
          -61.081299,
          -56.63491800000003,
          -56.673339999999996,
          -59.49996900000002,
          -68.332764,
          -69.91546599999998,
          -65.80505399999998,
          -68.02593999999999,
          -65.65612800000002,
          -65.618652,
          -61.82998700000002,
          -64.145355,
          -62.86978099999999,
          -57.727417,
          -62.627013999999974,
          -61.87847900000003,
          -60.34258999999997,
          -57.355376999999976,
          -58.803008999999975,
          -64.77181999999999,
          -66.90978999999999,
          -64.267944,
          -64.25637799999998,
          -56.017853,
          -58.346862999999985,
          -58.51010100000002,
          -57.242493000000024,
          -63.553679999999986,
          -63.08612099999999,
          -59.99401899999998,
          -63.54373199999998,
          -68.79150399999997,
          -69.790955,
          -64.18649299999998,
          -64.61270100000002,
          -62.12652600000001,
          -59.224762,
          -63.122833000000014,
          -65.08355699999998,
          -58.924927000000025,
          -57.67233299999998,
          -58.30407700000001,
          -59.390716999999995,
          -76.16241500000001,
          -73.756866,
          -73.37554899999998,
          -72.06106599999998,
          -62.870667000000026,
          -66.14205900000002,
          -67.13534499999997,
          -66.07431000000003,
          -45.484069999999974,
          -50.090393000000006,
          -47.95971700000001,
          -47.49359099999998,
          -57.08297700000003,
          -57.613800000000026,
          -54.87677000000002,
          -54.86971999999997,
          -66.36370799999997,
          -62.859802,
          -63.92681900000002,
          -63.67773399999999,
          -49.53076199999998,
          -47.22335800000002,
          -47.135437000000024,
          -77.36862200000002,
          -74.57388300000002,
          -73.39685100000003,
          -72.66613799999999,
          -67.31042500000001,
          -68.12152099999997,
          -69.985413,
          -65.91348299999999,
          -73.21408100000002,
          -73.402466,
          -69.71777300000002,
          -74.80844100000002,
          -57.415557999999976,
          -55.80346700000001,
          -53.594604000000004,
          -56.176147000000014,
          -58.923157,
          -60.58618200000001,
          -58.954680999999994,
          -58.95605499999999,
          -46.00589000000002,
          -40.54278599999998,
          -47.05346700000001,
          -52.70873999999998,
          -54.546783000000005,
          -55.26678500000003,
          -59.79025300000001,
          -59.62591600000002,
          -59.934417999999994,
          -62.10031099999998,
          -62.43899499999998,
          -67.53951999999998,
          -65.53213499999998,
          -65.064209,
          -50.82574499999998,
          -51.79495200000002,
          -56.67141700000002,
          -79.68515000000002,
          -80.024811,
          -99.01593000000003
         ],
         "y": [
          4014.266602,
          4014.323242,
          4014.444824,
          4014.505371,
          4028.364502,
          4028.421875,
          4028.541504,
          4028.598633,
          4042.401855,
          4042.462891,
          4042.588867,
          4042.647461,
          4056.919434,
          4056.978516,
          4057.096191,
          4057.15625,
          4070.884766,
          4070.943604,
          4071.061035,
          4071.123535,
          4081.258545,
          4081.317383,
          4081.438477,
          4081.497559,
          4094.121582,
          4094.180176,
          4094.301025,
          4094.359863,
          4110.03125,
          4110.088867,
          4110.217773,
          4110.279297,
          4124.410156,
          4124.472656,
          4124.591797,
          4124.652344,
          4152.17627,
          4152.236816,
          4152.35791,
          4152.416016,
          4182.76123,
          4182.824219,
          4182.947266,
          4183.003906,
          4196.754883,
          4196.814941,
          4196.939453,
          4197.001465,
          4211.223633,
          4211.281738,
          4211.400391,
          4211.461914,
          4225.677734,
          4225.737305,
          4225.851562,
          4225.913086,
          4243.472656,
          4243.532227,
          4243.65625,
          4243.71582,
          4257.45752,
          4257.520508,
          4257.648438,
          4257.707031,
          4271.890625,
          4271.955078,
          4272.075195,
          4272.138672,
          4286.237793,
          4286.300781,
          4286.42334,
          4286.484863,
          4299.416016,
          4299.474609,
          4299.598633,
          4299.65918,
          4312.023438,
          4312.086914,
          4312.20459,
          4312.266113,
          4325.928711,
          4325.994141,
          4326.111816,
          4326.17334,
          4353.484375,
          4353.54541,
          4353.672363,
          4353.732422,
          4366.894043,
          4366.952148,
          4367.073242,
          4367.131836,
          4384.778809,
          4384.839844,
          4384.960938,
          4385.019043,
          4398.881836,
          4398.943848,
          4399.06543,
          4399.12793,
          4412.4375,
          4412.492676,
          4412.616211,
          4412.680664,
          4442.241211,
          4442.303223,
          4442.425293,
          4442.48584,
          4456.775879,
          4456.840332,
          4456.959473,
          4457.019531,
          4466.65332,
          4466.71582,
          4466.835938,
          4466.895508,
          4484.911133,
          4484.972656,
          4485.094727,
          4485.15332,
          4488.95752,
          4489.016602,
          4489.139648,
          4489.203125,
          4513.269531,
          4513.388184,
          4513.447266,
          4527.864258,
          4527.923828,
          4528.043945,
          4528.103516,
          4542.375488,
          4542.432129,
          4542.553711,
          4542.615234,
          4571.517578,
          4571.57666,
          4571.636719,
          4585.170898,
          4585.231445,
          4585.353516,
          4585.413574,
          4599.696289,
          4599.755859,
          4599.880859,
          4599.9375,
          4612.730469,
          4612.784668,
          4612.910156,
          4612.968262,
          4641.666016,
          4641.856445,
          4641.914062,
          4656.164062,
          4656.223145,
          4656.345703,
          4656.40332,
          4669.999023,
          4670.058105,
          4670.1875,
          4670.246094,
          4684.481445,
          4684.539062,
          4684.665527,
          4684.726074,
          4699.273438,
          4699.333984,
          4699.456055,
          4699.518555,
          4713.210938,
          4713.272949,
          4713.396973,
          4713.459961,
          4727.474609,
          4727.538086,
          4727.660156,
          4727.719727,
          4741.144531,
          4741.205078,
          4741.328125,
          4741.387695,
          4756.005859,
          4756.067383,
          4756.187988,
          4756.251953,
          4770.62793,
          4770.688965,
          4770.808594,
          4770.868652,
          4785.129883,
          4785.197266,
          4785.313477,
          4785.37793,
          4798.810547,
          4798.871094,
          4798.996094,
          4799.052246,
          4813.724609,
          4813.84668,
          4813.907227,
          4827.684082,
          4827.743164,
          4827.864746,
          4827.923828,
          4842.26123,
          4842.319336,
          4842.438477,
          4842.504395,
          4856.88916,
          4856.950195,
          4857.070312,
          4857.130859,
          4870.19043,
          4870.250977,
          4870.370117,
          4870.428223,
          4884.355957,
          4884.419922,
          4884.537109,
          4884.597656,
          4898.60498,
          4898.727051,
          4898.787598,
          4900.857422,
          4900.916016,
          4901.106445,
          4927.681641,
          4927.742676,
          4927.867188,
          4927.928711,
          4941.262695,
          4941.322266,
          4941.439941,
          4941.502441,
          4955.936523,
          4955.998535,
          4956.119141,
          4966.945312,
          4967.004883,
          4980.036133
         ]
        },
        {
         "customdata": [
          [
           null,
           121
          ],
          [
           null,
           121
          ],
          [
           null,
           120
          ],
          [
           null,
           117
          ],
          [
           null,
           121
          ],
          [
           null,
           126
          ],
          [
           null,
           131
          ],
          [
           null,
           124
          ],
          [
           null,
           121
          ],
          [
           null,
           123
          ],
          [
           null,
           129
          ],
          [
           null,
           113
          ],
          [
           null,
           120
          ],
          [
           null,
           116
          ],
          [
           null,
           115
          ],
          [
           null,
           124
          ],
          [
           null,
           125
          ],
          [
           null,
           127
          ],
          [
           null,
           122
          ],
          [
           null,
           123
          ],
          [
           null,
           112
          ],
          [
           null,
           125
          ],
          [
           null,
           128
          ],
          [
           null,
           121
          ],
          [
           null,
           114
          ],
          [
           null,
           115
          ],
          [
           null,
           116
          ],
          [
           null,
           113
          ],
          [
           null,
           117
          ],
          [
           null,
           117
          ],
          [
           null,
           118
          ],
          [
           null,
           124
          ],
          [
           null,
           117
          ],
          [
           null,
           130
          ],
          [
           null,
           122
          ],
          [
           null,
           120
          ],
          [
           null,
           121
          ],
          [
           null,
           112
          ],
          [
           null,
           112
          ],
          [
           null,
           120
          ],
          [
           null,
           120
          ],
          [
           null,
           122
          ],
          [
           null,
           119
          ],
          [
           null,
           121
          ],
          [
           null,
           116
          ],
          [
           null,
           117
          ],
          [
           null,
           118
          ],
          [
           null,
           121
          ],
          [
           null,
           111
          ],
          [
           null,
           117
          ],
          [
           null,
           110
          ],
          [
           null,
           115
          ],
          [
           null,
           117
          ],
          [
           null,
           125
          ],
          [
           null,
           118
          ],
          [
           null,
           121
          ],
          [
           null,
           116
          ],
          [
           null,
           128
          ],
          [
           null,
           122
          ],
          [
           null,
           123
          ],
          [
           null,
           123
          ],
          [
           null,
           123
          ],
          [
           null,
           123
          ],
          [
           null,
           132
          ],
          [
           null,
           135
          ],
          [
           null,
           128
          ],
          [
           null,
           119
          ],
          [
           null,
           124
          ],
          [
           null,
           113
          ],
          [
           null,
           127
          ],
          [
           null,
           129
          ],
          [
           null,
           127
          ],
          [
           null,
           130
          ],
          [
           null,
           134
          ],
          [
           null,
           128
          ],
          [
           null,
           120
          ],
          [
           null,
           128
          ],
          [
           null,
           124
          ],
          [
           null,
           125
          ],
          [
           null,
           134
          ],
          [
           null,
           124
          ],
          [
           null,
           126
          ],
          [
           null,
           130
          ],
          [
           null,
           132
          ],
          [
           null,
           126
          ],
          [
           null,
           121
          ],
          [
           null,
           127
          ],
          [
           null,
           121
          ],
          [
           null,
           110
          ],
          [
           null,
           112
          ],
          [
           null,
           112
          ],
          [
           null,
           112
          ],
          [
           null,
           115
          ],
          [
           null,
           116
          ],
          [
           null,
           109
          ],
          [
           null,
           118
          ],
          [
           null,
           121
          ],
          [
           null,
           107
          ],
          [
           null,
           123
          ],
          [
           null,
           126
          ],
          [
           null,
           113
          ],
          [
           null,
           112
          ],
          [
           null,
           116
          ],
          [
           null,
           113
          ],
          [
           null,
           105
          ],
          [
           null,
           109
          ],
          [
           null,
           130
          ],
          [
           null,
           118
          ],
          [
           null,
           118
          ],
          [
           null,
           125
          ],
          [
           null,
           118
          ],
          [
           null,
           118
          ],
          [
           null,
           130
          ],
          [
           null,
           121
          ],
          [
           null,
           121
          ],
          [
           null,
           130
          ],
          [
           null,
           121
          ],
          [
           null,
           130
          ],
          [
           null,
           125
          ],
          [
           null,
           121
          ],
          [
           null,
           117
          ],
          [
           null,
           116
          ],
          [
           null,
           108
          ],
          [
           null,
           119
          ],
          [
           null,
           116
          ],
          [
           null,
           115
          ],
          [
           null,
           129
          ],
          [
           null,
           111
          ],
          [
           null,
           109
          ],
          [
           null,
           121
          ],
          [
           null,
           123
          ],
          [
           null,
           100
          ],
          [
           null,
           108
          ],
          [
           null,
           124
          ],
          [
           null,
           123
          ],
          [
           null,
           122
          ],
          [
           null,
           118
          ],
          [
           null,
           126
          ],
          [
           null,
           124
          ],
          [
           null,
           121
          ],
          [
           null,
           123
          ],
          [
           null,
           134
          ],
          [
           null,
           125
          ],
          [
           null,
           133
          ],
          [
           null,
           123
          ],
          [
           null,
           123
          ],
          [
           null,
           126
          ],
          [
           null,
           130
          ],
          [
           null,
           129
          ],
          [
           null,
           133
          ],
          [
           null,
           131
          ],
          [
           null,
           129
          ],
          [
           null,
           130
          ],
          [
           null,
           126
          ],
          [
           null,
           119
          ],
          [
           null,
           120
          ],
          [
           null,
           115
          ],
          [
           null,
           122
          ],
          [
           null,
           123
          ],
          [
           null,
           116
          ],
          [
           null,
           122
          ],
          [
           null,
           118
          ],
          [
           null,
           120
          ],
          [
           null,
           114
          ],
          [
           null,
           108
          ],
          [
           null,
           108
          ],
          [
           null,
           104
          ],
          [
           null,
           95
          ],
          [
           null,
           100
          ],
          [
           null,
           124
          ],
          [
           null,
           132
          ],
          [
           null,
           133
          ],
          [
           null,
           123
          ],
          [
           null,
           140
          ],
          [
           null,
           134
          ],
          [
           null,
           133
          ],
          [
           null,
           124
          ],
          [
           null,
           120
          ],
          [
           null,
           114
          ],
          [
           null,
           88
          ],
          [
           null,
           85
          ],
          [
           null,
           111
          ],
          [
           null,
           127
          ],
          [
           null,
           136
          ],
          [
           null,
           108
          ],
          [
           null,
           117
          ],
          [
           null,
           110
          ],
          [
           null,
           111
          ],
          [
           null,
           117
          ],
          [
           null,
           114
          ],
          [
           null,
           114
          ],
          [
           null,
           102
          ],
          [
           null,
           109
          ],
          [
           null,
           125
          ],
          [
           null,
           125
          ],
          [
           null,
           119
          ],
          [
           null,
           130
          ],
          [
           null,
           128
          ],
          [
           null,
           125
          ],
          [
           null,
           123
          ],
          [
           null,
           138
          ],
          [
           null,
           128
          ],
          [
           null,
           118
          ],
          [
           null,
           124
          ],
          [
           null,
           126
          ],
          [
           null,
           126
          ],
          [
           null,
           122
          ],
          [
           null,
           113
          ],
          [
           null,
           113
          ],
          [
           null,
           110
          ],
          [
           null,
           149
          ]
         ],
         "hovertemplate": "%{customdata[0]}<br>%{customdata[1]}",
         "marker": {
          "color": "crimson"
         },
         "mode": "lines+markers",
         "name": "Fiber Wire",
         "type": "scatter",
         "x": [
          121.46481803233348,
          121.16220082353863,
          119.92275942251842,
          116.84377972445122,
          121.48909234425395,
          125.99837523419592,
          130.58813959576065,
          123.9045869155596,
          120.63990204679385,
          123.13859963924915,
          128.9419363573839,
          112.85489530123334,
          119.66292381167625,
          116.37230305338431,
          114.89092947412053,
          124.24370153590439,
          124.63430596343824,
          126.6041921588776,
          121.9174355918937,
          123.39583859066971,
          111.83233752426338,
          124.60688038364464,
          128.1663233901154,
          120.89495420929643,
          114.1542203411413,
          115.24517018025671,
          115.62394302932108,
          113.20639535924948,
          117.17867355570519,
          117.3761625583902,
          118.37976498163795,
          123.75735586080413,
          117.03631264220837,
          130.4058626225364,
          122.38410971602781,
          119.75774757752072,
          120.67849075429598,
          112.47109952216493,
          112.43362808236338,
          120.21909319416005,
          119.8028305559506,
          121.81045482224613,
          119.13370179490704,
          120.65655676928873,
          115.6028581824603,
          117.05147692518614,
          118.05239599609337,
          121.37027999613696,
          110.79963914356927,
          116.9716073577946,
          110.1704734394865,
          114.88571555818481,
          116.85974614834225,
          124.67518650212082,
          118.11513487466016,
          121.24465019950759,
          115.57406705325491,
          128.41884498902272,
          121.58748829627103,
          123.38414070235251,
          123.37880264556122,
          123.18995575628611,
          123.23210635141459,
          132.4997750820283,
          134.50178511118128,
          128.40482662163515,
          119.12732211553833,
          123.58617517021224,
          112.85833304800417,
          126.68534208126124,
          128.60067314530744,
          126.59470970736805,
          129.92461627181274,
          133.69653112731118,
          127.75151149573725,
          120.3847734899187,
          127.6368148944486,
          123.61192007380674,
          124.59901176325815,
          134.30472582684257,
          123.53528696870796,
          125.87061669367768,
          129.6625835735063,
          131.59161787815276,
          126.45129837124682,
          121.06160853330675,
          126.8773593370027,
          121.3632039673671,
          110.30745959750499,
          111.56019287012248,
          111.69605951269153,
          111.66500520019542,
          114.7557878288423,
          116.40829360296544,
          108.83937788983849,
          118.1536670356324,
          121.29219614720688,
          107.07263388066292,
          122.81300682286957,
          125.53675268795558,
          112.52372569564773,
          112.42486182809796,
          115.97721925650217,
          112.64344522694034,
          105.48290518229288,
          108.83929194616923,
          130.30294105318734,
          117.8430945135321,
          117.76121959385756,
          125.44538501822541,
          117.74084064569439,
          118.06794225093455,
          130.0544294095963,
          121.16509500965367,
          121.18525357474567,
          130.40258721380746,
          121.06598211114294,
          129.69705728342967,
          124.71122554743454,
          121.17404195130462,
          117.04469767386013,
          115.52493592232247,
          107.82187169076224,
          119.43456779982824,
          115.91875846280567,
          115.32721773651946,
          129.2045611120787,
          110.75532010886627,
          109.10063709512161,
          120.86603893923547,
          123.03197219357537,
          99.57563392012139,
          107.67173764984483,
          123.73705405626333,
          122.99767112024023,
          121.94033480510575,
          118.46329267887143,
          125.51857157650647,
          123.70508376054471,
          121.28740165107126,
          123.39022360427748,
          133.51316553427614,
          125.39923326782764,
          133.0162392385592,
          123.44425352435832,
          123.35792788322527,
          125.77256301783825,
          130.466347867109,
          128.92068917248116,
          132.5216620698023,
          130.9621855430152,
          128.87308630362725,
          129.53048815383892,
          126.30382858407671,
          119.18825617705045,
          119.7106122495747,
          114.74471064480309,
          121.93309643829394,
          123.0940044241949,
          116.49722620206632,
          121.82523713336059,
          118.02328974010072,
          119.61895810094688,
          113.86957490852035,
          108.2992983228516,
          108.43379061596198,
          103.80210484238694,
          94.6983497876634,
          99.65750958904562,
          124.09254572025225,
          132.16127161666503,
          132.73165110171772,
          122.93428288950554,
          140.47968297089915,
          134.14953065873482,
          132.69043633765466,
          123.8167715841592,
          120.26263798659005,
          114.2859719861317,
          88.49864086685722,
          85.25021845017665,
          111.41046869970853,
          127.37948045006215,
          136.18181195806386,
          108.36958114572099,
          117.09238611175851,
          109.63377432349074,
          110.77906920947441,
          117.34208111887654,
          113.95081077457326,
          114.02052063964754,
          101.95111693873378,
          109.18216898936868,
          124.5031702480776,
          125.40633794448723,
          118.75319022461446,
          130.07681773544107,
          127.85881694146866,
          124.95035903252898,
          123.04896039220102,
          137.9657733489832,
          127.91788889014657,
          117.90955761776723,
          123.62269168035522,
          126.0814445651933,
          126.17335654482883,
          121.75872628264239,
          113.06907647434986,
          112.92740311020714,
          109.93481589834914,
          148.54979351531676
         ],
         "y": [
          4984.313162,
          4982.802707,
          4975.153592500001,
          4971.897355,
          4970.0365286666665,
          4960.856463,
          4956.991142,
          4955.050317,
          4946.7358955,
          4942.868155,
          4940.997767,
          4932.450533499999,
          4928.821293833334,
          4926.914620833333,
          4918.394408,
          4914.488997333333,
          4912.628154333333,
          4904.153004,
          4900.243102,
          4898.339244333333,
          4889.893803000001,
          4885.952392666667,
          4884.035937,
          4875.670314999999,
          4871.775360333333,
          4869.890827666667,
          4861.392934,
          4857.543570333333,
          4855.647383666666,
          4847.1043205,
          4843.105012,
          4841.220379333333,
          4832.8717455000005,
          4828.959864333333,
          4827.014093666667,
          4818.6014995000005,
          4814.776691666666,
          4812.8775633333335,
          4804.3107385,
          4800.595321666667,
          4798.682036666666,
          4790.0136170000005,
          4786.253150333334,
          4784.342945166667,
          4775.7611055,
          4772.055244666667,
          4770.091257,
          4761.494815,
          4757.9049393333335,
          4756.066050666667,
          4747.3386215,
          4743.662304333334,
          4741.749565666666,
          4733.168165,
          4729.305364666667,
          4727.3739015,
          4718.9480955,
          4715.018646666666,
          4713.079495333333,
          4704.6543280000005,
          4700.527095166667,
          4698.641813,
          4690.4078305,
          4686.335992333334,
          4684.436351666666,
          4676.137288,
          4672.334191000001,
          4670.42817,
          4661.8621885,
          4657.970682333334,
          4656.0787915,
          4647.519645,
          4643.765138666667,
          4641.846996,
          4633.218693000001,
          4629.354456666667,
          4627.463041666667,
          4618.9546435,
          4615.011251,
          4613.088736666667,
          4604.6477445,
          4604.639547,
          4600.720334333333,
          4598.834733666667,
          4590.3937105,
          4586.3124020000005,
          4584.420193666667,
          4576.067463,
          4572.254406,
          4571.2920205,
          4570.404875,
          4561.802341500001,
          4553.5756833333335,
          4551.654464,
          4547.59944,
          4543.7299158333335,
          4541.822674333333,
          4533.3124885,
          4529.522104333333,
          4527.654555666667,
          4518.9843205,
          4515.094760999999,
          4513.205724666666,
          4504.7514695,
          4501.074941333333,
          4499.160920666666,
          4490.66994,
          4487.026122,
          4485.050129,
          4476.363686,
          4472.478254000001,
          4470.5690976666665,
          4462.0629205000005,
          4458.0147545,
          4456.059557166666,
          4447.752784,
          4444.345016666666,
          4442.348602666666,
          4433.463826499999,
          4429.896556666667,
          4427.957653,
          4419.317337,
          4415.729238,
          4413.681958333334,
          4405.0266295,
          4401.339666333333,
          4399.388962,
          4390.7306225,
          4386.848264333334,
          4385.024064333334,
          4376.3647855,
          4372.515137666666,
          4370.571607999999,
          4362.0885634999995,
          4358.592572333333,
          4356.6982216666665,
          4347.9172555000005,
          4344.3228695,
          4342.437246166667,
          4333.773406,
          4329.929198,
          4328.046853333333,
          4319.450185,
          4315.6353930000005,
          4313.722295,
          4305.1179245,
          4301.311308666666,
          4299.402256,
          4290.800976500001,
          4287.132058666666,
          4285.251353666667,
          4276.54949175,
          4272.969019166667,
          4271.058371666667,
          4262.3246309999995,
          4258.829865666667,
          4256.940933333333,
          4248.079079499999,
          4244.519354666667,
          4242.653079666667,
          4233.814691,
          4230.272219333333,
          4228.395004999999,
          4219.497231,
          4215.849682666667,
          4213.942044,
          4205.272089,
          4201.7362146666665,
          4199.857529333333,
          4191.144644,
          4187.678637333333,
          4185.823228666667,
          4177.1087449999995,
          4173.723347333334,
          4171.896638,
          4162.8124295,
          4159.319468333333,
          4157.397682,
          4148.4793805,
          4144.956483666666,
          4143.069679666667,
          4134.2420645,
          4130.838517,
          4128.971604333333,
          4119.990605,
          4116.661766,
          4114.812947666666,
          4105.693119,
          4101.337297833333,
          4099.835026,
          4091.404432,
          4087.8701791666667,
          4085.9877353333336,
          4077.17376125,
          4073.753666666667,
          4071.8652575,
          4062.8807662500003,
          4059.310949,
          4057.466473666667,
          4048.591841,
          4045.013999666666,
          4043.1447338333332,
          4034.371141,
          4030.836486166667,
          4028.9357455000004,
          4020.056055,
          4015.794506333333,
          4013.7710733333333,
          4006.0868405,
          4000.103262,
          3995.46385
         ]
        }
       ],
       "layout": {
        "hovermode": "y",
        "legend": {
         "orientation": "h",
         "title": {
          "text": "Type"
         }
        },
        "shapes": [
         {
          "fillcolor": "rgba(154,205,50,0.2)",
          "layer": "below",
          "line": {
           "width": 0
          },
          "path": "M -28.535181967666517,4984.313162 L-28.837799176461374,4982.802707 L-30.077240577481575,4975.153592500001 L-33.156220275548776,4971.897355 L-28.510907655746053,4970.0365286666665 L-24.00162476580408,4960.856463 L-19.41186040423935,4956.991142 L-26.095413084440395,4955.050317 L-29.36009795320615,4946.7358955 L-26.86140036075085,4942.868155 L-21.058063642616105,4940.997767 L-37.14510469876666,4932.450533499999 L-30.33707618832375,4928.821293833334 L-33.627696946615686,4926.914620833333 L-35.109070525879474,4918.394408 L-25.756298464095607,4914.488997333333 L-25.365694036561763,4912.628154333333 L-23.395807841122405,4904.153004 L-28.082564408106293,4900.243102 L-26.60416140933029,4898.339244333333 L-38.16766247573662,4889.893803000001 L-25.393119616355364,4885.952392666667 L-21.833676609884606,4884.035937 L-29.10504579070357,4875.670314999999 L-35.8457796588587,4871.775360333333 L-34.75482981974329,4869.890827666667 L-34.37605697067892,4861.392934 L-36.793604640750516,4857.543570333333 L-32.82132644429481,4855.647383666666 L-32.623837441609794,4847.1043205 L-31.620235018362052,4843.105012 L-26.242644139195875,4841.220379333333 L-32.96368735779163,4832.8717455000005 L-19.594137377463596,4828.959864333333 L-27.615890283972192,4827.014093666667 L-30.242252422479282,4818.6014995000005 L-29.32150924570402,4814.776691666666 L-37.528900477835066,4812.8775633333335 L-37.566371917636616,4804.3107385 L-29.780906805839948,4800.595321666667 L-30.197169444049393,4798.682036666666 L-28.18954517775387,4790.0136170000005 L-30.86629820509296,4786.253150333334 L-29.343443230711273,4784.342945166667 L-34.397141817539705,4775.7611055 L-32.94852307481386,4772.055244666667 L-31.947604003906633,4770.091257 L-28.629720003863042,4761.494815 L-39.200360856430734,4757.9049393333335 L-33.028392642205404,4756.066050666667 L-39.8295265605135,4747.3386215 L-35.11428444181519,4743.662304333334 L-33.14025385165775,4741.749565666666 L-25.324813497879177,4733.168165 L-31.884865125339843,4729.305364666667 L-28.75534980049241,4727.3739015 L-34.42593294674509,4718.9480955 L-21.581155010977284,4715.018646666666 L-28.412511703728967,4713.079495333333 L-26.61585929764749,4704.6543280000005 L-26.621197354438777,4700.527095166667 L-26.81004424371389,4698.641813 L-26.767893648585414,4690.4078305 L-17.500224917971707,4686.335992333334 L-15.498214888818723,4684.436351666666 L-21.595173378364848,4676.137288 L-30.872677884461666,4672.334191000001 L-26.413824829787757,4670.42817 L-37.14166695199583,4661.8621885 L-23.31465791873876,4657.970682333334 L-21.39932685469256,4656.0787915 L-23.405290292631946,4647.519645 L-20.075383728187262,4643.765138666667 L-16.303468872688825,4641.846996 L-22.248488504262752,4633.218693000001 L-29.6152265100813,4629.354456666667 L-22.363185105551395,4627.463041666667 L-26.388079926193257,4618.9546435 L-25.400988236741853,4615.011251 L-15.69527417315743,4613.088736666667 L-26.464713031292035,4604.6477445 L-24.129383306322325,4604.639547 L-20.33741642649369,4600.720334333333 L-18.40838212184724,4598.834733666667 L-23.54870162875318,4590.3937105 L-28.938391466693247,4586.3124020000005 L-23.1226406629973,4584.420193666667 L-28.6367960326329,4576.067463 L-39.69254040249501,4572.254406 L-38.43980712987752,4571.2920205 L-38.303940487308466,4570.404875 L-38.334994799804576,4561.802341500001 L-35.2442121711577,4553.5756833333335 L-33.59170639703456,4551.654464 L-41.16062211016151,4547.59944 L-31.846332964367605,4543.7299158333335 L-28.70780385279312,4541.822674333333 L-42.92736611933708,4533.3124885 L-27.186993177130432,4529.522104333333 L-24.463247312044416,4527.654555666667 L-37.47627430435227,4518.9843205 L-37.57513817190204,4515.094760999999 L-34.02278074349783,4513.205724666666 L-37.356554773059656,4504.7514695 L-44.51709481770712,4501.074941333333 L-41.160708053830774,4499.160920666666 L-19.69705894681266,4490.66994 L-32.156905486467906,4487.026122 L-32.23878040614244,4485.050129 L-24.55461498177459,4476.363686 L-32.25915935430561,4472.478254000001 L-31.93205774906545,4470.5690976666665 L-19.94557059040369,4462.0629205000005 L-28.83490499034633,4458.0147545 L-28.814746425254327,4456.059557166666 L-19.597412786192535,4447.752784 L-28.934017888857056,4444.345016666666 L-20.30294271657033,4442.348602666666 L-25.288774452565463,4433.463826499999 L-28.825958048695384,4429.896556666667 L-32.95530232613987,4427.957653 L-34.47506407767753,4419.317337 L-42.17812830923776,4415.729238 L-30.565432200171756,4413.681958333334 L-34.08124153719433,4405.0266295 L-34.67278226348054,4401.339666333333 L-20.795438887921307,4399.388962 L-39.24467989113373,4390.7306225 L-40.89936290487839,4386.848264333334 L-29.133961060764534,4385.024064333334 L-26.96802780642463,4376.3647855 L-50.42436607987861,4372.515137666666 L-42.32826235015517,4370.571607999999 L-26.262945943736668,4362.0885634999995 L-27.002328879759773,4358.592572333333 L-28.05966519489425,4356.6982216666665 L-31.536707321128574,4347.9172555000005 L-24.481428423493526,4344.3228695 L-26.29491623945529,4342.437246166667 L-28.712598348928736,4333.773406 L-26.60977639572252,4329.929198 L-16.48683446572386,4328.046853333333 L-24.60076673217236,4319.450185 L-16.983760761440806,4315.6353930000005 L-26.555746475641683,4313.722295 L-26.642072116774727,4305.1179245 L-24.22743698216175,4301.311308666666 L-19.533652132891007,4299.402256 L-21.07931082751884,4290.800976500001 L-17.47833793019771,4287.132058666666 L-19.03781445698479,4285.251353666667 L-21.126913696372753,4276.54949175 L-20.469511846161083,4272.969019166667 L-23.69617141592329,4271.058371666667 L-30.811743822949552,4262.3246309999995 L-30.289387750425306,4258.829865666667 L-35.25528935519691,4256.940933333333 L-28.066903561706056,4248.079079499999 L-26.905995575805093,4244.519354666667 L-33.502773797933685,4242.653079666667 L-28.174762866639412,4233.814691 L-31.976710259899278,4230.272219333333 L-30.381041899053116,4228.395004999999 L-36.13042509147965,4219.497231 L-41.7007016771484,4215.849682666667 L-41.56620938403802,4213.942044 L-46.19789515761306,4205.272089 L-55.3016502123366,4201.7362146666665 L-50.34249041095438,4199.857529333333 L-25.907454279747753,4191.144644 L-17.838728383334967,4187.678637333333 L-17.268348898282284,4185.823228666667 L-27.06571711049446,4177.1087449999995 L-9.520317029100852,4173.723347333334 L-15.850469341265182,4171.896638 L-17.30956366234534,4162.8124295 L-26.1832284158408,4159.319468333333 L-29.73736201340995,4157.397682 L-35.7140280138683,4148.4793805 L-61.501359133142785,4144.956483666666 L-64.74978154982335,4143.069679666667 L-38.58953130029147,4134.2420645 L-22.620519549937853,4130.838517 L-13.81818804193614,4128.971604333333 L-41.630418854279014,4119.990605 L-32.907613888241485,4116.661766 L-40.36622567650926,4114.812947666666 L-39.220930790525586,4105.693119 L-32.657918881123464,4101.337297833333 L-36.049189225426744,4099.835026 L-35.97947936035246,4091.404432 L-48.048883061266224,4087.8701791666667 L-40.81783101063132,4085.9877353333336 L-25.496829751922405,4077.17376125 L-24.593662055512766,4073.753666666667 L-31.246809775385543,4071.8652575 L-19.923182264558932,4062.8807662500003 L-22.14118305853134,4059.310949 L-25.04964096747102,4057.466473666667 L-26.951039607798975,4048.591841 L-12.034226651016809,4045.013999666666 L-22.08211110985343,4043.1447338333332 L-32.090442382232766,4034.371141 L-26.377308319644783,4030.836486166667 L-23.918555434806706,4028.9357455000004 L-23.826643455171165,4020.056055 L-28.241273717357615,4015.794506333333 L-36.930923525650144,4013.7710733333333 L-37.07259688979286,4006.0868405 L-40.06518410165086,4000.103262 L-1.4502064846832354,3995.46385  L-61.450206484683235,3995.46385 L-100.06518410165086,4000.103262 L-97.07259688979286,4006.0868405 L-96.93092352565014,4013.7710733333333 L-88.24127371735761,4015.794506333333 L-83.82664345517117,4020.056055 L-83.9185554348067,4028.9357455000004 L-86.37730831964478,4030.836486166667 L-92.09044238223277,4034.371141 L-82.08211110985343,4043.1447338333332 L-72.03422665101681,4045.013999666666 L-86.95103960779898,4048.591841 L-85.04964096747102,4057.466473666667 L-82.14118305853134,4059.310949 L-79.92318226455893,4062.8807662500003 L-91.24680977538554,4071.8652575 L-84.59366205551277,4073.753666666667 L-85.4968297519224,4077.17376125 L-100.81783101063132,4085.9877353333336 L-108.04888306126622,4087.8701791666667 L-95.97947936035246,4091.404432 L-96.04918922542674,4099.835026 L-92.65791888112346,4101.337297833333 L-99.22093079052559,4105.693119 L-100.36622567650926,4114.812947666666 L-92.90761388824149,4116.661766 L-101.63041885427901,4119.990605 L-73.81818804193614,4128.971604333333 L-82.62051954993785,4130.838517 L-98.58953130029147,4134.2420645 L-124.74978154982335,4143.069679666667 L-121.50135913314278,4144.956483666666 L-95.7140280138683,4148.4793805 L-89.73736201340995,4157.397682 L-86.1832284158408,4159.319468333333 L-77.30956366234534,4162.8124295 L-75.85046934126518,4171.896638 L-69.52031702910085,4173.723347333334 L-87.06571711049446,4177.1087449999995 L-77.26834889828228,4185.823228666667 L-77.83872838333497,4187.678637333333 L-85.90745427974775,4191.144644 L-110.34249041095438,4199.857529333333 L-115.3016502123366,4201.7362146666665 L-106.19789515761306,4205.272089 L-101.56620938403802,4213.942044 L-101.7007016771484,4215.849682666667 L-96.13042509147965,4219.497231 L-90.38104189905312,4228.395004999999 L-91.97671025989928,4230.272219333333 L-88.17476286663941,4233.814691 L-93.50277379793368,4242.653079666667 L-86.9059955758051,4244.519354666667 L-88.06690356170606,4248.079079499999 L-95.25528935519691,4256.940933333333 L-90.2893877504253,4258.829865666667 L-90.81174382294955,4262.3246309999995 L-83.69617141592329,4271.058371666667 L-80.46951184616108,4272.969019166667 L-81.12691369637275,4276.54949175 L-79.03781445698479,4285.251353666667 L-77.47833793019771,4287.132058666666 L-81.07931082751884,4290.800976500001 L-79.533652132891,4299.402256 L-84.22743698216175,4301.311308666666 L-86.64207211677473,4305.1179245 L-86.55574647564168,4313.722295 L-76.9837607614408,4315.6353930000005 L-84.60076673217236,4319.450185 L-76.48683446572386,4328.046853333333 L-86.60977639572252,4329.929198 L-88.71259834892874,4333.773406 L-86.29491623945529,4342.437246166667 L-84.48142842349353,4344.3228695 L-91.53670732112857,4347.9172555000005 L-88.05966519489425,4356.6982216666665 L-87.00232887975977,4358.592572333333 L-86.26294594373667,4362.0885634999995 L-102.32826235015517,4370.571607999999 L-110.42436607987861,4372.515137666666 L-86.96802780642463,4376.3647855 L-89.13396106076453,4385.024064333334 L-100.89936290487839,4386.848264333334 L-99.24467989113373,4390.7306225 L-80.7954388879213,4399.388962 L-94.67278226348054,4401.339666333333 L-94.08124153719433,4405.0266295 L-90.56543220017176,4413.681958333334 L-102.17812830923776,4415.729238 L-94.47506407767753,4419.317337 L-92.95530232613987,4427.957653 L-88.82595804869538,4429.896556666667 L-85.28877445256546,4433.463826499999 L-80.30294271657033,4442.348602666666 L-88.93401788885706,4444.345016666666 L-79.59741278619254,4447.752784 L-88.81474642525433,4456.059557166666 L-88.83490499034633,4458.0147545 L-79.94557059040369,4462.0629205000005 L-91.93205774906545,4470.5690976666665 L-92.25915935430561,4472.478254000001 L-84.55461498177459,4476.363686 L-92.23878040614244,4485.050129 L-92.1569054864679,4487.026122 L-79.69705894681266,4490.66994 L-101.16070805383077,4499.160920666666 L-104.51709481770712,4501.074941333333 L-97.35655477305966,4504.7514695 L-94.02278074349783,4513.205724666666 L-97.57513817190204,4515.094760999999 L-97.47627430435227,4518.9843205 L-84.46324731204442,4527.654555666667 L-87.18699317713043,4529.522104333333 L-102.92736611933708,4533.3124885 L-88.70780385279312,4541.822674333333 L-91.8463329643676,4543.7299158333335 L-101.16062211016151,4547.59944 L-93.59170639703456,4551.654464 L-95.2442121711577,4553.5756833333335 L-98.33499479980458,4561.802341500001 L-98.30394048730847,4570.404875 L-98.43980712987752,4571.2920205 L-99.69254040249501,4572.254406 L-88.6367960326329,4576.067463 L-83.1226406629973,4584.420193666667 L-88.93839146669325,4586.3124020000005 L-83.54870162875318,4590.3937105 L-78.40838212184724,4598.834733666667 L-80.33741642649369,4600.720334333333 L-84.12938330632232,4604.639547 L-86.46471303129204,4604.6477445 L-75.69527417315743,4613.088736666667 L-85.40098823674185,4615.011251 L-86.38807992619326,4618.9546435 L-82.3631851055514,4627.463041666667 L-89.6152265100813,4629.354456666667 L-82.24848850426275,4633.218693000001 L-76.30346887268882,4641.846996 L-80.07538372818726,4643.765138666667 L-83.40529029263195,4647.519645 L-81.39932685469256,4656.0787915 L-83.31465791873876,4657.970682333334 L-97.14166695199583,4661.8621885 L-86.41382482978776,4670.42817 L-90.87267788446167,4672.334191000001 L-81.59517337836485,4676.137288 L-75.49821488881872,4684.436351666666 L-77.5002249179717,4686.335992333334 L-86.76789364858541,4690.4078305 L-86.81004424371389,4698.641813 L-86.62119735443878,4700.527095166667 L-86.61585929764749,4704.6543280000005 L-88.41251170372897,4713.079495333333 L-81.58115501097728,4715.018646666666 L-94.42593294674509,4718.9480955 L-88.75534980049241,4727.3739015 L-91.88486512533984,4729.305364666667 L-85.32481349787918,4733.168165 L-93.14025385165775,4741.749565666666 L-95.11428444181519,4743.662304333334 L-99.8295265605135,4747.3386215 L-93.0283926422054,4756.066050666667 L-99.20036085643073,4757.9049393333335 L-88.62972000386304,4761.494815 L-91.94760400390663,4770.091257 L-92.94852307481386,4772.055244666667 L-94.3971418175397,4775.7611055 L-89.34344323071127,4784.342945166667 L-90.86629820509296,4786.253150333334 L-88.18954517775387,4790.0136170000005 L-90.1971694440494,4798.682036666666 L-89.78090680583995,4800.595321666667 L-97.56637191763662,4804.3107385 L-97.52890047783507,4812.8775633333335 L-89.32150924570402,4814.776691666666 L-90.24225242247928,4818.6014995000005 L-87.61589028397219,4827.014093666667 L-79.5941373774636,4828.959864333333 L-92.96368735779163,4832.8717455000005 L-86.24264413919587,4841.220379333333 L-91.62023501836205,4843.105012 L-92.6238374416098,4847.1043205 L-92.82132644429481,4855.647383666666 L-96.79360464075052,4857.543570333333 L-94.37605697067892,4861.392934 L-94.75482981974329,4869.890827666667 L-95.8457796588587,4871.775360333333 L-89.10504579070357,4875.670314999999 L-81.8336766098846,4884.035937 L-85.39311961635536,4885.952392666667 L-98.16766247573662,4889.893803000001 L-86.60416140933029,4898.339244333333 L-88.0825644081063,4900.243102 L-83.3958078411224,4904.153004 L-85.36569403656176,4912.628154333333 L-85.75629846409561,4914.488997333333 L-95.10907052587947,4918.394408 L-93.62769694661569,4926.914620833333 L-90.33707618832375,4928.821293833334 L-97.14510469876666,4932.450533499999 L-81.0580636426161,4940.997767 L-86.86140036075085,4942.868155 L-89.36009795320615,4946.7358955 L-86.0954130844404,4955.050317 L-79.41186040423935,4956.991142 L-84.00162476580408,4960.856463 L-88.51090765574605,4970.0365286666665 L-93.15622027554878,4971.897355 L-90.07724057748158,4975.153592500001 L-88.83779917646137,4982.802707 L-88.53518196766652,4984.313162 Z",
          "type": "path"
         },
         {
          "fillcolor": "rgba(255,69,0,0.2)",
          "layer": "below",
          "line": {
           "width": 0
          },
          "path": "M 131.46481803233348,4984.313162 L131.16220082353863,4982.802707 L129.92275942251842,4975.153592500001 L126.84377972445122,4971.897355 L131.48909234425395,4970.0365286666665 L135.99837523419592,4960.856463 L140.58813959576065,4956.991142 L133.9045869155596,4955.050317 L130.63990204679385,4946.7358955 L133.13859963924915,4942.868155 L138.9419363573839,4940.997767 L122.85489530123334,4932.450533499999 L129.66292381167625,4928.821293833334 L126.37230305338431,4926.914620833333 L124.89092947412053,4918.394408 L134.2437015359044,4914.488997333333 L134.63430596343824,4912.628154333333 L136.6041921588776,4904.153004 L131.9174355918937,4900.243102 L133.3958385906697,4898.339244333333 L121.83233752426338,4889.893803000001 L134.60688038364464,4885.952392666667 L138.1663233901154,4884.035937 L130.89495420929643,4875.670314999999 L124.1542203411413,4871.775360333333 L125.24517018025671,4869.890827666667 L125.62394302932108,4861.392934 L123.20639535924948,4857.543570333333 L127.17867355570519,4855.647383666666 L127.3761625583902,4847.1043205 L128.37976498163795,4843.105012 L133.75735586080413,4841.220379333333 L127.03631264220837,4832.8717455000005 L140.4058626225364,4828.959864333333 L132.3841097160278,4827.014093666667 L129.75774757752072,4818.6014995000005 L130.67849075429598,4814.776691666666 L122.47109952216493,4812.8775633333335 L122.43362808236338,4804.3107385 L130.21909319416005,4800.595321666667 L129.8028305559506,4798.682036666666 L131.81045482224613,4790.0136170000005 L129.13370179490704,4786.253150333334 L130.65655676928873,4784.342945166667 L125.6028581824603,4775.7611055 L127.05147692518614,4772.055244666667 L128.05239599609337,4770.091257 L131.37027999613696,4761.494815 L120.79963914356927,4757.9049393333335 L126.9716073577946,4756.066050666667 L120.1704734394865,4747.3386215 L124.88571555818481,4743.662304333334 L126.85974614834225,4741.749565666666 L134.67518650212082,4733.168165 L128.11513487466016,4729.305364666667 L131.2446501995076,4727.3739015 L125.57406705325491,4718.9480955 L138.41884498902272,4715.018646666666 L131.58748829627103,4713.079495333333 L133.3841407023525,4704.6543280000005 L133.37880264556122,4700.527095166667 L133.1899557562861,4698.641813 L133.2321063514146,4690.4078305 L142.4997750820283,4686.335992333334 L144.50178511118128,4684.436351666666 L138.40482662163515,4676.137288 L129.12732211553833,4672.334191000001 L133.58617517021224,4670.42817 L122.85833304800417,4661.8621885 L136.68534208126124,4657.970682333334 L138.60067314530744,4656.0787915 L136.59470970736805,4647.519645 L139.92461627181274,4643.765138666667 L143.69653112731118,4641.846996 L137.75151149573725,4633.218693000001 L130.3847734899187,4629.354456666667 L137.6368148944486,4627.463041666667 L133.61192007380674,4618.9546435 L134.59901176325815,4615.011251 L144.30472582684257,4613.088736666667 L133.53528696870796,4604.6477445 L135.87061669367768,4604.639547 L139.6625835735063,4600.720334333333 L141.59161787815276,4598.834733666667 L136.45129837124682,4590.3937105 L131.06160853330675,4586.3124020000005 L136.8773593370027,4584.420193666667 L131.3632039673671,4576.067463 L120.30745959750499,4572.254406 L121.56019287012248,4571.2920205 L121.69605951269153,4570.404875 L121.66500520019542,4561.802341500001 L124.7557878288423,4553.5756833333335 L126.40829360296544,4551.654464 L118.83937788983849,4547.59944 L128.1536670356324,4543.7299158333335 L131.29219614720688,4541.822674333333 L117.07263388066292,4533.3124885 L132.81300682286957,4529.522104333333 L135.53675268795558,4527.654555666667 L122.52372569564773,4518.9843205 L122.42486182809796,4515.094760999999 L125.97721925650217,4513.205724666666 L122.64344522694034,4504.7514695 L115.48290518229288,4501.074941333333 L118.83929194616923,4499.160920666666 L140.30294105318734,4490.66994 L127.8430945135321,4487.026122 L127.76121959385756,4485.050129 L135.4453850182254,4476.363686 L127.74084064569439,4472.478254000001 L128.06794225093455,4470.5690976666665 L140.0544294095963,4462.0629205000005 L131.16509500965367,4458.0147545 L131.18525357474567,4456.059557166666 L140.40258721380746,4447.752784 L131.06598211114294,4444.345016666666 L139.69705728342967,4442.348602666666 L134.71122554743454,4433.463826499999 L131.17404195130462,4429.896556666667 L127.04469767386013,4427.957653 L125.52493592232247,4419.317337 L117.82187169076224,4415.729238 L129.43456779982824,4413.681958333334 L125.91875846280567,4405.0266295 L125.32721773651946,4401.339666333333 L139.2045611120787,4399.388962 L120.75532010886627,4390.7306225 L119.10063709512161,4386.848264333334 L130.86603893923547,4385.024064333334 L133.03197219357537,4376.3647855 L109.57563392012139,4372.515137666666 L117.67173764984483,4370.571607999999 L133.73705405626333,4362.0885634999995 L132.99767112024023,4358.592572333333 L131.94033480510575,4356.6982216666665 L128.46329267887143,4347.9172555000005 L135.51857157650647,4344.3228695 L133.7050837605447,4342.437246166667 L131.28740165107126,4333.773406 L133.39022360427748,4329.929198 L143.51316553427614,4328.046853333333 L135.39923326782764,4319.450185 L143.0162392385592,4315.6353930000005 L133.44425352435832,4313.722295 L133.35792788322527,4305.1179245 L135.77256301783825,4301.311308666666 L140.466347867109,4299.402256 L138.92068917248116,4290.800976500001 L142.5216620698023,4287.132058666666 L140.9621855430152,4285.251353666667 L138.87308630362725,4276.54949175 L139.53048815383892,4272.969019166667 L136.3038285840767,4271.058371666667 L129.18825617705045,4262.3246309999995 L129.7106122495747,4258.829865666667 L124.74471064480309,4256.940933333333 L131.93309643829394,4248.079079499999 L133.0940044241949,4244.519354666667 L126.49722620206632,4242.653079666667 L131.8252371333606,4233.814691 L128.02328974010072,4230.272219333333 L129.61895810094688,4228.395004999999 L123.86957490852035,4219.497231 L118.2992983228516,4215.849682666667 L118.43379061596198,4213.942044 L113.80210484238694,4205.272089 L104.6983497876634,4201.7362146666665 L109.65750958904562,4199.857529333333 L134.09254572025225,4191.144644 L142.16127161666503,4187.678637333333 L142.73165110171772,4185.823228666667 L132.93428288950554,4177.1087449999995 L150.47968297089915,4173.723347333334 L144.14953065873482,4171.896638 L142.69043633765466,4162.8124295 L133.8167715841592,4159.319468333333 L130.26263798659005,4157.397682 L124.2859719861317,4148.4793805 L98.49864086685722,4144.956483666666 L95.25021845017665,4143.069679666667 L121.41046869970853,4134.2420645 L137.37948045006215,4130.838517 L146.18181195806386,4128.971604333333 L118.36958114572099,4119.990605 L127.09238611175851,4116.661766 L119.63377432349074,4114.812947666666 L120.77906920947441,4105.693119 L127.34208111887654,4101.337297833333 L123.95081077457326,4099.835026 L124.02052063964754,4091.404432 L111.95111693873378,4087.8701791666667 L119.18216898936868,4085.9877353333336 L134.5031702480776,4077.17376125 L135.40633794448723,4073.753666666667 L128.75319022461446,4071.8652575 L140.07681773544107,4062.8807662500003 L137.85881694146866,4059.310949 L134.95035903252898,4057.466473666667 L133.04896039220102,4048.591841 L147.9657733489832,4045.013999666666 L137.91788889014657,4043.1447338333332 L127.90955761776723,4034.371141 L133.62269168035522,4030.836486166667 L136.0814445651933,4028.9357455000004 L136.17335654482883,4020.056055 L131.75872628264239,4015.794506333333 L123.06907647434986,4013.7710733333333 L122.92740311020714,4006.0868405 L119.93481589834914,4000.103262 L158.54979351531676,3995.46385  L138.54979351531676,3995.46385 L99.93481589834914,4000.103262 L102.92740311020714,4006.0868405 L103.06907647434986,4013.7710733333333 L111.75872628264239,4015.794506333333 L116.17335654482883,4020.056055 L116.0814445651933,4028.9357455000004 L113.62269168035522,4030.836486166667 L107.90955761776723,4034.371141 L117.91788889014657,4043.1447338333332 L127.96577334898319,4045.013999666666 L113.04896039220102,4048.591841 L114.95035903252898,4057.466473666667 L117.85881694146866,4059.310949 L120.07681773544107,4062.8807662500003 L108.75319022461446,4071.8652575 L115.40633794448723,4073.753666666667 L114.5031702480776,4077.17376125 L99.18216898936868,4085.9877353333336 L91.95111693873378,4087.8701791666667 L104.02052063964754,4091.404432 L103.95081077457326,4099.835026 L107.34208111887654,4101.337297833333 L100.77906920947441,4105.693119 L99.63377432349074,4114.812947666666 L107.09238611175851,4116.661766 L98.36958114572099,4119.990605 L126.18181195806386,4128.971604333333 L117.37948045006215,4130.838517 L101.41046869970853,4134.2420645 L75.25021845017665,4143.069679666667 L78.49864086685722,4144.956483666666 L104.2859719861317,4148.4793805 L110.26263798659005,4157.397682 L113.8167715841592,4159.319468333333 L122.69043633765466,4162.8124295 L124.14953065873482,4171.896638 L130.47968297089915,4173.723347333334 L112.93428288950554,4177.1087449999995 L122.73165110171772,4185.823228666667 L122.16127161666503,4187.678637333333 L114.09254572025225,4191.144644 L89.65750958904562,4199.857529333333 L84.6983497876634,4201.7362146666665 L93.80210484238694,4205.272089 L98.43379061596198,4213.942044 L98.2992983228516,4215.849682666667 L103.86957490852035,4219.497231 L109.61895810094688,4228.395004999999 L108.02328974010072,4230.272219333333 L111.82523713336059,4233.814691 L106.49722620206632,4242.653079666667 L113.0940044241949,4244.519354666667 L111.93309643829394,4248.079079499999 L104.74471064480309,4256.940933333333 L109.7106122495747,4258.829865666667 L109.18825617705045,4262.3246309999995 L116.30382858407671,4271.058371666667 L119.53048815383892,4272.969019166667 L118.87308630362725,4276.54949175 L120.96218554301521,4285.251353666667 L122.52166206980229,4287.132058666666 L118.92068917248116,4290.800976500001 L120.466347867109,4299.402256 L115.77256301783825,4301.311308666666 L113.35792788322527,4305.1179245 L113.44425352435832,4313.722295 L123.0162392385592,4315.6353930000005 L115.39923326782764,4319.450185 L123.51316553427614,4328.046853333333 L113.39022360427748,4329.929198 L111.28740165107126,4333.773406 L113.70508376054471,4342.437246166667 L115.51857157650647,4344.3228695 L108.46329267887143,4347.9172555000005 L111.94033480510575,4356.6982216666665 L112.99767112024023,4358.592572333333 L113.73705405626333,4362.0885634999995 L97.67173764984483,4370.571607999999 L89.57563392012139,4372.515137666666 L113.03197219357537,4376.3647855 L110.86603893923547,4385.024064333334 L99.10063709512161,4386.848264333334 L100.75532010886627,4390.7306225 L119.2045611120787,4399.388962 L105.32721773651946,4401.339666333333 L105.91875846280567,4405.0266295 L109.43456779982824,4413.681958333334 L97.82187169076224,4415.729238 L105.52493592232247,4419.317337 L107.04469767386013,4427.957653 L111.17404195130462,4429.896556666667 L114.71122554743454,4433.463826499999 L119.69705728342967,4442.348602666666 L111.06598211114294,4444.345016666666 L120.40258721380746,4447.752784 L111.18525357474567,4456.059557166666 L111.16509500965367,4458.0147545 L120.05442940959631,4462.0629205000005 L108.06794225093455,4470.5690976666665 L107.74084064569439,4472.478254000001 L115.44538501822541,4476.363686 L107.76121959385756,4485.050129 L107.8430945135321,4487.026122 L120.30294105318734,4490.66994 L98.83929194616923,4499.160920666666 L95.48290518229288,4501.074941333333 L102.64344522694034,4504.7514695 L105.97721925650217,4513.205724666666 L102.42486182809796,4515.094760999999 L102.52372569564773,4518.9843205 L115.53675268795558,4527.654555666667 L112.81300682286957,4529.522104333333 L97.07263388066292,4533.3124885 L111.29219614720688,4541.822674333333 L108.1536670356324,4543.7299158333335 L98.83937788983849,4547.59944 L106.40829360296544,4551.654464 L104.7557878288423,4553.5756833333335 L101.66500520019542,4561.802341500001 L101.69605951269153,4570.404875 L101.56019287012248,4571.2920205 L100.30745959750499,4572.254406 L111.3632039673671,4576.067463 L116.8773593370027,4584.420193666667 L111.06160853330675,4586.3124020000005 L116.45129837124682,4590.3937105 L121.59161787815276,4598.834733666667 L119.66258357350631,4600.720334333333 L115.87061669367768,4604.639547 L113.53528696870796,4604.6477445 L124.30472582684257,4613.088736666667 L114.59901176325815,4615.011251 L113.61192007380674,4618.9546435 L117.6368148944486,4627.463041666667 L110.3847734899187,4629.354456666667 L117.75151149573725,4633.218693000001 L123.69653112731118,4641.846996 L119.92461627181274,4643.765138666667 L116.59470970736805,4647.519645 L118.60067314530744,4656.0787915 L116.68534208126124,4657.970682333334 L102.85833304800417,4661.8621885 L113.58617517021224,4670.42817 L109.12732211553833,4672.334191000001 L118.40482662163515,4676.137288 L124.50178511118128,4684.436351666666 L122.4997750820283,4686.335992333334 L113.23210635141459,4690.4078305 L113.18995575628611,4698.641813 L113.37880264556122,4700.527095166667 L113.38414070235251,4704.6543280000005 L111.58748829627103,4713.079495333333 L118.41884498902272,4715.018646666666 L105.57406705325491,4718.9480955 L111.24465019950759,4727.3739015 L108.11513487466016,4729.305364666667 L114.67518650212082,4733.168165 L106.85974614834225,4741.749565666666 L104.88571555818481,4743.662304333334 L100.1704734394865,4747.3386215 L106.9716073577946,4756.066050666667 L100.79963914356927,4757.9049393333335 L111.37027999613696,4761.494815 L108.05239599609337,4770.091257 L107.05147692518614,4772.055244666667 L105.6028581824603,4775.7611055 L110.65655676928873,4784.342945166667 L109.13370179490704,4786.253150333334 L111.81045482224613,4790.0136170000005 L109.8028305559506,4798.682036666666 L110.21909319416005,4800.595321666667 L102.43362808236338,4804.3107385 L102.47109952216493,4812.8775633333335 L110.67849075429598,4814.776691666666 L109.75774757752072,4818.6014995000005 L112.38410971602781,4827.014093666667 L120.4058626225364,4828.959864333333 L107.03631264220837,4832.8717455000005 L113.75735586080413,4841.220379333333 L108.37976498163795,4843.105012 L107.3761625583902,4847.1043205 L107.17867355570519,4855.647383666666 L103.20639535924948,4857.543570333333 L105.62394302932108,4861.392934 L105.24517018025671,4869.890827666667 L104.1542203411413,4871.775360333333 L110.89495420929643,4875.670314999999 L118.1663233901154,4884.035937 L114.60688038364464,4885.952392666667 L101.83233752426338,4889.893803000001 L113.39583859066971,4898.339244333333 L111.9174355918937,4900.243102 L116.6041921588776,4904.153004 L114.63430596343824,4912.628154333333 L114.24370153590439,4914.488997333333 L104.89092947412053,4918.394408 L106.37230305338431,4926.914620833333 L109.66292381167625,4928.821293833334 L102.85489530123334,4932.450533499999 L118.9419363573839,4940.997767 L113.13859963924915,4942.868155 L110.63990204679385,4946.7358955 L113.9045869155596,4955.050317 L120.58813959576065,4956.991142 L115.99837523419592,4960.856463 L111.48909234425395,4970.0365286666665 L106.84377972445122,4971.897355 L109.92275942251842,4975.153592500001 L111.16220082353863,4982.802707 L111.46481803233348,4984.313162 Z",
          "type": "path"
         }
        ],
        "template": {
         "data": {
          "bar": [
           {
            "error_x": {
             "color": "#2a3f5f"
            },
            "error_y": {
             "color": "#2a3f5f"
            },
            "marker": {
             "line": {
              "color": "#E5ECF6",
              "width": 0.5
             },
             "pattern": {
              "fillmode": "overlay",
              "size": 10,
              "solidity": 0.2
             }
            },
            "type": "bar"
           }
          ],
          "barpolar": [
           {
            "marker": {
             "line": {
              "color": "#E5ECF6",
              "width": 0.5
             },
             "pattern": {
              "fillmode": "overlay",
              "size": 10,
              "solidity": 0.2
             }
            },
            "type": "barpolar"
           }
          ],
          "carpet": [
           {
            "aaxis": {
             "endlinecolor": "#2a3f5f",
             "gridcolor": "white",
             "linecolor": "white",
             "minorgridcolor": "white",
             "startlinecolor": "#2a3f5f"
            },
            "baxis": {
             "endlinecolor": "#2a3f5f",
             "gridcolor": "white",
             "linecolor": "white",
             "minorgridcolor": "white",
             "startlinecolor": "#2a3f5f"
            },
            "type": "carpet"
           }
          ],
          "choropleth": [
           {
            "colorbar": {
             "outlinewidth": 0,
             "ticks": ""
            },
            "type": "choropleth"
           }
          ],
          "contour": [
           {
            "colorbar": {
             "outlinewidth": 0,
             "ticks": ""
            },
            "colorscale": [
             [
              0,
              "#0d0887"
             ],
             [
              0.1111111111111111,
              "#46039f"
             ],
             [
              0.2222222222222222,
              "#7201a8"
             ],
             [
              0.3333333333333333,
              "#9c179e"
             ],
             [
              0.4444444444444444,
              "#bd3786"
             ],
             [
              0.5555555555555556,
              "#d8576b"
             ],
             [
              0.6666666666666666,
              "#ed7953"
             ],
             [
              0.7777777777777778,
              "#fb9f3a"
             ],
             [
              0.8888888888888888,
              "#fdca26"
             ],
             [
              1,
              "#f0f921"
             ]
            ],
            "type": "contour"
           }
          ],
          "contourcarpet": [
           {
            "colorbar": {
             "outlinewidth": 0,
             "ticks": ""
            },
            "type": "contourcarpet"
           }
          ],
          "heatmap": [
           {
            "colorbar": {
             "outlinewidth": 0,
             "ticks": ""
            },
            "colorscale": [
             [
              0,
              "#0d0887"
             ],
             [
              0.1111111111111111,
              "#46039f"
             ],
             [
              0.2222222222222222,
              "#7201a8"
             ],
             [
              0.3333333333333333,
              "#9c179e"
             ],
             [
              0.4444444444444444,
              "#bd3786"
             ],
             [
              0.5555555555555556,
              "#d8576b"
             ],
             [
              0.6666666666666666,
              "#ed7953"
             ],
             [
              0.7777777777777778,
              "#fb9f3a"
             ],
             [
              0.8888888888888888,
              "#fdca26"
             ],
             [
              1,
              "#f0f921"
             ]
            ],
            "type": "heatmap"
           }
          ],
          "heatmapgl": [
           {
            "colorbar": {
             "outlinewidth": 0,
             "ticks": ""
            },
            "colorscale": [
             [
              0,
              "#0d0887"
             ],
             [
              0.1111111111111111,
              "#46039f"
             ],
             [
              0.2222222222222222,
              "#7201a8"
             ],
             [
              0.3333333333333333,
              "#9c179e"
             ],
             [
              0.4444444444444444,
              "#bd3786"
             ],
             [
              0.5555555555555556,
              "#d8576b"
             ],
             [
              0.6666666666666666,
              "#ed7953"
             ],
             [
              0.7777777777777778,
              "#fb9f3a"
             ],
             [
              0.8888888888888888,
              "#fdca26"
             ],
             [
              1,
              "#f0f921"
             ]
            ],
            "type": "heatmapgl"
           }
          ],
          "histogram": [
           {
            "marker": {
             "pattern": {
              "fillmode": "overlay",
              "size": 10,
              "solidity": 0.2
             }
            },
            "type": "histogram"
           }
          ],
          "histogram2d": [
           {
            "colorbar": {
             "outlinewidth": 0,
             "ticks": ""
            },
            "colorscale": [
             [
              0,
              "#0d0887"
             ],
             [
              0.1111111111111111,
              "#46039f"
             ],
             [
              0.2222222222222222,
              "#7201a8"
             ],
             [
              0.3333333333333333,
              "#9c179e"
             ],
             [
              0.4444444444444444,
              "#bd3786"
             ],
             [
              0.5555555555555556,
              "#d8576b"
             ],
             [
              0.6666666666666666,
              "#ed7953"
             ],
             [
              0.7777777777777778,
              "#fb9f3a"
             ],
             [
              0.8888888888888888,
              "#fdca26"
             ],
             [
              1,
              "#f0f921"
             ]
            ],
            "type": "histogram2d"
           }
          ],
          "histogram2dcontour": [
           {
            "colorbar": {
             "outlinewidth": 0,
             "ticks": ""
            },
            "colorscale": [
             [
              0,
              "#0d0887"
             ],
             [
              0.1111111111111111,
              "#46039f"
             ],
             [
              0.2222222222222222,
              "#7201a8"
             ],
             [
              0.3333333333333333,
              "#9c179e"
             ],
             [
              0.4444444444444444,
              "#bd3786"
             ],
             [
              0.5555555555555556,
              "#d8576b"
             ],
             [
              0.6666666666666666,
              "#ed7953"
             ],
             [
              0.7777777777777778,
              "#fb9f3a"
             ],
             [
              0.8888888888888888,
              "#fdca26"
             ],
             [
              1,
              "#f0f921"
             ]
            ],
            "type": "histogram2dcontour"
           }
          ],
          "mesh3d": [
           {
            "colorbar": {
             "outlinewidth": 0,
             "ticks": ""
            },
            "type": "mesh3d"
           }
          ],
          "parcoords": [
           {
            "line": {
             "colorbar": {
              "outlinewidth": 0,
              "ticks": ""
             }
            },
            "type": "parcoords"
           }
          ],
          "pie": [
           {
            "automargin": true,
            "type": "pie"
           }
          ],
          "scatter": [
           {
            "marker": {
             "colorbar": {
              "outlinewidth": 0,
              "ticks": ""
             }
            },
            "type": "scatter"
           }
          ],
          "scatter3d": [
           {
            "line": {
             "colorbar": {
              "outlinewidth": 0,
              "ticks": ""
             }
            },
            "marker": {
             "colorbar": {
              "outlinewidth": 0,
              "ticks": ""
             }
            },
            "type": "scatter3d"
           }
          ],
          "scattercarpet": [
           {
            "marker": {
             "colorbar": {
              "outlinewidth": 0,
              "ticks": ""
             }
            },
            "type": "scattercarpet"
           }
          ],
          "scattergeo": [
           {
            "marker": {
             "colorbar": {
              "outlinewidth": 0,
              "ticks": ""
             }
            },
            "type": "scattergeo"
           }
          ],
          "scattergl": [
           {
            "marker": {
             "colorbar": {
              "outlinewidth": 0,
              "ticks": ""
             }
            },
            "type": "scattergl"
           }
          ],
          "scattermapbox": [
           {
            "marker": {
             "colorbar": {
              "outlinewidth": 0,
              "ticks": ""
             }
            },
            "type": "scattermapbox"
           }
          ],
          "scatterpolar": [
           {
            "marker": {
             "colorbar": {
              "outlinewidth": 0,
              "ticks": ""
             }
            },
            "type": "scatterpolar"
           }
          ],
          "scatterpolargl": [
           {
            "marker": {
             "colorbar": {
              "outlinewidth": 0,
              "ticks": ""
             }
            },
            "type": "scatterpolargl"
           }
          ],
          "scatterternary": [
           {
            "marker": {
             "colorbar": {
              "outlinewidth": 0,
              "ticks": ""
             }
            },
            "type": "scatterternary"
           }
          ],
          "surface": [
           {
            "colorbar": {
             "outlinewidth": 0,
             "ticks": ""
            },
            "colorscale": [
             [
              0,
              "#0d0887"
             ],
             [
              0.1111111111111111,
              "#46039f"
             ],
             [
              0.2222222222222222,
              "#7201a8"
             ],
             [
              0.3333333333333333,
              "#9c179e"
             ],
             [
              0.4444444444444444,
              "#bd3786"
             ],
             [
              0.5555555555555556,
              "#d8576b"
             ],
             [
              0.6666666666666666,
              "#ed7953"
             ],
             [
              0.7777777777777778,
              "#fb9f3a"
             ],
             [
              0.8888888888888888,
              "#fdca26"
             ],
             [
              1,
              "#f0f921"
             ]
            ],
            "type": "surface"
           }
          ],
          "table": [
           {
            "cells": {
             "fill": {
              "color": "#EBF0F8"
             },
             "line": {
              "color": "white"
             }
            },
            "header": {
             "fill": {
              "color": "#C8D4E3"
             },
             "line": {
              "color": "white"
             }
            },
            "type": "table"
           }
          ]
         },
         "layout": {
          "annotationdefaults": {
           "arrowcolor": "#2a3f5f",
           "arrowhead": 0,
           "arrowwidth": 1
          },
          "autotypenumbers": "strict",
          "coloraxis": {
           "colorbar": {
            "outlinewidth": 0,
            "ticks": ""
           }
          },
          "colorscale": {
           "diverging": [
            [
             0,
             "#8e0152"
            ],
            [
             0.1,
             "#c51b7d"
            ],
            [
             0.2,
             "#de77ae"
            ],
            [
             0.3,
             "#f1b6da"
            ],
            [
             0.4,
             "#fde0ef"
            ],
            [
             0.5,
             "#f7f7f7"
            ],
            [
             0.6,
             "#e6f5d0"
            ],
            [
             0.7,
             "#b8e186"
            ],
            [
             0.8,
             "#7fbc41"
            ],
            [
             0.9,
             "#4d9221"
            ],
            [
             1,
             "#276419"
            ]
           ],
           "sequential": [
            [
             0,
             "#0d0887"
            ],
            [
             0.1111111111111111,
             "#46039f"
            ],
            [
             0.2222222222222222,
             "#7201a8"
            ],
            [
             0.3333333333333333,
             "#9c179e"
            ],
            [
             0.4444444444444444,
             "#bd3786"
            ],
            [
             0.5555555555555556,
             "#d8576b"
            ],
            [
             0.6666666666666666,
             "#ed7953"
            ],
            [
             0.7777777777777778,
             "#fb9f3a"
            ],
            [
             0.8888888888888888,
             "#fdca26"
            ],
            [
             1,
             "#f0f921"
            ]
           ],
           "sequentialminus": [
            [
             0,
             "#0d0887"
            ],
            [
             0.1111111111111111,
             "#46039f"
            ],
            [
             0.2222222222222222,
             "#7201a8"
            ],
            [
             0.3333333333333333,
             "#9c179e"
            ],
            [
             0.4444444444444444,
             "#bd3786"
            ],
            [
             0.5555555555555556,
             "#d8576b"
            ],
            [
             0.6666666666666666,
             "#ed7953"
            ],
            [
             0.7777777777777778,
             "#fb9f3a"
            ],
            [
             0.8888888888888888,
             "#fdca26"
            ],
            [
             1,
             "#f0f921"
            ]
           ]
          },
          "colorway": [
           "#636efa",
           "#EF553B",
           "#00cc96",
           "#ab63fa",
           "#FFA15A",
           "#19d3f3",
           "#FF6692",
           "#B6E880",
           "#FF97FF",
           "#FECB52"
          ],
          "font": {
           "color": "#2a3f5f"
          },
          "geo": {
           "bgcolor": "white",
           "lakecolor": "white",
           "landcolor": "#E5ECF6",
           "showlakes": true,
           "showland": true,
           "subunitcolor": "white"
          },
          "hoverlabel": {
           "align": "left"
          },
          "hovermode": "closest",
          "mapbox": {
           "style": "light"
          },
          "paper_bgcolor": "white",
          "plot_bgcolor": "#E5ECF6",
          "polar": {
           "angularaxis": {
            "gridcolor": "white",
            "linecolor": "white",
            "ticks": ""
           },
           "bgcolor": "#E5ECF6",
           "radialaxis": {
            "gridcolor": "white",
            "linecolor": "white",
            "ticks": ""
           }
          },
          "scene": {
           "xaxis": {
            "backgroundcolor": "#E5ECF6",
            "gridcolor": "white",
            "gridwidth": 2,
            "linecolor": "white",
            "showbackground": true,
            "ticks": "",
            "zerolinecolor": "white"
           },
           "yaxis": {
            "backgroundcolor": "#E5ECF6",
            "gridcolor": "white",
            "gridwidth": 2,
            "linecolor": "white",
            "showbackground": true,
            "ticks": "",
            "zerolinecolor": "white"
           },
           "zaxis": {
            "backgroundcolor": "#E5ECF6",
            "gridcolor": "white",
            "gridwidth": 2,
            "linecolor": "white",
            "showbackground": true,
            "ticks": "",
            "zerolinecolor": "white"
           }
          },
          "shapedefaults": {
           "line": {
            "color": "#2a3f5f"
           }
          },
          "ternary": {
           "aaxis": {
            "gridcolor": "white",
            "linecolor": "white",
            "ticks": ""
           },
           "baxis": {
            "gridcolor": "white",
            "linecolor": "white",
            "ticks": ""
           },
           "bgcolor": "#E5ECF6",
           "caxis": {
            "gridcolor": "white",
            "linecolor": "white",
            "ticks": ""
           }
          },
          "title": {
           "x": 0.05
          },
          "xaxis": {
           "automargin": true,
           "gridcolor": "white",
           "linecolor": "white",
           "ticks": "",
           "title": {
            "standoff": 15
           },
           "zerolinecolor": "white",
           "zerolinewidth": 2
          },
          "yaxis": {
           "automargin": true,
           "gridcolor": "white",
           "linecolor": "white",
           "ticks": "",
           "title": {
            "standoff": 15
           },
           "zerolinecolor": "white",
           "zerolinewidth": 2
          }
         }
        },
        "title": {
         "text": "Jewelry vs Perfs"
        },
        "xaxis": {
         "range": [
          -185,
          185
         ],
         "title": {
          "text": "AngleFromHighSideClockwiseDegrees"
         }
        },
        "yaxis": {
         "autorange": "reversed",
         "title": {
          "text": "Depth"
         }
        }
       }
      }
     },
     "metadata": {},
     "output_type": "display_data"
    }
   ],
   "source": [
    "fig = go.Figure()\n",
    "\n",
    "# Add windows\n",
    "gozone_svg = ''.join([f'M {xy[0][0]+30},{xy[0][1]} ' if xy[1]==0 else f'L{xy[0][0]+30},{xy[0][1]} ' for xy in zip(combined.loc[combined['type']!='PERFS', ['plot_angle','depth']].values,range(combined.loc[combined['type']!='PERFS', ['plot_angle','depth']].shape[0]))])+''.join([f' L{xy[0][0]-30},{xy[0][1]} Z' if xy[1]==0 else f' L{xy[0][0]-30},{xy[0][1]}' for xy in zip(combined.loc[combined['type']!='PERFS', ['plot_angle','depth']].values,range(combined.loc[combined['type']!='PERFS', ['plot_angle','depth']].shape[0]))][::-1])\n",
    "\n",
    "nogozone_svg = ''.join([f'M {xy[0][0]+10},{xy[0][1]} ' if xy[1]==0 else f'L{xy[0][0]+10},{xy[0][1]} ' for xy in zip(combined.loc[combined['type']!='PERFS', ['fiber_plot_angle','depth']].values,range(combined.loc[combined['type']!='PERFS', ['fiber_plot_angle','depth']].shape[0]))])+''.join([f' L{xy[0][0]-10},{xy[0][1]} Z' if xy[1]==0 else f' L{xy[0][0]-10},{xy[0][1]}' for xy in zip(combined.loc[combined['type']!='PERFS', ['fiber_plot_angle','depth']].values,range(combined.loc[combined['type']!='PERFS', ['fiber_plot_angle','depth']].shape[0]))][::-1])\n",
    "\n",
    "fig.update_layout(shapes=[dict(type=\"path\", path=gozone_svg, fillcolor='rgba(154,205,50,0.2)', line=dict(width=0), layer='below'), dict(type=\"path\", path=nogozone_svg, fillcolor='rgba(255,69,0,0.2)', line=dict(width=0), layer='below')])\n",
    "\n",
    "# Add traces\n",
    "fig.add_trace(go.Scatter(x=combined.loc[combined['type']=='BlastProtector', 'plot_angle'], y=combined.loc[combined['type']=='BlastProtector', 'depth'], mode='markers', name='BlastProtector', marker_color='forestgreen', customdata=combined.loc[combined['type']=='BlastProtector', ['hadware_name', 'angle_rounded']]))\n",
    "\n",
    "fig.add_trace(go.Scatter(x=combined.loc[combined['type']=='CrossCoupling', 'plot_angle'], y=combined.loc[combined['type']=='CrossCoupling', 'depth'], mode='markers', name='CrossCoupling', marker_color='darkolivegreen', customdata=combined.loc[combined['type']=='CrossCoupling', ['hadware_name', 'angle_rounded']]))\n",
    "\n",
    "fig.add_trace(go.Scatter(x=combined.loc[combined['type']=='PERFS', 'plot_angle'], y=combined.loc[combined['type']=='PERFS', 'depth'], mode='markers', name='PERFS', marker_color='navy', customdata=combined.loc[combined['type']=='PERFS', ['name', 'angle_rounded']]))\n",
    "\n",
    "fig.add_trace(go.Scatter(x=combined.loc[combined['type']!='PERFS', 'fiber_plot_angle'], y=combined.loc[combined['type']!='PERFS', 'depth'], mode='lines+markers', name='Fiber Wire', marker_color='crimson', customdata=combined.loc[combined['type']!='PERFS', ['name', 'fiber_angle_rounded']]))\n",
    "\n",
    "fig.update_traces(hovertemplate='%{customdata[0]}<br>%{customdata[1]}')\n",
    "fig.update_xaxes(range=[-185, 185])\n",
    "fig.update_yaxes(autorange=\"reversed\")\n",
    "fig.update_layout(hovermode=\"y\", title=\"Jewelry vs Perfs\", legend_title=\"Type\", legend_orientation=\"h\", template=\"plotly\", yaxis_title=\"Depth\", xaxis_title='AngleFromHighSideClockwiseDegrees')\n",
    "fig.show()"
   ]
  },
  {
   "cell_type": "code",
   "execution_count": null,
   "metadata": {},
   "outputs": [],
   "source": [
    "features['type'].value_counts()"
   ]
  },
  {
   "cell_type": "code",
   "execution_count": 65,
   "metadata": {},
   "outputs": [
    {
     "data": {
      "application/vnd.plotly.v1+json": {
       "config": {
        "plotlyServerURL": "https://plot.ly"
       },
       "data": [
        {
         "domain": {
          "x": [
           0,
           1
          ],
          "y": [
           0,
           1
          ]
         },
         "hoverinfo": "label+value",
         "labels": [
          "BlastProtector",
          "CrossCoupling"
         ],
         "marker": {
          "colors": [
           "forestgreen",
           "darkolivegreen"
          ]
         },
         "name": "Blast Protector",
         "sort": false,
         "type": "pie",
         "values": [
          140,
          71
         ]
        }
       ],
       "layout": {
        "template": {
         "data": {
          "bar": [
           {
            "error_x": {
             "color": "#2a3f5f"
            },
            "error_y": {
             "color": "#2a3f5f"
            },
            "marker": {
             "line": {
              "color": "#E5ECF6",
              "width": 0.5
             },
             "pattern": {
              "fillmode": "overlay",
              "size": 10,
              "solidity": 0.2
             }
            },
            "type": "bar"
           }
          ],
          "barpolar": [
           {
            "marker": {
             "line": {
              "color": "#E5ECF6",
              "width": 0.5
             },
             "pattern": {
              "fillmode": "overlay",
              "size": 10,
              "solidity": 0.2
             }
            },
            "type": "barpolar"
           }
          ],
          "carpet": [
           {
            "aaxis": {
             "endlinecolor": "#2a3f5f",
             "gridcolor": "white",
             "linecolor": "white",
             "minorgridcolor": "white",
             "startlinecolor": "#2a3f5f"
            },
            "baxis": {
             "endlinecolor": "#2a3f5f",
             "gridcolor": "white",
             "linecolor": "white",
             "minorgridcolor": "white",
             "startlinecolor": "#2a3f5f"
            },
            "type": "carpet"
           }
          ],
          "choropleth": [
           {
            "colorbar": {
             "outlinewidth": 0,
             "ticks": ""
            },
            "type": "choropleth"
           }
          ],
          "contour": [
           {
            "colorbar": {
             "outlinewidth": 0,
             "ticks": ""
            },
            "colorscale": [
             [
              0,
              "#0d0887"
             ],
             [
              0.1111111111111111,
              "#46039f"
             ],
             [
              0.2222222222222222,
              "#7201a8"
             ],
             [
              0.3333333333333333,
              "#9c179e"
             ],
             [
              0.4444444444444444,
              "#bd3786"
             ],
             [
              0.5555555555555556,
              "#d8576b"
             ],
             [
              0.6666666666666666,
              "#ed7953"
             ],
             [
              0.7777777777777778,
              "#fb9f3a"
             ],
             [
              0.8888888888888888,
              "#fdca26"
             ],
             [
              1,
              "#f0f921"
             ]
            ],
            "type": "contour"
           }
          ],
          "contourcarpet": [
           {
            "colorbar": {
             "outlinewidth": 0,
             "ticks": ""
            },
            "type": "contourcarpet"
           }
          ],
          "heatmap": [
           {
            "colorbar": {
             "outlinewidth": 0,
             "ticks": ""
            },
            "colorscale": [
             [
              0,
              "#0d0887"
             ],
             [
              0.1111111111111111,
              "#46039f"
             ],
             [
              0.2222222222222222,
              "#7201a8"
             ],
             [
              0.3333333333333333,
              "#9c179e"
             ],
             [
              0.4444444444444444,
              "#bd3786"
             ],
             [
              0.5555555555555556,
              "#d8576b"
             ],
             [
              0.6666666666666666,
              "#ed7953"
             ],
             [
              0.7777777777777778,
              "#fb9f3a"
             ],
             [
              0.8888888888888888,
              "#fdca26"
             ],
             [
              1,
              "#f0f921"
             ]
            ],
            "type": "heatmap"
           }
          ],
          "heatmapgl": [
           {
            "colorbar": {
             "outlinewidth": 0,
             "ticks": ""
            },
            "colorscale": [
             [
              0,
              "#0d0887"
             ],
             [
              0.1111111111111111,
              "#46039f"
             ],
             [
              0.2222222222222222,
              "#7201a8"
             ],
             [
              0.3333333333333333,
              "#9c179e"
             ],
             [
              0.4444444444444444,
              "#bd3786"
             ],
             [
              0.5555555555555556,
              "#d8576b"
             ],
             [
              0.6666666666666666,
              "#ed7953"
             ],
             [
              0.7777777777777778,
              "#fb9f3a"
             ],
             [
              0.8888888888888888,
              "#fdca26"
             ],
             [
              1,
              "#f0f921"
             ]
            ],
            "type": "heatmapgl"
           }
          ],
          "histogram": [
           {
            "marker": {
             "pattern": {
              "fillmode": "overlay",
              "size": 10,
              "solidity": 0.2
             }
            },
            "type": "histogram"
           }
          ],
          "histogram2d": [
           {
            "colorbar": {
             "outlinewidth": 0,
             "ticks": ""
            },
            "colorscale": [
             [
              0,
              "#0d0887"
             ],
             [
              0.1111111111111111,
              "#46039f"
             ],
             [
              0.2222222222222222,
              "#7201a8"
             ],
             [
              0.3333333333333333,
              "#9c179e"
             ],
             [
              0.4444444444444444,
              "#bd3786"
             ],
             [
              0.5555555555555556,
              "#d8576b"
             ],
             [
              0.6666666666666666,
              "#ed7953"
             ],
             [
              0.7777777777777778,
              "#fb9f3a"
             ],
             [
              0.8888888888888888,
              "#fdca26"
             ],
             [
              1,
              "#f0f921"
             ]
            ],
            "type": "histogram2d"
           }
          ],
          "histogram2dcontour": [
           {
            "colorbar": {
             "outlinewidth": 0,
             "ticks": ""
            },
            "colorscale": [
             [
              0,
              "#0d0887"
             ],
             [
              0.1111111111111111,
              "#46039f"
             ],
             [
              0.2222222222222222,
              "#7201a8"
             ],
             [
              0.3333333333333333,
              "#9c179e"
             ],
             [
              0.4444444444444444,
              "#bd3786"
             ],
             [
              0.5555555555555556,
              "#d8576b"
             ],
             [
              0.6666666666666666,
              "#ed7953"
             ],
             [
              0.7777777777777778,
              "#fb9f3a"
             ],
             [
              0.8888888888888888,
              "#fdca26"
             ],
             [
              1,
              "#f0f921"
             ]
            ],
            "type": "histogram2dcontour"
           }
          ],
          "mesh3d": [
           {
            "colorbar": {
             "outlinewidth": 0,
             "ticks": ""
            },
            "type": "mesh3d"
           }
          ],
          "parcoords": [
           {
            "line": {
             "colorbar": {
              "outlinewidth": 0,
              "ticks": ""
             }
            },
            "type": "parcoords"
           }
          ],
          "pie": [
           {
            "automargin": true,
            "type": "pie"
           }
          ],
          "scatter": [
           {
            "marker": {
             "colorbar": {
              "outlinewidth": 0,
              "ticks": ""
             }
            },
            "type": "scatter"
           }
          ],
          "scatter3d": [
           {
            "line": {
             "colorbar": {
              "outlinewidth": 0,
              "ticks": ""
             }
            },
            "marker": {
             "colorbar": {
              "outlinewidth": 0,
              "ticks": ""
             }
            },
            "type": "scatter3d"
           }
          ],
          "scattercarpet": [
           {
            "marker": {
             "colorbar": {
              "outlinewidth": 0,
              "ticks": ""
             }
            },
            "type": "scattercarpet"
           }
          ],
          "scattergeo": [
           {
            "marker": {
             "colorbar": {
              "outlinewidth": 0,
              "ticks": ""
             }
            },
            "type": "scattergeo"
           }
          ],
          "scattergl": [
           {
            "marker": {
             "colorbar": {
              "outlinewidth": 0,
              "ticks": ""
             }
            },
            "type": "scattergl"
           }
          ],
          "scattermapbox": [
           {
            "marker": {
             "colorbar": {
              "outlinewidth": 0,
              "ticks": ""
             }
            },
            "type": "scattermapbox"
           }
          ],
          "scatterpolar": [
           {
            "marker": {
             "colorbar": {
              "outlinewidth": 0,
              "ticks": ""
             }
            },
            "type": "scatterpolar"
           }
          ],
          "scatterpolargl": [
           {
            "marker": {
             "colorbar": {
              "outlinewidth": 0,
              "ticks": ""
             }
            },
            "type": "scatterpolargl"
           }
          ],
          "scatterternary": [
           {
            "marker": {
             "colorbar": {
              "outlinewidth": 0,
              "ticks": ""
             }
            },
            "type": "scatterternary"
           }
          ],
          "surface": [
           {
            "colorbar": {
             "outlinewidth": 0,
             "ticks": ""
            },
            "colorscale": [
             [
              0,
              "#0d0887"
             ],
             [
              0.1111111111111111,
              "#46039f"
             ],
             [
              0.2222222222222222,
              "#7201a8"
             ],
             [
              0.3333333333333333,
              "#9c179e"
             ],
             [
              0.4444444444444444,
              "#bd3786"
             ],
             [
              0.5555555555555556,
              "#d8576b"
             ],
             [
              0.6666666666666666,
              "#ed7953"
             ],
             [
              0.7777777777777778,
              "#fb9f3a"
             ],
             [
              0.8888888888888888,
              "#fdca26"
             ],
             [
              1,
              "#f0f921"
             ]
            ],
            "type": "surface"
           }
          ],
          "table": [
           {
            "cells": {
             "fill": {
              "color": "#EBF0F8"
             },
             "line": {
              "color": "white"
             }
            },
            "header": {
             "fill": {
              "color": "#C8D4E3"
             },
             "line": {
              "color": "white"
             }
            },
            "type": "table"
           }
          ]
         },
         "layout": {
          "annotationdefaults": {
           "arrowcolor": "#2a3f5f",
           "arrowhead": 0,
           "arrowwidth": 1
          },
          "autotypenumbers": "strict",
          "coloraxis": {
           "colorbar": {
            "outlinewidth": 0,
            "ticks": ""
           }
          },
          "colorscale": {
           "diverging": [
            [
             0,
             "#8e0152"
            ],
            [
             0.1,
             "#c51b7d"
            ],
            [
             0.2,
             "#de77ae"
            ],
            [
             0.3,
             "#f1b6da"
            ],
            [
             0.4,
             "#fde0ef"
            ],
            [
             0.5,
             "#f7f7f7"
            ],
            [
             0.6,
             "#e6f5d0"
            ],
            [
             0.7,
             "#b8e186"
            ],
            [
             0.8,
             "#7fbc41"
            ],
            [
             0.9,
             "#4d9221"
            ],
            [
             1,
             "#276419"
            ]
           ],
           "sequential": [
            [
             0,
             "#0d0887"
            ],
            [
             0.1111111111111111,
             "#46039f"
            ],
            [
             0.2222222222222222,
             "#7201a8"
            ],
            [
             0.3333333333333333,
             "#9c179e"
            ],
            [
             0.4444444444444444,
             "#bd3786"
            ],
            [
             0.5555555555555556,
             "#d8576b"
            ],
            [
             0.6666666666666666,
             "#ed7953"
            ],
            [
             0.7777777777777778,
             "#fb9f3a"
            ],
            [
             0.8888888888888888,
             "#fdca26"
            ],
            [
             1,
             "#f0f921"
            ]
           ],
           "sequentialminus": [
            [
             0,
             "#0d0887"
            ],
            [
             0.1111111111111111,
             "#46039f"
            ],
            [
             0.2222222222222222,
             "#7201a8"
            ],
            [
             0.3333333333333333,
             "#9c179e"
            ],
            [
             0.4444444444444444,
             "#bd3786"
            ],
            [
             0.5555555555555556,
             "#d8576b"
            ],
            [
             0.6666666666666666,
             "#ed7953"
            ],
            [
             0.7777777777777778,
             "#fb9f3a"
            ],
            [
             0.8888888888888888,
             "#fdca26"
            ],
            [
             1,
             "#f0f921"
            ]
           ]
          },
          "colorway": [
           "#636efa",
           "#EF553B",
           "#00cc96",
           "#ab63fa",
           "#FFA15A",
           "#19d3f3",
           "#FF6692",
           "#B6E880",
           "#FF97FF",
           "#FECB52"
          ],
          "font": {
           "color": "#2a3f5f"
          },
          "geo": {
           "bgcolor": "white",
           "lakecolor": "white",
           "landcolor": "#E5ECF6",
           "showlakes": true,
           "showland": true,
           "subunitcolor": "white"
          },
          "hoverlabel": {
           "align": "left"
          },
          "hovermode": "closest",
          "mapbox": {
           "style": "light"
          },
          "paper_bgcolor": "white",
          "plot_bgcolor": "#E5ECF6",
          "polar": {
           "angularaxis": {
            "gridcolor": "white",
            "linecolor": "white",
            "ticks": ""
           },
           "bgcolor": "#E5ECF6",
           "radialaxis": {
            "gridcolor": "white",
            "linecolor": "white",
            "ticks": ""
           }
          },
          "scene": {
           "xaxis": {
            "backgroundcolor": "#E5ECF6",
            "gridcolor": "white",
            "gridwidth": 2,
            "linecolor": "white",
            "showbackground": true,
            "ticks": "",
            "zerolinecolor": "white"
           },
           "yaxis": {
            "backgroundcolor": "#E5ECF6",
            "gridcolor": "white",
            "gridwidth": 2,
            "linecolor": "white",
            "showbackground": true,
            "ticks": "",
            "zerolinecolor": "white"
           },
           "zaxis": {
            "backgroundcolor": "#E5ECF6",
            "gridcolor": "white",
            "gridwidth": 2,
            "linecolor": "white",
            "showbackground": true,
            "ticks": "",
            "zerolinecolor": "white"
           }
          },
          "shapedefaults": {
           "line": {
            "color": "#2a3f5f"
           }
          },
          "ternary": {
           "aaxis": {
            "gridcolor": "white",
            "linecolor": "white",
            "ticks": ""
           },
           "baxis": {
            "gridcolor": "white",
            "linecolor": "white",
            "ticks": ""
           },
           "bgcolor": "#E5ECF6",
           "caxis": {
            "gridcolor": "white",
            "linecolor": "white",
            "ticks": ""
           }
          },
          "title": {
           "x": 0.05
          },
          "xaxis": {
           "automargin": true,
           "gridcolor": "white",
           "linecolor": "white",
           "ticks": "",
           "title": {
            "standoff": 15
           },
           "zerolinecolor": "white",
           "zerolinewidth": 2
          },
          "yaxis": {
           "automargin": true,
           "gridcolor": "white",
           "linecolor": "white",
           "ticks": "",
           "title": {
            "standoff": 15
           },
           "zerolinecolor": "white",
           "zerolinewidth": 2
          }
         }
        },
        "title": {
         "text": "Jewelry type"
        }
       }
      }
     },
     "metadata": {},
     "output_type": "display_data"
    }
   ],
   "source": [
    "BP, CC = features['type'].value_counts()\n",
    "\n",
    "pie = make_subplots(rows=1, cols=1, specs=[[{\"type\": \"domain\"}]])\n",
    "\n",
    "pie.add_trace(go.Pie(\n",
    "     values=[BP, CC],\n",
    "     labels=['BlastProtector', 'CrossCoupling'],\n",
    "     domain=dict(x=[0, 0.5]),\n",
    "     name=\"Blast Protector\",\n",
    "     hoverinfo='label+value',\n",
    "     sort=False,\n",
    "     marker_colors = ['forestgreen', 'darkolivegreen']\n",
    "     ), \n",
    "     row=1, col=1)\n",
    "\n",
    "pie.update_layout(title_text=\"Jewelry type\", template=\"plotly\")\n",
    "pie.show()"
   ]
  },
  {
   "cell_type": "code",
   "execution_count": 66,
   "metadata": {},
   "outputs": [],
   "source": [
    "pio.write_html(fig, file='plotly/s.html', auto_open=False)\n",
    "pio.write_html(pie, file='plotly/sc.html', auto_open=False)"
   ]
  },
  {
   "cell_type": "code",
   "execution_count": null,
   "metadata": {},
   "outputs": [],
   "source": []
  }
 ],
 "metadata": {
  "interpreter": {
   "hash": "1e2fdc5b86b5227cd00967d3bc86dcbd439bf936df37a4710a92069cadecd97f"
  },
  "kernelspec": {
   "display_name": "Python 3.9.9 64-bit",
   "language": "python",
   "name": "python3"
  },
  "language_info": {
   "codemirror_mode": {
    "name": "ipython",
    "version": 3
   },
   "file_extension": ".py",
   "mimetype": "text/x-python",
   "name": "python",
   "nbconvert_exporter": "python",
   "pygments_lexer": "ipython3",
   "version": "3.9.9"
  },
  "orig_nbformat": 4
 },
 "nbformat": 4,
 "nbformat_minor": 2
}
