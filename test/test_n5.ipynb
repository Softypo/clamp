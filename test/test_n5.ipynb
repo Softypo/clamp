{
 "cells": [
  {
   "cell_type": "code",
   "execution_count": null,
   "metadata": {},
   "outputs": [],
   "source": [
    "import numpy as np\n",
    "import pandas as pd\n",
    "from test_n5 import dvh5, dvh5_reader\n",
    "from math import sqrt\n",
    "\n",
    "import plotly.express as px\n",
    "import plotly.graph_objects as go\n",
    "import plotly.io as pio"
   ]
  },
  {
   "cell_type": "code",
   "execution_count": null,
   "metadata": {},
   "outputs": [],
   "source": [
    "dvf5_path = \"data\\\\h5\\\\rad_phase_reference3.h5\"\n",
    "h5obj = dvh5(dvf5_path)\n",
    "h5obj.well"
   ]
  },
  {
   "cell_type": "code",
   "execution_count": null,
   "metadata": {},
   "outputs": [],
   "source": [
    "bdframes = h5obj['per-slice-data']['bm-frames']['array']"
   ]
  },
  {
   "cell_type": "code",
   "execution_count": null,
   "metadata": {},
   "outputs": [],
   "source": [
    "fig = px.imshow(np.nanmax(bdframes[:,60:,1400:2300], axis=1).T, color_continuous_scale='balance', contrast_rescaling='minmax', aspect='auto', height=800, origin='lower', title=h5obj['attrs']['description']+'_frames_1400:2300')\n",
    "fig.show(renderer='notebook_connected')"
   ]
  },
  {
   "cell_type": "code",
   "execution_count": null,
   "metadata": {},
   "outputs": [],
   "source": [
    "pio.write_html(fig, file='plotly/'+h5obj['attrs']['description']+'_frames_1400-2300.html', auto_open=False)"
   ]
  },
  {
   "cell_type": "code",
   "execution_count": null,
   "metadata": {},
   "outputs": [],
   "source": [
    "passes = pd.DataFrame(np.nanmax(np.nanmax(bdframes[:,60:,2000:3100], axis=2), axis=1), columns=[h5obj['attrs']['description']+'_frames_2000:3100_1'])"
   ]
  },
  {
   "cell_type": "code",
   "execution_count": null,
   "metadata": {},
   "outputs": [],
   "source": [
    "passes = pd.concat([passes, pd.DataFrame(np.nanmax(np.nanmax(bdframes[:,60:,1400:2300], axis=2), axis=1), columns=[h5obj['attrs']['description']+'_frames_1400:2300'])], axis=1)"
   ]
  },
  {
   "cell_type": "code",
   "execution_count": null,
   "metadata": {},
   "outputs": [],
   "source": [
    "fig = px.scatter(passes, trendline='rolling', trendline_options=dict(function=\"mean\", window=1), labels={'value':'Energy'}, title='Max inline energy focused on clamps')\n",
    "fig.show(renderer='notebook_connected')"
   ]
  },
  {
   "cell_type": "code",
   "execution_count": null,
   "metadata": {},
   "outputs": [],
   "source": [
    "passes_snr = passes.copy()"
   ]
  },
  {
   "cell_type": "code",
   "execution_count": null,
   "metadata": {},
   "outputs": [],
   "source": [
    "fig = px.scatter(passes_snr/passes_snr.mean(), trendline='rolling', trendline_options=dict(function=\"mean\", window=1), labels={'value':'snr'}, title='Signal to Noice Ratio [signal/mean] focused on clamps')\n",
    "fig.show(renderer='notebook_connected')"
   ]
  },
  {
   "cell_type": "code",
   "execution_count": null,
   "metadata": {},
   "outputs": [],
   "source": [
    "pio.write_html(fig, file='plotly/passes)snr.html', auto_open=False)"
   ]
  },
  {
   "cell_type": "code",
   "execution_count": null,
   "metadata": {},
   "outputs": [],
   "source": [
    "fig = px.imshow(np.nanmax(bdframes[:,:,:], axis=2), color_continuous_scale='balance', contrast_rescaling='minmax', aspect='auto', height=800, origin='lower')\n",
    "fig.show(renderer='notebook_connected')"
   ]
  },
  {
   "cell_type": "code",
   "execution_count": null,
   "metadata": {},
   "outputs": [],
   "source": [
    "fig = px.imshow(np.nanmax(bdframes[:,60:,:], axis=1).T, color_continuous_scale='balance', contrast_rescaling='minmax', aspect='auto', height=800, origin='lower', title=h5obj['attrs']['description'])\n",
    "fig.show(renderer='notebook_connected')"
   ]
  },
  {
   "cell_type": "code",
   "execution_count": null,
   "metadata": {},
   "outputs": [],
   "source": [
    "fig = px.imshow(bdframes[:,:,:], animation_frame=1, color_continuous_scale='inferno', contrast_rescaling='minmax', aspect='auto', height=800, origin='lower')\n",
    "fig.show(renderer='notebook_connected')"
   ]
  },
  {
   "cell_type": "code",
   "execution_count": null,
   "metadata": {},
   "outputs": [],
   "source": [
    "h5obj.keys()"
   ]
  },
  {
   "cell_type": "code",
   "execution_count": null,
   "metadata": {},
   "outputs": [],
   "source": [
    "h5obj['attrs'].keys()"
   ]
  },
  {
   "cell_type": "code",
   "execution_count": null,
   "metadata": {},
   "outputs": [],
   "source": [
    "h5obj['attrs']"
   ]
  },
  {
   "cell_type": "code",
   "execution_count": null,
   "metadata": {},
   "outputs": [],
   "source": [
    "# h5obj['per-slice-data']['timestamps']['attrs']"
   ]
  },
  {
   "cell_type": "code",
   "execution_count": null,
   "metadata": {},
   "outputs": [],
   "source": [
    "# xyz = h5obj['per-slice-data']['accel-gyro']['array']\n",
    "# time = h5obj['per-slice-data']['timestamps']['array']*1e-9"
   ]
  },
  {
   "cell_type": "code",
   "execution_count": null,
   "metadata": {},
   "outputs": [],
   "source": [
    "# def accelxyz(accelxyz):\n",
    "#     return [(sqrt(xyz[0]**2 + xyz[1]**2 + xyz[2]**2)-1)*9.81 for xyz in accelxyz]\n",
    "\n",
    "# def velxyz(accel, time):\n",
    "#     vel = []\n",
    "#     v=0\n",
    "#     for a, t in zip(accel, np.diff(time)):\n",
    "#         #print (f'a: {a}, t: {t}')\n",
    "#         v += a*t\n",
    "#         vel.append(v)\n",
    "#     return vel\n",
    "\n",
    "# accel = accelxyz(xyz)\n",
    "# vel = velxyz(accel, time)"
   ]
  },
  {
   "cell_type": "code",
   "execution_count": null,
   "metadata": {},
   "outputs": [],
   "source": [
    "import plotly.io as pio\n",
    "pio.renderers"
   ]
  }
 ],
 "metadata": {
  "interpreter": {
   "hash": "bd29432d1f8e6b05d07420b6bf093a88a227099377805683637bbedd4b2fb9bf"
  },
  "kernelspec": {
   "display_name": "Python 3.9.9 64-bit ('.virtualenv_p39': venv)",
   "language": "python",
   "name": "python3"
  },
  "language_info": {
   "codemirror_mode": {
    "name": "ipython",
    "version": 3
   },
   "file_extension": ".py",
   "mimetype": "text/x-python",
   "name": "python",
   "nbconvert_exporter": "python",
   "pygments_lexer": "ipython3",
   "version": "3.9.9"
  },
  "orig_nbformat": 4
 },
 "nbformat": 4,
 "nbformat_minor": 2
}
