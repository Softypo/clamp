{
 "cells": [
  {
   "cell_type": "code",
   "execution_count": null,
   "metadata": {},
   "outputs": [],
   "source": [
    "# import lasio_utilitites as lasutil\n",
    "import pandas as pd\n",
    "import numpy as np\n",
    "pd.options.plotting.backend = \"plotly\"\n",
    "#from math import isclose"
   ]
  },
  {
   "cell_type": "code",
   "execution_count": null,
   "metadata": {},
   "outputs": [],
   "source": [
    "from plotly.subplots import make_subplots\n",
    "import plotly.graph_objects as go"
   ]
  },
  {
   "cell_type": "code",
   "execution_count": null,
   "metadata": {},
   "outputs": [],
   "source": [
    "# las files\n",
    "lasfiles = lasutil.loader_lasio_multiprocess(\"F:\\.repos\\DarkVision\\miscelaneous\\data\", outdf=False)\n",
    "lasfiles.keys()"
   ]
  },
  {
   "cell_type": "code",
   "execution_count": null,
   "metadata": {},
   "outputs": [],
   "source": [
    "gg_df = lasfiles['ConocoPhillips_Stolte_Unit_A1_2D_Log_2022-04-03'].df()"
   ]
  },
  {
   "cell_type": "code",
   "execution_count": null,
   "metadata": {},
   "outputs": [],
   "source": [
    "gg_df.to_pickle('..\\data\\gg_df_gz.pkl', compression='gzip')"
   ]
  },
  {
   "cell_type": "code",
   "execution_count": null,
   "metadata": {},
   "outputs": [],
   "source": [
    "gg_df = pd.read_pickle('..\\data\\gg_df_gz.pkl', compression='gzip')"
   ]
  },
  {
   "cell_type": "code",
   "execution_count": null,
   "metadata": {},
   "outputs": [],
   "source": [
    "gg_df.shape"
   ]
  },
  {
   "cell_type": "code",
   "execution_count": null,
   "metadata": {},
   "outputs": [],
   "source": [
    "#Resampling\n",
    "#df = df.reindex(df.index.union(resampling))\n",
    "\n",
    "#Interpolation technique to use. One of:\n",
    "\n",
    "#'linear': Ignore the index and treat the values as equally spaced. This is the only method supported on MultiIndexes.\n",
    "#'time': Works on daily and higher resolution data to interpolate given length of interval.\n",
    "#'index', 'values': use the actual numerical values of the index.\n",
    "#'pad': Fill in NaNs using existing values.\n",
    "#'nearest', 'zero', 'slinear', 'quadratic', 'cubic', 'spline', 'barycentric', 'polynomial': Passed to scipy.interpolate.interp1d. These methods use the numerical values of the index. Both 'polynomial' and 'spline' require that you also specify an order (int), e.g. df.interpolate(method='polynomial', order=5).\n",
    "#'krogh', 'piecewise_polynomial', 'spline', 'pchip', 'akima': Wrappers around the SciPy interpolation methods of similar names. See Notes.\n",
    "#'from_derivatives': Refers to scipy.interpolate.BPoly.from_derivatives which replaces 'piecewise_polynomial' interpolation method in scipy 0.18.\n",
    "# new_index = np.linspace(gg_df.index.min(),gg_df.index.max(),gg_df.shape[0]//10)\n",
    "new_index = np.arange(gg_df.index.min(),gg_df.index.max(),1)\n",
    "gg_df_resampled = gg_df.reindex(gg_df.index.union(new_index)).interpolate('values').loc[new_index]"
   ]
  },
  {
   "cell_type": "code",
   "execution_count": null,
   "metadata": {},
   "outputs": [],
   "source": [
    "gg_df_resampled.shape"
   ]
  },
  {
   "cell_type": "code",
   "execution_count": null,
   "metadata": {},
   "outputs": [],
   "source": [
    "from tempfile import template\n",
    "from numpy import spacing\n",
    "\n",
    "\n",
    "def build_log_graph(df):\n",
    "    logplot = make_subplots(rows=1, cols=5, shared_yaxes=True, horizontal_spacing=0.01, specs=[[{'secondary_y': True}, {'secondary_y': True}, {'secondary_y': True}, {'secondary_y': True}, {'secondary_y': True}]], print_grid=True)\n",
    "    # for i in range(len(logs)):\n",
    "\n",
    "    #     if i == 1:\n",
    "    #         logplot.add_trace(go.Scatter(x=dataframes[plot_chosen][logs[i]], y=dataframes[plot_chosen]['DEPTH_MD'],\n",
    "    #                                      name=logs[i], line_color=colors[i]), row=1, col=log_cols[i])\n",
    "    #         logplot.update_xaxes(type='log', row=1, col=log_cols[i], title_text=logs[i],\n",
    "    #                              tickfont_size=12, linecolor='#585858')\n",
    "\n",
    "    #     else:\n",
    "    #         logplot.add_trace(go.Scatter(x=dataframes[plot_chosen][logs[i]], y=dataframes[plot_chosen]['DEPTH_MD'],\n",
    "    #                                      name=logs[i], line_color=colors[i]), row=1, col=log_cols[i])\n",
    "    #         logplot.update_xaxes(col=log_cols[i], title_text=logs[i], linecolor='#585858')\n",
    "\n",
    "    logplot.add_trace(go.Scatter(x=df.OVALITY, y=df.index, name=df.OVALITY.name), row=1, col=1 ,secondary_y=False)\n",
    "    logplot.add_trace(go.Scatter(x=df.ECCENTRICITY, y=df.index, name=df.ECCENTRICITY.name), row=1, col=1, secondary_y=False)\n",
    "\n",
    "    logplot.layout.xaxis2.update({'anchor': 'y', 'overlaying': 'x', 'side': 'top'})\n",
    "\n",
    "    logplot.add_trace(go.Scatter(x=df.MINID, y=df.index, name=df.MINID.name), row=1, col=3)\n",
    "    logplot.add_trace(go.Scatter(x=df.MEANID, y=df.index, name=df.MEANID.name), row=1, col=3)\n",
    "    logplot.add_trace(go.Scatter(x=df.MAXID, y=df.index, name=df.MAXID.name), row=1, col=3)\n",
    "    logplot.update_xaxes(row=1, col=3, title_text='ID')\n",
    "    \n",
    "    logplot.add_trace(go.Scatter(x=df.MINPEN, y=df.index, name=df.MINPEN.name), row=1, col=4)\n",
    "    logplot.add_trace(go.Scatter(x=df.MEANPEN, y=df.index, name=df.MEANPEN.name), row=1, col=4)\n",
    "    logplot.add_trace(go.Scatter(x=df.MAXPEN, y=df.index, name=df.MAXPEN.name), row=1, col=4)\n",
    "    logplot.update_xaxes(row=1, col=4, title_text='Penetration', range=[-0.1, 0.1])\n",
    "\n",
    "    logplot.add_trace(go.Heatmap(z=df[[fing for fing in df.columns if 'FING' in fing]], y=df.index, colorscale='greys', name='Image', x=np.arange(0,361, 1.879901)), row=1, col=5)\n",
    "    logplot.update_xaxes(row=1, col=5, title_text='Radial Measurement', range=[0, 360])\n",
    "\n",
    "    logplot.update_xaxes(showline=True, linewidth=2, mirror=True, ticks='inside', tickangle=0)\n",
    "    logplot.update_yaxes(showline=True, linewidth=2,\n",
    "                         mirror=True, ticks='outside')\n",
    "    logplot.update_yaxes(row=1, col=1, autorange='reversed')\n",
    "    logplot.update_layout(height=750, width=1300, showlegend=True, legend_orientation='h', yaxis_title='Depth (m)', template='plotly_dark')\n",
    "\n",
    "    return logplot\n",
    "\n",
    "build_log_graph(gg_df_resampled)"
   ]
  },
  {
   "cell_type": "code",
   "execution_count": null,
   "metadata": {},
   "outputs": [],
   "source": [
    "gg_df['CLASSIFICATION'].where((gg_df['CLASSIFICATION'] < 1.0) & (gg_df['CLASSIFICATION'] > -999.25), 0.0, inplace=True)"
   ]
  },
  {
   "cell_type": "code",
   "execution_count": null,
   "metadata": {},
   "outputs": [],
   "source": [
    "# gg_df['MINIDPHASE_FLAG'] = gg_df['MINIDPHASE'].loc[gg_df['OVALITY'] > 2]\n",
    "# gg_df['MAXIDPHASE _FLAG'] = gg_df['MAXIDPHASE'].loc[gg_df['OVALITY'] > 2]\n",
    "\n",
    "# gg_df['MINIDPHASE'] = pd.Series(gg_df['MINIDPHASE'].rolling(window=32, min_periods=1, center=True).mean())\n",
    "# gg_df['MAXIDPHASE'] = pd.Series(gg_df['MAXIDPHASE'].rolling(window=32, min_periods=1, center=True).mean())\n",
    "gg_df['OVALITY'] = pd.Series(gg_df['OVALITY'].rolling(window=32, min_periods=1, center=True).mean())\n",
    "gg_df['ECCENTRICITY'] = pd.Series(gg_df['ECCENTRICITY'].rolling(window=32, min_periods=1, center=True).mean())\n",
    "gg_df['MINID'] = pd.Series(gg_df['MINID'].rolling(window=32, min_periods=1, center=True).mean())\n",
    "gg_df['MAXID'] = pd.Series(gg_df['MAXID'].rolling(window=32, min_periods=1, center=True).mean())\n",
    "gg_df['MEANID'] = pd.Series(gg_df['MEANID'].rolling(window=32, min_periods=1, center=True).mean())\n",
    "\n",
    "# gg_df['MINIDPHASE'] = gg_df['MINIDPHASE'].loc[(gg_df.index < 16940) | (gg_df.index > 17300)]\n",
    "# gg_df['MAXIDPHASE'] = gg_df['MAXIDPHASE'].loc[(gg_df.index < 16940) | (gg_df.index > 17300)]\n",
    "# gg_df['OVALITY'] = gg_df['OVALITY'].loc[(gg_df.index < 16940) | (gg_df.index > 17300)]\n",
    "# gg_df['ECCENTRICITY'] = gg_df['ECCENTRICITY'].loc[(gg_df.index < 16940) | (gg_df.index > 17300)]\n",
    "# gg_df['MINID'] = gg_df['MINID'].loc[(gg_df.index < 16940) | (gg_df.index > 17300)]\n",
    "# gg_df['MAXID'] = gg_df['MAXID'].loc[(gg_df.index < 16940) | (gg_df.index > 17300)]\n",
    "# gg_df['MEANID'] = gg_df['MEANID'].loc[(gg_df.index < 16940) | (gg_df.index > 17300)]\n",
    "# gg_df['MINIDPHASE'] = gg_df['MINIDPHASE'].loc[(gg_df.index < 16940) | (gg_df.index > 17300)]\n",
    "# gg_df['MAXIDPHASE'] = gg_df['MAXIDPHASE'].loc[(gg_df.index < 16940) | (gg_df.index > 17300)]\n",
    "\n",
    "\n",
    "# gg_df['MINIDPHASE'].where((gg_df.index > 17000) & (gg_df.index < 17200), pd.NA , inplace=True)\n",
    "# gg_df['MAXIDPHASE'].where((gg_df.index > 17000) & (gg_df.index < 17200), pd.NA , inplace=True)\n",
    "# gg_df['MINID'].where((gg_df.index > 17000) & (gg_df.index < 17200), pd.NA , inplace=True)\n",
    "# gg_df['MEANID'].where((gg_df.index > 17000) & (gg_df.index < 17200), pd.NA , inplace=True)\n",
    "# gg_df['MAXID'].where((gg_df.index > 17000) & (gg_df.index < 17200), pd.NA , inplace=True)\n",
    "# gg_df['MAXPENJOINT'].where((gg_df.index > 17000) & (gg_df.index < 17200), pd.NA , inplace=True)\n",
    "# gg_df['CLASSIFICATION'].where((gg_df.index > 17000) & (gg_df.index < 17200), pd.NA , inplace=True)\n",
    "# gg_df['MINPEN'].where((gg_df.index > 17000) & (gg_df.index < 17200), pd.NA , inplace=True)\n",
    "# gg_df['MINPEN'].where((gg_df.index > 17000) & (gg_df.index < 17200), pd.NA , inplace=True)\n",
    "# gg_df['MEANPEN'].where((gg_df.index > 17000) & (gg_df.index < 17200), pd.NA , inplace=True)\n",
    "# gg_df['MAXPEN'].where((gg_df.index > 17000) & (gg_df.index < 17200), pd.NA , inplace=True)\n",
    "# gg_df['ECCENTRICITY'].where((gg_df.index > 17000) & (gg_df.index < 17200), pd.NA , inplace=True)\n",
    "# gg_df['OVALITY'].where((gg_df.index > 17000) & (gg_df.index < 17200), pd.NA , inplace=True)"
   ]
  },
  {
   "cell_type": "code",
   "execution_count": null,
   "metadata": {},
   "outputs": [],
   "source": [
    "gg_df['MEANID'] = gg_df['MEANID'].loc[(gg_df.index < 16940) | (gg_df.index > 17300)]"
   ]
  },
  {
   "cell_type": "code",
   "execution_count": null,
   "metadata": {},
   "outputs": [],
   "source": [
    "gg_df['CLASSIFICATION'].plot(template='plotly_dark')"
   ]
  },
  {
   "cell_type": "code",
   "execution_count": null,
   "metadata": {},
   "outputs": [],
   "source": [
    "gg_df['MEANID'].plot(template='plotly_dark')"
   ]
  },
  {
   "cell_type": "code",
   "execution_count": null,
   "metadata": {},
   "outputs": [],
   "source": [
    "window_size=64\n",
    "threshold=100\n",
    "min_periods=1\n",
    "df = gg_df.copy()\n",
    "\n",
    "for colname in df.columns:\n",
    "    smothy = pd.Series(df[colname].rolling(window=window_size, min_periods=min_periods, center=True).mean())\n",
    "    difference = pd.DataFrame.abs(df[colname] - smothy)\n",
    "    outliers = difference > threshold\n",
    "    #df[colname].where(outliers, smothy, inplace=True)\n",
    "    df[colname] = pd.Series([original if outliers else despiked for original, despiked, outliers in zip(df[colname], smothy, outliers)])\n"
   ]
  },
  {
   "cell_type": "code",
   "execution_count": null,
   "metadata": {},
   "outputs": [],
   "source": [
    "def smothy_data(df_org, window_size=64, threshold=100, min_periods=1):\n",
    "    \"\"\"\n",
    "    Smothy data using rolling mean and thresholding\n",
    "    \"\"\"\n",
    "    df = df_org.copy()\n",
    "    for colname in df.columns:\n",
    "        smothy = pd.Series(df[colname].rolling(window=window_size, min_periods=min_periods, center=True).mean())\n",
    "        difference = pd.DataFrame.abs(df[colname] - smothy)\n",
    "        outliers = difference > threshold\n",
    "        #df[colname].where(outliers, smothy, inplace=True)\n",
    "        df[colname] = pd.Series([original if outliers else despiked for original, despiked, outliers in zip(df[colname], smothy, outliers)])\n",
    "    return df\n",
    "\n",
    "    #return pd.Series([original if outliers else despiked for original, despiked, outliers in zip(df[colname], smothy, outliers)])\n",
    "\n",
    "gg_df = smothy_data(gg_df, window_size=32, threshold=0.01, min_periods=1)"
   ]
  },
  {
   "cell_type": "code",
   "execution_count": null,
   "metadata": {},
   "outputs": [],
   "source": [
    "lasfiles['gg_2_curves'].set_data(gg_df)\n",
    "lasfiles['gg_2_curves'].write('gg_2_curves_FIXED.las', version=2.0)"
   ]
  },
  {
   "cell_type": "code",
   "execution_count": null,
   "metadata": {},
   "outputs": [],
   "source": []
  }
 ],
 "metadata": {
  "kernelspec": {
   "display_name": "Python 3.10.4 64-bit",
   "language": "python",
   "name": "python3"
  },
  "language_info": {
   "codemirror_mode": {
    "name": "ipython",
    "version": 3
   },
   "file_extension": ".py",
   "mimetype": "text/x-python",
   "name": "python",
   "nbconvert_exporter": "python",
   "pygments_lexer": "ipython3",
   "version": "3.10.4"
  },
  "orig_nbformat": 4,
  "vscode": {
   "interpreter": {
    "hash": "1181de65e860335eb90721c0b97f923d25dc82cbcdc09a17f8c1b36376946eb7"
   }
  }
 },
 "nbformat": 4,
 "nbformat_minor": 2
}
