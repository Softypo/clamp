{
 "cells": [
  {
   "cell_type": "code",
   "execution_count": null,
   "metadata": {},
   "outputs": [],
   "source": [
    "import re\n",
    "import pandas as pd\n",
    "import plotly.io as pio\n",
    "import plotly.express as px\n",
    "from plotly.subplots import make_subplots\n",
    "import plotly.graph_objects as go\n",
    "\n",
    "pd.options.plotting.backend = \"plotly\""
   ]
  },
  {
   "cell_type": "code",
   "execution_count": null,
   "metadata": {},
   "outputs": [],
   "source": [
    "cc = pd.read_csv('data/443/DVT443_clamps.csv', usecols=[0,4,10])\n",
    "cc['name'] = [re.sub(r'\\s+', '', name) for name in cc['name']] # remove whitespace\n",
    "cc.rename(columns={'perfAngleFromHighSideClockwiseDegrees': 'AngleFromHighSideClockwiseDegrees'}, inplace=True)\n",
    "cc['type'] = ['OrientationClamp' if 'OC' in name else 'CentralizerClamp' if 'CC' in name else 'Other' for name in cc['name']]\n",
    "cc['hadware_name'] = [name.split('.')[0] for name in cc['name']]\n",
    "cc['obs'] = [name.split('-')[1] if '-' in name else pd.NA for name in cc['name']]\n",
    "\n",
    "#cc = cc.loc[cc['type'] == 'OrientationClamp']\n",
    "\n",
    "\n",
    "# perfs = pd.read_csv('data\\mabee2606_perfs_BIASED.csv', usecols=[0,1,7])\n",
    "# perfs['type'] = 'PERFS'\n",
    "# perfs.rename(columns={'perfAngleFromHighSideClockwiseDegrees': 'AngleFromHighSideClockwiseDegrees'}, inplace=True)"
   ]
  },
  {
   "cell_type": "code",
   "execution_count": null,
   "metadata": {},
   "outputs": [],
   "source": [
    "features = cc[['type', 'hadware_name', 'depth', 'AngleFromHighSideClockwiseDegrees']].groupby(['type', 'hadware_name']).median(numeric_only=True)\n",
    "features = features.sort_values(by=['depth'], ascending=False).reset_index()\n",
    "features['fiberAngleFromHighSideClockwiseDegrees'] = [angle+180 if angle < 180 else angle-180 for angle in features['AngleFromHighSideClockwiseDegrees']]\n",
    "features['fiber_plot_angle'] = [angle-360 if angle > 180 else angle for angle in features['fiberAngleFromHighSideClockwiseDegrees']]\n",
    "\n",
    "\n",
    "# combined = pd.concat([features, perfs])\n",
    "combined = features\n",
    "combined['plot_angle'] = [angle-360 if angle > 180 else angle for angle in combined['AngleFromHighSideClockwiseDegrees']]\n",
    "combined['angle_rounded'] = combined['AngleFromHighSideClockwiseDegrees'].round(0)\n",
    "combined['fiber_angle_rounded'] = combined['fiberAngleFromHighSideClockwiseDegrees'].round(0)"
   ]
  },
  {
   "cell_type": "code",
   "execution_count": null,
   "metadata": {},
   "outputs": [],
   "source": [
    "fig = go.Figure()\n",
    "\n",
    "# Add windows\n",
    "gozone_svg = ''.join([f'M {xy[0][0]+30},{xy[0][1]} ' if xy[1]==0 else f'L{xy[0][0]+30},{xy[0][1]} ' for xy in zip(combined.loc[combined['type']=='OrientationClamp', ['plot_angle','depth']].values,range(combined.loc[combined['type']=='OrientationClamp', ['plot_angle','depth']].shape[0]))])+''.join([f' L{xy[0][0]-30},{xy[0][1]} Z' if xy[1]==0 else f' L{xy[0][0]-30},{xy[0][1]}' for xy in zip(combined.loc[combined['type']=='OrientationClamp', ['plot_angle','depth']].values,range(combined.loc[combined['type']=='OrientationClamp', ['plot_angle','depth']].shape[0]))][::-1])\n",
    "\n",
    "nogozone_svg = ''.join([f'M {xy[0][0]+10},{xy[0][1]} ' if xy[1]==0 else f'L{xy[0][0]+10},{xy[0][1]} ' for xy in zip(combined.loc[combined['type']=='OrientationClamp', ['fiber_plot_angle','depth']].values,range(combined.loc[combined['type']=='OrientationClamp', ['fiber_plot_angle','depth']].shape[0]))])+''.join([f' L{xy[0][0]-10},{xy[0][1]} Z' if xy[1]==0 else f' L{xy[0][0]-10},{xy[0][1]}' for xy in zip(combined.loc[combined['type']=='OrientationClamp', ['fiber_plot_angle','depth']].values,range(combined.loc[combined['type']=='OrientationClamp', ['fiber_plot_angle','depth']].shape[0]))][::-1])\n",
    "\n",
    "fig.update_layout(shapes=[dict(type=\"path\", path=gozone_svg, fillcolor='rgba(154,205,50,0.2)', line=dict(width=0), layer='below'), dict(type=\"path\", path=nogozone_svg, fillcolor='rgba(255,69,0,0.2)', line=dict(width=0), layer='below')])\n",
    "\n",
    "# Add traces\n",
    "fig.add_trace(go.Scatter(x=combined.loc[combined['type']=='OrientationClamp', 'plot_angle'], y=combined.loc[combined['type']=='OrientationClamp', 'depth'], mode='markers', name='OrientationClamp', marker_color='forestgreen', customdata=combined.loc[combined['type']=='OrientationClamp', ['hadware_name', 'angle_rounded']]))\n",
    "\n",
    "fig.add_trace(go.Scatter(x=combined.loc[combined['type']=='CentralizerClamp', 'plot_angle'], y=combined.loc[combined['type']=='CentralizerClamp', 'depth'], mode='markers', name='CentralizerClamp', marker_color='darkolivegreen', customdata=combined.loc[combined['type']=='CentralizerClamp', ['hadware_name', 'angle_rounded']]))\n",
    "\n",
    "fig.add_trace(go.Scatter(x=combined.loc[combined['type']=='Other', 'plot_angle'], y=combined.loc[combined['type']=='Other', 'depth'], mode='markers', name='Other', marker_color='green', customdata=combined.loc[combined['type']=='Other', ['hadware_name', 'angle_rounded']]))\n",
    "\n",
    "# fig.add_trace(go.Scatter(x=combined.loc[combined['type']=='PERFS', 'plot_angle'], y=combined.loc[combined['type']=='PERFS', 'depth'], mode='markers', name='PERFS', marker_color='navy', customdata=combined.loc[combined['type']=='PERFS', ['name', 'angle_rounded']]))\n",
    "\n",
    "fig.add_trace(go.Scatter(x=combined.loc[combined['type']=='OrientationClamp', 'fiber_plot_angle'], y=combined.loc[combined['type']=='OrientationClamp', 'depth'], mode='lines+markers', name='Fiber Wire', marker_color='crimson', customdata=combined.loc[combined['type']=='OrientationClamp', ['hadware_name', 'fiber_angle_rounded']]))\n",
    "\n",
    "fig.update_traces(hovertemplate='%{customdata[0]}<br>%{customdata[1]}')\n",
    "fig.update_xaxes(range=[-185, 185])\n",
    "fig.update_yaxes(autorange=\"reversed\")\n",
    "fig.update_layout(hovermode=\"y\", title=\"Fiber cable orientation\", legend_title=\"Type\", legend_orientation=\"h\", template=\"plotly\", yaxis_title=\"Depth\", xaxis_title='AngleFromHighSideClockwiseDegrees')\n",
    "fig.show()"
   ]
  },
  {
   "cell_type": "code",
   "execution_count": null,
   "metadata": {},
   "outputs": [],
   "source": [
    "features['type'].value_counts()\n",
    "CC, OC, C= features['type'].value_counts()\n",
    "\n",
    "pie = make_subplots(rows=1, cols=1, specs=[[{\"type\": \"domain\"}]])\n",
    "\n",
    "pie.add_trace(go.Pie(\n",
    "     values=[OC, CC, C],\n",
    "     labels=['OrientationClamp', 'CentralizerClamp', 'Other'],\n",
    "     domain=dict(x=[0, 0.5]),\n",
    "     name=\"Blast Protector\",\n",
    "     hoverinfo='label+value',\n",
    "     sort=False,\n",
    "     marker_colors = ['forestgreen', 'darkolivegreen']\n",
    "     ), \n",
    "     row=1, col=1)\n",
    "\n",
    "pie.update_layout(title_text=\"Jewelry type\", template=\"plotly\")\n",
    "pie.show()"
   ]
  },
  {
   "cell_type": "code",
   "execution_count": null,
   "metadata": {},
   "outputs": [],
   "source": [
    "pio.write_html(fig, file='plotly/430_plot.html', auto_open=False)\n",
    "pio.write_html(pie, file='plotly/430_pie.html', auto_open=False)"
   ]
  },
  {
   "cell_type": "code",
   "execution_count": null,
   "metadata": {},
   "outputs": [],
   "source": []
  }
 ],
 "metadata": {
  "interpreter": {
   "hash": "1e2fdc5b86b5227cd00967d3bc86dcbd439bf936df37a4710a92069cadecd97f"
  },
  "kernelspec": {
   "display_name": "Python 3.9.9 64-bit",
   "language": "python",
   "name": "python3"
  },
  "language_info": {
   "codemirror_mode": {
    "name": "ipython",
    "version": 3
   },
   "file_extension": ".py",
   "mimetype": "text/x-python",
   "name": "python",
   "nbconvert_exporter": "python",
   "pygments_lexer": "ipython3",
   "version": "3.9.9"
  },
  "orig_nbformat": 4
 },
 "nbformat": 4,
 "nbformat_minor": 2
}
