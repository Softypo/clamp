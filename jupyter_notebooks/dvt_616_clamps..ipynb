{
 "cells": [
  {
   "cell_type": "code",
   "execution_count": 1,
   "metadata": {},
   "outputs": [],
   "source": [
    "import re\n",
    "import pandas as pd\n",
    "import plotly.io as pio\n",
    "import plotly.express as px\n",
    "from plotly.subplots import make_subplots\n",
    "import plotly.graph_objects as go\n",
    "\n",
    "pd.options.plotting.backend = \"plotly\""
   ]
  },
  {
   "cell_type": "code",
   "execution_count": 2,
   "metadata": {},
   "outputs": [],
   "source": [
    "cc = pd.read_csv('..\\\\data\\\\616\\\\bookmarks\\\\DVT616_clamps.csv', usecols=[0,1,2,4,10])\n",
    "cc['name'] = [re.sub(r'\\s+', '', name) for name in cc['name']] # remove whitespace\n",
    "cc.rename(columns={'perfAngleFromHighSideClockwiseDegrees': 'clampsTOH'}, inplace=True)\n",
    "cc['type'] = ['CableDetectionClamp' if 'CDC' in name else 'CrossCouplingProtector' if 'CCP' in name else 'Centralizer' if 'CENT' in name else 'Other' for name in cc['name']]\n",
    "cc['hadware_name'] = [name.split('.')[0] for name in cc['name']]\n",
    "cc['obs'] = [name.split('-')[1] if '-' in name else pd.NA for name in cc['name']]\n",
    "\n",
    "#cc = cc.loc[cc['type'] == 'OrientationClamp']\n",
    "\n",
    "# perfs = pd.read_csv('data\\mabee2606_perfs_BIASED.csv', usecols=[0,1,7])\n",
    "# perfs['type'] = 'PERFS'\n",
    "# perfs.rename(columns={'perfAngleFromHighSideClockwiseDegrees': 'AngleFromHighSideClockwiseDegrees'}, inplace=True)"
   ]
  },
  {
   "cell_type": "code",
   "execution_count": null,
   "metadata": {},
   "outputs": [],
   "source": [
    "cc_k = cc.loc[cc['passName'] == 'mainpass_up2_autogain']\n",
    "cc = cc.loc[cc['passName'] == 'mainpass_up1_autogain']"
   ]
  },
  {
   "cell_type": "code",
   "execution_count": 3,
   "metadata": {},
   "outputs": [],
   "source": [
    "# #deleting nv's rows\n",
    "# cc = cc.loc[cc['obs'] != 'NV']\n",
    "# cc_nv = cc.loc[cc['obs'] == 'NV']\n",
    "\n",
    "#set nv's to nan\n",
    "cc['obs'] = [obs if pd.isna(obs) else pd.NA if obs == 'NV' else obs for obs in cc['obs']]"
   ]
  },
  {
   "cell_type": "code",
   "execution_count": 4,
   "metadata": {},
   "outputs": [],
   "source": [
    "features = cc[['type', 'hadware_name', 'depth', 'clampsTOH', 'passName', 'obs']].groupby(['type', 'hadware_name', 'passName', 'obs'], dropna=False).median(numeric_only=True)\n",
    "features = features.sort_values(by=['depth'], ascending=False).reset_index()\n",
    "\n",
    "features['fiberTOH'] = [angle+180 if angle < 180 else angle-180 for angle in features['clampsTOH']] # angle for 180deg\n",
    "\n",
    "features['fiberTOH'] = [centangle-270 if centangle > 270 and ty=='Centralizer' else centangle+90 if ty=='Centralizer' else fiver for fiver, ty, centangle in features[['fiberTOH', 'type', 'clampsTOH']].values]  # angle for 90deg\n",
    "\n",
    "features['fiber_plot_angle'] = [angle-360 if angle > 180 else angle for angle in features['fiberTOH']] # fiver plot angle\n",
    "\n",
    "\n",
    "# combined = pd.concat([features, perfs])\n",
    "combined = features\n",
    "combined['plot_angle'] = [angle-360 if angle > 180 else angle for angle in combined['clampsTOH']] # plot angle\n",
    "#combined['angle_rounded'] = combined['AngleFromHighSideClockwiseDegrees'].round(0)\n",
    "#combined['fiber_angle_rounded'] = combined['fiberAngleFromHighSideClockwiseDegrees'].round(0)\n",
    "combined = combined.round(3)"
   ]
  },
  {
   "cell_type": "code",
   "execution_count": 5,
   "metadata": {},
   "outputs": [],
   "source": [
    "combined['id'] = combined.hadware_name\n",
    "#combined.set_index('id', inplace=True)"
   ]
  },
  {
   "cell_type": "code",
   "execution_count": null,
   "metadata": {},
   "outputs": [],
   "source": [
    "combined"
   ]
  },
  {
   "cell_type": "code",
   "execution_count": 6,
   "metadata": {},
   "outputs": [],
   "source": [
    "#combined.round(3).to_hdf('data/446/446cd.h5', key='cd446', mode='w')\n",
    "combined.round(3).to_pickle('..\\\\data\\\\616\\\\616cd.pkl')\n",
    "combined.round(3).to_parquet('..\\\\data\\\\616\\\\616cd.parquet')"
   ]
  },
  {
   "cell_type": "code",
   "execution_count": 6,
   "metadata": {},
   "outputs": [
    {
     "data": {
      "application/vnd.plotly.v1+json": {
       "config": {
        "plotlyServerURL": "https://plot.ly"
       },
       "data": [
        {
         "customdata": [
          [
           "CDC1",
           262,
           null
          ],
          [
           "CDC2",
           268,
           null
          ],
          [
           "CDC3",
           260,
           null
          ],
          [
           "CDC4",
           271,
           null
          ],
          [
           "CDC5",
           283,
           null
          ],
          [
           "CDC6",
           299,
           null
          ],
          [
           "CDC7",
           302,
           null
          ],
          [
           "CDC8",
           326,
           null
          ],
          [
           "CDC9",
           330,
           null
          ],
          [
           "CDC10",
           352,
           null
          ],
          [
           "CDC11",
           25,
           null
          ],
          [
           "CDC12",
           20,
           null
          ],
          [
           "CDC13",
           34,
           null
          ],
          [
           "CDC14",
           47,
           null
          ],
          [
           "CDC15",
           78,
           null
          ],
          [
           "CDC16",
           79,
           null
          ],
          [
           "CDC17",
           102,
           null
          ],
          [
           "CDC18",
           116,
           null
          ],
          [
           "CDC19",
           131,
           null
          ],
          [
           "CDC20",
           143,
           null
          ],
          [
           "CDC21",
           158,
           null
          ],
          [
           "CDC22",
           183,
           null
          ],
          [
           "CDC23",
           231,
           null
          ],
          [
           "CDC24",
           358,
           null
          ],
          [
           "CDC25",
           74,
           null
          ],
          [
           "CDC26",
           108,
           null
          ],
          [
           "CDC27",
           159,
           null
          ],
          [
           "CDC28",
           174,
           null
          ],
          [
           "CDC29",
           188,
           null
          ],
          [
           "CDC30",
           194,
           null
          ],
          [
           "CDC31",
           221,
           null
          ],
          [
           "CDC32",
           228,
           null
          ],
          [
           "CDC33",
           231,
           null
          ],
          [
           "CDC34",
           258,
           null
          ],
          [
           "CDC35",
           275,
           null
          ],
          [
           "CDC36",
           291,
           null
          ],
          [
           "CDC37",
           301,
           null
          ],
          [
           "CDC38",
           315,
           null
          ],
          [
           "CDC39",
           321,
           null
          ],
          [
           "CDC40",
           346,
           null
          ]
         ],
         "hovertemplate": "%{customdata[0]}<br>%{customdata[1]}",
         "marker": {
          "color": "forestgreen"
         },
         "mode": "markers",
         "name": "CableDetectionClamp",
         "type": "scatter",
         "x": [
          -97.83,
          -91.963,
          -99.735,
          -89.271,
          -76.953,
          -60.723,
          -57.95,
          -34.386,
          -29.73,
          -7.936,
          25.246,
          20.081,
          34.143,
          47.08,
          78.375,
          79.347,
          101.575,
          115.563,
          131.272,
          143.001,
          158.469,
          -177.376,
          -128.878,
          -1.551,
          74.336,
          107.676,
          158.543,
          173.914,
          -171.669,
          -165.801,
          -139.4,
          -132.471,
          -129.398,
          -101.602,
          -85.412,
          -68.878,
          -58.652,
          -45.256,
          -39.074,
          -14.389
         ],
         "y": [
          6586.435,
          6482.194,
          6369.381,
          6266.496,
          6163.859,
          6060.065,
          5955.905,
          5849.935,
          5745.56,
          5639.957,
          5542.511,
          5437.387,
          5331.759,
          5227.301,
          5123.12,
          5019.125,
          4913.8,
          4815.39,
          4709.221,
          4603.446,
          4497.538,
          4392.95,
          4288.02,
          4182.505,
          4083.72,
          3978.585,
          3873.131,
          3767.48,
          3661.605,
          3556.001,
          3451.665,
          3348.07,
          3250.699,
          3144.576,
          3039.563,
          2935.997,
          2831.259,
          2726.281,
          2635.807,
          2530.007
         ]
        },
        {
         "customdata": [
          [
           "CCP1",
           268,
           null
          ]
         ],
         "hovertemplate": "%{customdata[0]}<br>%{customdata[1]}",
         "marker": {
          "color": "darkolivegreen"
         },
         "mode": "markers",
         "name": "CrossCouplingProtector",
         "type": "scatter",
         "x": [
          -91.817
         ],
         "y": [
          6588.244
         ]
        },
        {
         "customdata": [],
         "hovertemplate": "%{customdata[0]}<br>%{customdata[1]}",
         "marker": {
          "color": "red"
         },
         "mode": "markers",
         "name": "CrossCouplingProtector NVNH",
         "type": "scatter",
         "x": [],
         "y": []
        },
        {
         "customdata": [],
         "hovertemplate": "%{customdata[0]}<br>%{customdata[1]}",
         "marker": {
          "color": "cadetblue"
         },
         "mode": "markers",
         "name": "Centralizer",
         "type": "scatter",
         "x": [],
         "y": []
        },
        {
         "customdata": [
          [
           "CCP1",
           88
          ],
          [
           "CDC1",
           82
          ],
          [
           "CDC2",
           88
          ],
          [
           "CDC3",
           80
          ],
          [
           "CDC4",
           91
          ],
          [
           "CDC5",
           103
          ],
          [
           "CDC6",
           119
          ],
          [
           "CDC7",
           122
          ],
          [
           "CDC8",
           146
          ],
          [
           "CDC9",
           150
          ],
          [
           "CDC10",
           172
          ],
          [
           "CDC11",
           205
          ],
          [
           "CDC12",
           200
          ],
          [
           "CDC13",
           214
          ],
          [
           "CDC14",
           227
          ],
          [
           "CDC15",
           258
          ],
          [
           "CDC16",
           259
          ],
          [
           "CDC17",
           282
          ],
          [
           "CDC18",
           296
          ],
          [
           "CDC19",
           311
          ],
          [
           "CDC20",
           323
          ],
          [
           "CDC21",
           338
          ],
          [
           "CDC22",
           3
          ],
          [
           "CDC23",
           51
          ],
          [
           "CDC24",
           178
          ],
          [
           "CDC25",
           254
          ],
          [
           "CDC26",
           288
          ],
          [
           "CDC27",
           339
          ],
          [
           "CDC28",
           354
          ],
          [
           "CDC29",
           8
          ],
          [
           "CDC30",
           14
          ],
          [
           "CDC31",
           41
          ],
          [
           "CDC32",
           48
          ],
          [
           "CDC33",
           51
          ],
          [
           "CDC34",
           78
          ],
          [
           "CDC35",
           95
          ],
          [
           "CDC36",
           111
          ],
          [
           "CDC37",
           121
          ],
          [
           "CDC38",
           135
          ],
          [
           "CDC39",
           141
          ],
          [
           "CDC40",
           166
          ]
         ],
         "hovertemplate": "%{customdata[0]}<br>%{customdata[1]}",
         "marker": {
          "color": "crimson"
         },
         "mode": "lines+markers",
         "name": "Fiber Wire",
         "type": "scatter",
         "x": [
          88.183,
          82.17,
          88.037,
          80.265,
          90.729,
          103.047,
          119.277,
          122.05,
          145.614,
          150.27,
          172.064,
          -154.754,
          -159.919,
          -145.857,
          -132.92,
          -101.625,
          -100.653,
          -78.425,
          -64.437,
          -48.728,
          -36.999,
          -21.531,
          2.624,
          51.122,
          178.449,
          -105.664,
          -72.324,
          -21.457,
          -6.086,
          8.331,
          14.199,
          40.6,
          47.529,
          50.602,
          78.398,
          94.588,
          111.122,
          121.348,
          134.744,
          140.926,
          165.611
         ],
         "y": [
          6588.244,
          6586.435,
          6482.194,
          6369.381,
          6266.496,
          6163.859,
          6060.065,
          5955.905,
          5849.935,
          5745.56,
          5639.957,
          5542.511,
          5437.387,
          5331.759,
          5227.301,
          5123.12,
          5019.125,
          4913.8,
          4815.39,
          4709.221,
          4603.446,
          4497.538,
          4392.95,
          4288.02,
          4182.505,
          4083.72,
          3978.585,
          3873.131,
          3767.48,
          3661.605,
          3556.001,
          3451.665,
          3348.07,
          3250.699,
          3144.576,
          3039.563,
          2935.997,
          2831.259,
          2726.281,
          2635.807,
          2530.007
         ]
        }
       ],
       "layout": {
        "hovermode": "y",
        "legend": {
         "orientation": "h",
         "title": {
          "text": "Type"
         }
        },
        "template": {
         "data": {
          "bar": [
           {
            "error_x": {
             "color": "#2a3f5f"
            },
            "error_y": {
             "color": "#2a3f5f"
            },
            "marker": {
             "line": {
              "color": "#E5ECF6",
              "width": 0.5
             },
             "pattern": {
              "fillmode": "overlay",
              "size": 10,
              "solidity": 0.2
             }
            },
            "type": "bar"
           }
          ],
          "barpolar": [
           {
            "marker": {
             "line": {
              "color": "#E5ECF6",
              "width": 0.5
             },
             "pattern": {
              "fillmode": "overlay",
              "size": 10,
              "solidity": 0.2
             }
            },
            "type": "barpolar"
           }
          ],
          "carpet": [
           {
            "aaxis": {
             "endlinecolor": "#2a3f5f",
             "gridcolor": "white",
             "linecolor": "white",
             "minorgridcolor": "white",
             "startlinecolor": "#2a3f5f"
            },
            "baxis": {
             "endlinecolor": "#2a3f5f",
             "gridcolor": "white",
             "linecolor": "white",
             "minorgridcolor": "white",
             "startlinecolor": "#2a3f5f"
            },
            "type": "carpet"
           }
          ],
          "choropleth": [
           {
            "colorbar": {
             "outlinewidth": 0,
             "ticks": ""
            },
            "type": "choropleth"
           }
          ],
          "contour": [
           {
            "colorbar": {
             "outlinewidth": 0,
             "ticks": ""
            },
            "colorscale": [
             [
              0,
              "#0d0887"
             ],
             [
              0.1111111111111111,
              "#46039f"
             ],
             [
              0.2222222222222222,
              "#7201a8"
             ],
             [
              0.3333333333333333,
              "#9c179e"
             ],
             [
              0.4444444444444444,
              "#bd3786"
             ],
             [
              0.5555555555555556,
              "#d8576b"
             ],
             [
              0.6666666666666666,
              "#ed7953"
             ],
             [
              0.7777777777777778,
              "#fb9f3a"
             ],
             [
              0.8888888888888888,
              "#fdca26"
             ],
             [
              1,
              "#f0f921"
             ]
            ],
            "type": "contour"
           }
          ],
          "contourcarpet": [
           {
            "colorbar": {
             "outlinewidth": 0,
             "ticks": ""
            },
            "type": "contourcarpet"
           }
          ],
          "heatmap": [
           {
            "colorbar": {
             "outlinewidth": 0,
             "ticks": ""
            },
            "colorscale": [
             [
              0,
              "#0d0887"
             ],
             [
              0.1111111111111111,
              "#46039f"
             ],
             [
              0.2222222222222222,
              "#7201a8"
             ],
             [
              0.3333333333333333,
              "#9c179e"
             ],
             [
              0.4444444444444444,
              "#bd3786"
             ],
             [
              0.5555555555555556,
              "#d8576b"
             ],
             [
              0.6666666666666666,
              "#ed7953"
             ],
             [
              0.7777777777777778,
              "#fb9f3a"
             ],
             [
              0.8888888888888888,
              "#fdca26"
             ],
             [
              1,
              "#f0f921"
             ]
            ],
            "type": "heatmap"
           }
          ],
          "heatmapgl": [
           {
            "colorbar": {
             "outlinewidth": 0,
             "ticks": ""
            },
            "colorscale": [
             [
              0,
              "#0d0887"
             ],
             [
              0.1111111111111111,
              "#46039f"
             ],
             [
              0.2222222222222222,
              "#7201a8"
             ],
             [
              0.3333333333333333,
              "#9c179e"
             ],
             [
              0.4444444444444444,
              "#bd3786"
             ],
             [
              0.5555555555555556,
              "#d8576b"
             ],
             [
              0.6666666666666666,
              "#ed7953"
             ],
             [
              0.7777777777777778,
              "#fb9f3a"
             ],
             [
              0.8888888888888888,
              "#fdca26"
             ],
             [
              1,
              "#f0f921"
             ]
            ],
            "type": "heatmapgl"
           }
          ],
          "histogram": [
           {
            "marker": {
             "pattern": {
              "fillmode": "overlay",
              "size": 10,
              "solidity": 0.2
             }
            },
            "type": "histogram"
           }
          ],
          "histogram2d": [
           {
            "colorbar": {
             "outlinewidth": 0,
             "ticks": ""
            },
            "colorscale": [
             [
              0,
              "#0d0887"
             ],
             [
              0.1111111111111111,
              "#46039f"
             ],
             [
              0.2222222222222222,
              "#7201a8"
             ],
             [
              0.3333333333333333,
              "#9c179e"
             ],
             [
              0.4444444444444444,
              "#bd3786"
             ],
             [
              0.5555555555555556,
              "#d8576b"
             ],
             [
              0.6666666666666666,
              "#ed7953"
             ],
             [
              0.7777777777777778,
              "#fb9f3a"
             ],
             [
              0.8888888888888888,
              "#fdca26"
             ],
             [
              1,
              "#f0f921"
             ]
            ],
            "type": "histogram2d"
           }
          ],
          "histogram2dcontour": [
           {
            "colorbar": {
             "outlinewidth": 0,
             "ticks": ""
            },
            "colorscale": [
             [
              0,
              "#0d0887"
             ],
             [
              0.1111111111111111,
              "#46039f"
             ],
             [
              0.2222222222222222,
              "#7201a8"
             ],
             [
              0.3333333333333333,
              "#9c179e"
             ],
             [
              0.4444444444444444,
              "#bd3786"
             ],
             [
              0.5555555555555556,
              "#d8576b"
             ],
             [
              0.6666666666666666,
              "#ed7953"
             ],
             [
              0.7777777777777778,
              "#fb9f3a"
             ],
             [
              0.8888888888888888,
              "#fdca26"
             ],
             [
              1,
              "#f0f921"
             ]
            ],
            "type": "histogram2dcontour"
           }
          ],
          "mesh3d": [
           {
            "colorbar": {
             "outlinewidth": 0,
             "ticks": ""
            },
            "type": "mesh3d"
           }
          ],
          "parcoords": [
           {
            "line": {
             "colorbar": {
              "outlinewidth": 0,
              "ticks": ""
             }
            },
            "type": "parcoords"
           }
          ],
          "pie": [
           {
            "automargin": true,
            "type": "pie"
           }
          ],
          "scatter": [
           {
            "fillpattern": {
             "fillmode": "overlay",
             "size": 10,
             "solidity": 0.2
            },
            "type": "scatter"
           }
          ],
          "scatter3d": [
           {
            "line": {
             "colorbar": {
              "outlinewidth": 0,
              "ticks": ""
             }
            },
            "marker": {
             "colorbar": {
              "outlinewidth": 0,
              "ticks": ""
             }
            },
            "type": "scatter3d"
           }
          ],
          "scattercarpet": [
           {
            "marker": {
             "colorbar": {
              "outlinewidth": 0,
              "ticks": ""
             }
            },
            "type": "scattercarpet"
           }
          ],
          "scattergeo": [
           {
            "marker": {
             "colorbar": {
              "outlinewidth": 0,
              "ticks": ""
             }
            },
            "type": "scattergeo"
           }
          ],
          "scattergl": [
           {
            "marker": {
             "colorbar": {
              "outlinewidth": 0,
              "ticks": ""
             }
            },
            "type": "scattergl"
           }
          ],
          "scattermapbox": [
           {
            "marker": {
             "colorbar": {
              "outlinewidth": 0,
              "ticks": ""
             }
            },
            "type": "scattermapbox"
           }
          ],
          "scatterpolar": [
           {
            "marker": {
             "colorbar": {
              "outlinewidth": 0,
              "ticks": ""
             }
            },
            "type": "scatterpolar"
           }
          ],
          "scatterpolargl": [
           {
            "marker": {
             "colorbar": {
              "outlinewidth": 0,
              "ticks": ""
             }
            },
            "type": "scatterpolargl"
           }
          ],
          "scatterternary": [
           {
            "marker": {
             "colorbar": {
              "outlinewidth": 0,
              "ticks": ""
             }
            },
            "type": "scatterternary"
           }
          ],
          "surface": [
           {
            "colorbar": {
             "outlinewidth": 0,
             "ticks": ""
            },
            "colorscale": [
             [
              0,
              "#0d0887"
             ],
             [
              0.1111111111111111,
              "#46039f"
             ],
             [
              0.2222222222222222,
              "#7201a8"
             ],
             [
              0.3333333333333333,
              "#9c179e"
             ],
             [
              0.4444444444444444,
              "#bd3786"
             ],
             [
              0.5555555555555556,
              "#d8576b"
             ],
             [
              0.6666666666666666,
              "#ed7953"
             ],
             [
              0.7777777777777778,
              "#fb9f3a"
             ],
             [
              0.8888888888888888,
              "#fdca26"
             ],
             [
              1,
              "#f0f921"
             ]
            ],
            "type": "surface"
           }
          ],
          "table": [
           {
            "cells": {
             "fill": {
              "color": "#EBF0F8"
             },
             "line": {
              "color": "white"
             }
            },
            "header": {
             "fill": {
              "color": "#C8D4E3"
             },
             "line": {
              "color": "white"
             }
            },
            "type": "table"
           }
          ]
         },
         "layout": {
          "annotationdefaults": {
           "arrowcolor": "#2a3f5f",
           "arrowhead": 0,
           "arrowwidth": 1
          },
          "autotypenumbers": "strict",
          "coloraxis": {
           "colorbar": {
            "outlinewidth": 0,
            "ticks": ""
           }
          },
          "colorscale": {
           "diverging": [
            [
             0,
             "#8e0152"
            ],
            [
             0.1,
             "#c51b7d"
            ],
            [
             0.2,
             "#de77ae"
            ],
            [
             0.3,
             "#f1b6da"
            ],
            [
             0.4,
             "#fde0ef"
            ],
            [
             0.5,
             "#f7f7f7"
            ],
            [
             0.6,
             "#e6f5d0"
            ],
            [
             0.7,
             "#b8e186"
            ],
            [
             0.8,
             "#7fbc41"
            ],
            [
             0.9,
             "#4d9221"
            ],
            [
             1,
             "#276419"
            ]
           ],
           "sequential": [
            [
             0,
             "#0d0887"
            ],
            [
             0.1111111111111111,
             "#46039f"
            ],
            [
             0.2222222222222222,
             "#7201a8"
            ],
            [
             0.3333333333333333,
             "#9c179e"
            ],
            [
             0.4444444444444444,
             "#bd3786"
            ],
            [
             0.5555555555555556,
             "#d8576b"
            ],
            [
             0.6666666666666666,
             "#ed7953"
            ],
            [
             0.7777777777777778,
             "#fb9f3a"
            ],
            [
             0.8888888888888888,
             "#fdca26"
            ],
            [
             1,
             "#f0f921"
            ]
           ],
           "sequentialminus": [
            [
             0,
             "#0d0887"
            ],
            [
             0.1111111111111111,
             "#46039f"
            ],
            [
             0.2222222222222222,
             "#7201a8"
            ],
            [
             0.3333333333333333,
             "#9c179e"
            ],
            [
             0.4444444444444444,
             "#bd3786"
            ],
            [
             0.5555555555555556,
             "#d8576b"
            ],
            [
             0.6666666666666666,
             "#ed7953"
            ],
            [
             0.7777777777777778,
             "#fb9f3a"
            ],
            [
             0.8888888888888888,
             "#fdca26"
            ],
            [
             1,
             "#f0f921"
            ]
           ]
          },
          "colorway": [
           "#636efa",
           "#EF553B",
           "#00cc96",
           "#ab63fa",
           "#FFA15A",
           "#19d3f3",
           "#FF6692",
           "#B6E880",
           "#FF97FF",
           "#FECB52"
          ],
          "font": {
           "color": "#2a3f5f"
          },
          "geo": {
           "bgcolor": "white",
           "lakecolor": "white",
           "landcolor": "#E5ECF6",
           "showlakes": true,
           "showland": true,
           "subunitcolor": "white"
          },
          "hoverlabel": {
           "align": "left"
          },
          "hovermode": "closest",
          "mapbox": {
           "style": "light"
          },
          "paper_bgcolor": "white",
          "plot_bgcolor": "#E5ECF6",
          "polar": {
           "angularaxis": {
            "gridcolor": "white",
            "linecolor": "white",
            "ticks": ""
           },
           "bgcolor": "#E5ECF6",
           "radialaxis": {
            "gridcolor": "white",
            "linecolor": "white",
            "ticks": ""
           }
          },
          "scene": {
           "xaxis": {
            "backgroundcolor": "#E5ECF6",
            "gridcolor": "white",
            "gridwidth": 2,
            "linecolor": "white",
            "showbackground": true,
            "ticks": "",
            "zerolinecolor": "white"
           },
           "yaxis": {
            "backgroundcolor": "#E5ECF6",
            "gridcolor": "white",
            "gridwidth": 2,
            "linecolor": "white",
            "showbackground": true,
            "ticks": "",
            "zerolinecolor": "white"
           },
           "zaxis": {
            "backgroundcolor": "#E5ECF6",
            "gridcolor": "white",
            "gridwidth": 2,
            "linecolor": "white",
            "showbackground": true,
            "ticks": "",
            "zerolinecolor": "white"
           }
          },
          "shapedefaults": {
           "line": {
            "color": "#2a3f5f"
           }
          },
          "ternary": {
           "aaxis": {
            "gridcolor": "white",
            "linecolor": "white",
            "ticks": ""
           },
           "baxis": {
            "gridcolor": "white",
            "linecolor": "white",
            "ticks": ""
           },
           "bgcolor": "#E5ECF6",
           "caxis": {
            "gridcolor": "white",
            "linecolor": "white",
            "ticks": ""
           }
          },
          "title": {
           "x": 0.05
          },
          "xaxis": {
           "automargin": true,
           "gridcolor": "white",
           "linecolor": "white",
           "ticks": "",
           "title": {
            "standoff": 15
           },
           "zerolinecolor": "white",
           "zerolinewidth": 2
          },
          "yaxis": {
           "automargin": true,
           "gridcolor": "white",
           "linecolor": "white",
           "ticks": "",
           "title": {
            "standoff": 15
           },
           "zerolinecolor": "white",
           "zerolinewidth": 2
          }
         }
        },
        "title": {
         "text": "Fiber cable orientation main1"
        },
        "xaxis": {
         "range": [
          -270,
          270
         ],
         "title": {
          "text": "AngleFromHighSideClockwiseDegrees"
         }
        },
        "yaxis": {
         "autorange": "reversed",
         "title": {
          "text": "Depth"
         }
        }
       }
      }
     },
     "metadata": {},
     "output_type": "display_data"
    }
   ],
   "source": [
    "fig = go.Figure()\n",
    "\n",
    "# # Add windows\n",
    "# gozone_svg = ''.join([f'M {xy[0][0]+10},{xy[0][1]} ' if xy[1]==0 else f'L{xy[0][0]+10},{xy[0][1]} ' for xy in zip(combined.loc[combined['type']=='CableDetectionClamp', ['plot_angle','depth']].values,range(combined.loc[combined['type']=='CableDetectionClamp', ['plot_angle','depth']].shape[0]))])+''.join([f' L{xy[0][0]-10},{xy[0][1]} Z' if xy[1]==0 else f' L{xy[0][0]-10},{xy[0][1]}' for xy in zip(combined.loc[combined['type']=='CableDetectionClamp', ['plot_angle','depth']].values,range(combined.loc[combined['type']=='CableDetectionClamp', ['plot_angle','depth']].shape[0]))][::-1])\n",
    "\n",
    "# nogozone_svg = ''.join([f'M {xy[0][0]+10},{xy[0][1]} ' if xy[1]==0 else f'L{xy[0][0]+10},{xy[0][1]} ' for xy in zip(combined.loc[combined['type']=='CableDetectionClamp', ['fiber_plot_angle','depth']].values,range(combined.loc[combined['type']=='CableDetectionClamp', ['fiber_plot_angle','depth']].shape[0]))])+''.join([f' L{xy[0][0]-10},{xy[0][1]} Z' if xy[1]==0 else f' L{xy[0][0]-10},{xy[0][1]}' for xy in zip(combined.loc[combined['type']=='CableDetectionClamp', ['fiber_plot_angle','depth']].values,range(combined.loc[combined['type']=='CableDetectionClamp', ['fiber_plot_angle','depth']].shape[0]))][::-1])\n",
    "\n",
    "# fig.update_layout(shapes=[dict(type=\"path\", path=gozone_svg, fillcolor='rgba(154,205,50,0.2)', line=dict(width=0), layer='below'), dict(type=\"path\", path=nogozone_svg, fillcolor='rgba(255,69,0,0.2)', line=dict(width=0), layer='below')])\n",
    "\n",
    "# Add traces\n",
    "fig.add_trace(go.Scatter(x=combined.loc[(combined['type']=='CableDetectionClamp') & (pd.isna(combined['obs'])), 'plot_angle'], y=combined.loc[(combined['type']=='CableDetectionClamp') & (pd.isna(combined['obs'])), 'depth'], mode='markers', name='CableDetectionClamp', marker_color='forestgreen', customdata=combined.loc[(combined['type']=='CableDetectionClamp') & (pd.isna(combined['obs'])), ['hadware_name', 'clampsTOH', 'obs']].round(0)))\n",
    "\n",
    "\n",
    "fig.add_trace(go.Scatter(x=combined.loc[(combined['type']=='CrossCouplingProtector') & (pd.isna(combined['obs'])), 'plot_angle'], y=combined.loc[(combined['type']=='CrossCouplingProtector') & (pd.isna(combined['obs'])), 'depth'], mode='markers', name='CrossCouplingProtector', marker_color='darkolivegreen', customdata=combined.loc[(combined['type']=='CrossCouplingProtector') & (pd.isna(combined['obs'])), ['hadware_name', 'clampsTOH', 'obs']].round(0)))\n",
    "\n",
    "fig.add_trace(go.Scatter(x=combined.loc[(combined['type']=='CrossCouplingProtector') & (~pd.isna(combined['obs'])), 'plot_angle'], y=combined.loc[(combined['type']=='CrossCouplingProtector') & (~pd.isna(combined['obs'])), 'depth'], mode='markers', name='CrossCouplingProtector NVNH', marker_color='red', customdata=combined.loc[(combined['type']=='CrossCouplingProtector') & (~pd.isna(combined['obs'])), ['hadware_name', 'clampsTOH', 'obs']].round(0)))\n",
    "\n",
    "fig.add_trace(go.Scatter(x=combined.loc[(combined['type']=='Centralizer') & (pd.isna(combined['obs'])), 'plot_angle'], y=combined.loc[(combined['type']=='Centralizer') & (pd.isna(combined['obs'])), 'depth'], mode='markers', name='Centralizer', marker_color='cadetblue', customdata=combined.loc[(combined['type']=='Centralizer') & (pd.isna(combined['obs'])), ['hadware_name', 'clampsTOH', 'obs']].round(0)))\n",
    "\n",
    "# fig.add_trace(go.Scatter(x=combined.loc[combined['type']=='CableDetectionClamp', 'plot_angle'], y=combined.loc[combined['type']=='CableDetectionClamp', 'depth'], mode='markers', name='CableDetectionClamp', marker_color='forestgreen', customdata=combined.loc[combined['type']=='CableDetectionClamp', ['hadware_name', 'angle_rounded']]))\n",
    "\n",
    "# fig.add_trace(go.Scatter(x=combined.loc[combined['type']=='CrossCouplingProtector', 'plot_angle'], y=combined.loc[combined['type']=='CrossCouplingProtector', 'depth'], mode='markers', name='CrossCouplingProtector', marker_color='darkolivegreen', customdata=combined.loc[combined['type']=='CrossCouplingProtector', ['hadware_name', 'angle_rounded']]))\n",
    "\n",
    "# fig.add_trace(go.Scatter(x=combined.loc[combined['type']=='Centralizer', 'plot_angle'], y=combined.loc[combined['type']=='Centralizer', 'depth'], mode='markers', name='Centralizer', marker_color='cadetblue', customdata=combined.loc[combined['type']=='Centralizer', ['hadware_name', 'angle_rounded']]))\n",
    "\n",
    "# fig.add_trace(go.Scatter(x=combined.loc[combined['type']=='Other', 'plot_angle'], y=combined.loc[combined['type']=='Other', 'depth'], mode='markers', name='Other', marker_color='navy', customdata=combined.loc[combined['type']=='Other', ['hadware_name', 'angle_rounded']]))\n",
    "\n",
    "# fig.add_trace(go.Scatter(x=combined.loc[combined['type']=='PERFS', 'plot_angle'], y=combined.loc[combined['type']=='PERFS', 'depth'], mode='markers', name='PERFS', marker_color='navy', customdata=combined.loc[combined['type']=='PERFS', ['name', 'angle_rounded']]))\n",
    "\n",
    "fig.add_trace(go.Scatter(x=combined.loc[combined['type']!='CCableDetectionClamp', 'fiber_plot_angle'], y=combined.loc[combined['type']!='CCableDetectionClamp', 'depth'], mode='lines+markers', name='Fiber Wire', marker_color='crimson', customdata=combined.loc[combined['type']!='CCableDetectionClamp', ['hadware_name', 'fiberTOH']].round(0)))\n",
    "\n",
    "fig.update_traces(hovertemplate='%{customdata[0]}<br>%{customdata[1]}')\n",
    "fig.update_xaxes(range=[-270, 270])\n",
    "fig.update_yaxes(autorange=\"reversed\")\n",
    "fig.update_layout(hovermode=\"y\", title=\"Fiber cable orientation main1\", legend_title=\"Type\", legend_orientation=\"h\", template=\"plotly\", yaxis_title=\"Depth\", xaxis_title='AngleFromHighSideClockwiseDegrees')\n",
    "fig.show()"
   ]
  },
  {
   "cell_type": "code",
   "execution_count": null,
   "metadata": {},
   "outputs": [],
   "source": [
    "features['type'].value_counts()"
   ]
  },
  {
   "cell_type": "code",
   "execution_count": null,
   "metadata": {},
   "outputs": [],
   "source": [
    "features['obs'].value_counts()"
   ]
  },
  {
   "cell_type": "code",
   "execution_count": null,
   "metadata": {},
   "outputs": [],
   "source": [
    "# features['type'].value_counts()\n",
    "# O, CCP, C, CDC= features['type'].value_counts()\n",
    "\n",
    "# pie = make_subplots(rows=1, cols=1, specs=[[{\"type\": \"domain\"}]])\n",
    "\n",
    "# pie.add_trace(go.Pie(\n",
    "#      values=[CDC, CCP, C, O],\n",
    "#      labels=['CableDetectionClamp', 'CrossCouplingProtector', 'Centralizer', 'Other'],\n",
    "#      domain=dict(x=[0, 0.5]),\n",
    "#      name=\"Blast Protector\",\n",
    "#      hoverinfo='label+value',\n",
    "#      sort=False,\n",
    "#      marker_colors = ['forestgreen', 'darkolivegreen', 'cadetblue', 'navy']\n",
    "#      ), \n",
    "#      row=1, col=1)\n",
    "\n",
    "# pie.update_layout(title_text=\"Jewelry type\", template=\"plotly\")\n",
    "# pie.show()"
   ]
  },
  {
   "cell_type": "code",
   "execution_count": null,
   "metadata": {},
   "outputs": [],
   "source": [
    "pio.write_html(fig, file='plotly/446_plot_main1.html', auto_open=False)\n",
    "# pio.write_html(pie, file='plotly/4532_pie.html', auto_open=False)"
   ]
  },
  {
   "cell_type": "code",
   "execution_count": null,
   "metadata": {},
   "outputs": [],
   "source": [
    "def clamps_overview(clamps, clamps_types):\n",
    "\n",
    "    fiber = clamps[['type', 'fiber_plot_angle', 'depth', 'hadware_name', 'fiber_angle_rounded']].loc[clamps['type'].isin(clamps_types)]\n",
    "\n",
    "    fig = go.Figure()\n",
    "    # # Add windows\n",
    "    nogozone_svg = ''.join([f'M {xy[0][0]+10},{xy[0][1]} ' if xy[1]==0 else f'L{xy[0][0]+10},{xy[0][1]} ' for xy in zip(clamps.loc[clamps['type']=='CableDetectionClamp', ['fiber_plot_angle','depth']].values,range(clamps.loc[clamps['type']=='CableDetectionClamp', ['fiber_plot_angle','depth']].shape[0]))])+''.join([f' L{xy[0][0]-10},{xy[0][1]} Z' if xy[1]==0 else f' L{xy[0][0]-10},{xy[0][1]}' for xy in zip(clamps.loc[clamps['type']=='CableDetectionClamp', ['fiber_plot_angle','depth']].values,range(clamps.loc[clamps['type']=='CableDetectionClamp', ['fiber_plot_angle','depth']].shape[0]))][::-1])\n",
    "\n",
    "    fig.update_layout(shapes=[dict(type=\"path\", path=nogozone_svg, fillcolor='rgba(255,69,0,0.2)', line=dict(width=0), layer='below')])\n",
    "\n",
    "    # Add traces\n",
    "    for type in clamps['type'].unique():\n",
    "        fig.add_trace(go.Scatter(x=clamps.loc[clamps['type']==type, 'plot_angle'], y=clamps.loc[clamps['type']==type, 'depth'], mode='markers', name=type, customdata=clamps.loc[clamps['type']==type, ['hadware_name', 'fiber_angle_rounded']]))\n",
    "\n",
    "    fig.add_trace(go.Scatter(x=fiber['fiber_plot_angle'], y=fiber['depth'], mode='lines+markers', name='Fiber Wire', marker_color='crimson', customdata=fiber[['hadware_name', 'fiber_angle_rounded']]))\n",
    "\n",
    "    fig.update_traces(hovertemplate='%{customdata[0]}<br>%{customdata[1]}')\n",
    "    fig.update_xaxes(range=[-185, 185])\n",
    "    fig.update_yaxes(autorange=\"reversed\")\n",
    "    fig.update_layout(hovermode=\"y\", title=\"Fiber cable orientation overview\", legend_title=\"Type\", legend_orientation=\"h\", template=\"plotly\", yaxis_title=\"Depth\", xaxis_title='AngleFromHighSideClockwiseDegrees')\n",
    "\n",
    "    return fig\n",
    "\n",
    "clamps_overview(combined, ['CableDetectionClamp', 'CrossCouplingProtector', 'Centralizer', 'Other']).show()"
   ]
  },
  {
   "cell_type": "markdown",
   "metadata": {},
   "source": [
    "kay plot"
   ]
  },
  {
   "cell_type": "code",
   "execution_count": null,
   "metadata": {},
   "outputs": [],
   "source": [
    "features_k = cc_k[['type', 'hadware_name', 'depth', 'AngleFromHighSideClockwiseDegrees', 'passName']].groupby(['type', 'hadware_name', 'passName']).median(numeric_only=True)\n",
    "features_k = features_k.sort_values(by=['depth'], ascending=False).reset_index()\n",
    "features_k['fiberAngleFromHighSideClockwiseDegrees'] = [angle+180 if angle < 180 else angle-180 for angle in features_k['AngleFromHighSideClockwiseDegrees']]\n",
    "features_k['fiber_plot_angle'] = [angle-360 if angle > 180 else angle for angle in features_k['fiberAngleFromHighSideClockwiseDegrees']]\n",
    "\n",
    "\n",
    "# combined = pd.concat([features_k, perfs])\n",
    "combined_k = features_k\n",
    "combined_k['plot_angle'] = [angle-360 if angle > 100 else angle for angle in combined_k['AngleFromHighSideClockwiseDegrees']]\n",
    "combined_k['angle_rounded'] = combined_k['AngleFromHighSideClockwiseDegrees'].round(0)\n",
    "combined_k['fiber_angle_rounded'] = combined_k['fiberAngleFromHighSideClockwiseDegrees'].round(0)"
   ]
  },
  {
   "cell_type": "code",
   "execution_count": null,
   "metadata": {},
   "outputs": [],
   "source": [
    "fig = go.Figure()\n",
    "\n",
    "# Add windows\n",
    "gozone_svg = ''.join([f'M {xy[0][0]+30},{xy[0][1]} ' if xy[1]==0 else f'L{xy[0][0]+30},{xy[0][1]} ' for xy in zip(combined_k.loc[combined_k['type']=='CableDetectionClamp', ['plot_angle','depth']].values,range(combined_k.loc[combined_k['type']=='CableDetectionClamp', ['plot_angle','depth']].shape[0]))])+''.join([f' L{xy[0][0]-30},{xy[0][1]} Z' if xy[1]==0 else f' L{xy[0][0]-30},{xy[0][1]}' for xy in zip(combined_k.loc[combined_k['type']=='CableDetectionClamp', ['plot_angle','depth']].values,range(combined_k.loc[combined_k['type']=='CableDetectionClamp', ['plot_angle','depth']].shape[0]))][::-1])\n",
    "\n",
    "nogozone_svg = ''.join([f'M {xy[0][0]+10},{xy[0][1]} ' if xy[1]==0 else f'L{xy[0][0]+10},{xy[0][1]} ' for xy in zip(combined_k.loc[combined_k['type']=='CableDetectionClamp', ['fiber_plot_angle','depth']].values,range(combined_k.loc[combined_k['type']=='CableDetectionClamp', ['fiber_plot_angle','depth']].shape[0]))])+''.join([f' L{xy[0][0]-10},{xy[0][1]} Z' if xy[1]==0 else f' L{xy[0][0]-10},{xy[0][1]}' for xy in zip(combined_k.loc[combined_k['type']=='CableDetectionClamp', ['fiber_plot_angle','depth']].values,range(combined_k.loc[combined_k['type']=='CableDetectionClamp', ['fiber_plot_angle','depth']].shape[0]))][::-1])\n",
    "\n",
    "fig.update_layout(shapes=[dict(type=\"path\", path=gozone_svg, fillcolor='rgba(154,205,50,0.2)', line=dict(width=0), layer='below'), dict(type=\"path\", path=nogozone_svg, fillcolor='rgba(255,69,0,0.2)', line=dict(width=0), layer='below')])\n",
    "\n",
    "# Add traces\n",
    "fig.add_trace(go.Scatter(x=combined_k.loc[combined_k['type']=='CableDetectionClamp', 'plot_angle'], y=combined_k.loc[combined_k['type']=='CableDetectionClamp', 'depth'], mode='markers', name='CableDetectionClamp', marker_color='forestgreen', customdata=combined_k.loc[combined_k['type']=='CableDetectionClamp', ['hadware_name', 'angle_rounded']]))\n",
    "\n",
    "fig.add_trace(go.Scatter(x=combined_k.loc[combined_k['type']=='CrossCouplingProtector', 'plot_angle'], y=combined_k.loc[combined_k['type']=='CrossCouplingProtector', 'depth'], mode='markers', name='CrossCouplingProtector', marker_color='darkolivegreen', customdata=combined_k.loc[combined_k['type']=='CrossCouplingProtector', ['hadware_name', 'angle_rounded']]))\n",
    "\n",
    "fig.add_trace(go.Scatter(x=combined_k.loc[combined_k['type']=='Centralizer', 'plot_angle'], y=combined_k.loc[combined_k['type']=='Centralizer', 'depth'], mode='markers', name='Centralizer', marker_color='cadetblue', customdata=combined_k.loc[combined_k['type']=='Centralizer', ['hadware_name', 'angle_rounded']]))\n",
    "\n",
    "# fig.add_trace(go.Scatter(x=combined_k.loc[combined_k['type']=='PERFS', 'plot_angle'], y=combined_k.loc[combined_k['type']=='PERFS', 'depth'], mode='markers', name='PERFS', marker_color='navy', customdata=combined_k.loc[combined_k['type']=='PERFS', ['name', 'angle_rounded']]))\n",
    "\n",
    "fig.add_trace(go.Scatter(x=combined_k.loc[combined_k['type']=='CableDetectionClamp', 'fiber_plot_angle'], y=combined_k.loc[combined_k['type']=='CableDetectionClamp', 'depth'], mode='lines+markers', name='Fiber Wire', marker_color='crimson', customdata=combined_k.loc[combined_k['type']=='CableDetectionClamp', ['hadware_name', 'fiber_angle_rounded']]))\n",
    "\n",
    "fig.update_traces(hovertemplate='%{customdata[0]}<br>%{customdata[1]}')\n",
    "fig.update_xaxes(range=[-270, 100])\n",
    "fig.update_yaxes(autorange=\"reversed\")\n",
    "fig.update_layout(hovermode=\"y\", title=\"Fiber cable orientation main2\", legend_title=\"Type\", legend_orientation=\"h\", template=\"plotly\", yaxis_title=\"Depth\", xaxis_title='AngleFromHighSideClockwiseDegrees')\n",
    "fig.show()"
   ]
  },
  {
   "cell_type": "code",
   "execution_count": null,
   "metadata": {},
   "outputs": [],
   "source": [
    "pio.write_html(fig, file='plotly/446_plot_main2.html', auto_open=False)\n",
    "# pio.write_html(pie, file='plotly/445_pie.html', auto_open=False)"
   ]
  },
  {
   "cell_type": "markdown",
   "metadata": {},
   "source": [
    "X CHECK"
   ]
  },
  {
   "cell_type": "code",
   "execution_count": null,
   "metadata": {},
   "outputs": [],
   "source": [
    "combined_x = pd.concat([features, features_k])\n",
    "combined_x['plot_angle'] = [angle-360 if angle > 100 else angle for angle in combined_x['AngleFromHighSideClockwiseDegrees']] # plot angle for rest\n",
    "combined_x['angle_rounded'] = combined_x['AngleFromHighSideClockwiseDegrees'].round(0)\n",
    "combined_x['fiber_angle_rounded'] = combined_x['fiberAngleFromHighSideClockwiseDegrees'].round(0)"
   ]
  },
  {
   "cell_type": "code",
   "execution_count": null,
   "metadata": {},
   "outputs": [],
   "source": [
    "fig = go.Figure()\n",
    "\n",
    "# # Add windows\n",
    "# gozone_svg = ''.join([f'M {xy[0][0]+30},{xy[0][1]} ' if xy[1]==0 else f'L{xy[0][0]+30},{xy[0][1]} ' for xy in zip(combined_x.loc[combined_x['type']=='CableDetectionClamp', ['plot_angle','depth']].values,range(combined_x.loc[combined_x['type']=='CableDetectionClamp', ['plot_angle','depth']].shape[0]))])+''.join([f' L{xy[0][0]-30},{xy[0][1]} Z' if xy[1]==0 else f' L{xy[0][0]-30},{xy[0][1]}' for xy in zip(combined_x.loc[combined_x['type']=='CableDetectionClamp', ['plot_angle','depth']].values,range(combined_x.loc[combined_x['type']=='CableDetectionClamp', ['plot_angle','depth']].shape[0]))][::-1])\n",
    "\n",
    "# nogozone_svg = ''.join([f'M {xy[0][0]+10},{xy[0][1]} ' if xy[1]==0 else f'L{xy[0][0]+10},{xy[0][1]} ' for xy in zip(combined_x.loc[combined_x['type']=='CableDetectionClamp', ['fiber_plot_angle','depth']].values,range(combined_x.loc[combined_x['type']=='CableDetectionClamp', ['fiber_plot_angle','depth']].shape[0]))])+''.join([f' L{xy[0][0]-10},{xy[0][1]} Z' if xy[1]==0 else f' L{xy[0][0]-10},{xy[0][1]}' for xy in zip(combined_x.loc[combined_x['type']=='CableDetectionClamp', ['fiber_plot_angle','depth']].values,range(combined_x.loc[combined_x['type']=='CableDetectionClamp', ['fiber_plot_angle','depth']].shape[0]))][::-1])\n",
    "\n",
    "# fig.update_layout(shapes=[dict(type=\"path\", path=gozone_svg, fillcolor='rgba(154,205,50,0.2)', line=dict(width=0), layer='below'), dict(type=\"path\", path=nogozone_svg, fillcolor='rgba(255,69,0,0.2)', line=dict(width=0), layer='below')])\n",
    "\n",
    "# Add traces\n",
    "fig.add_trace(go.Scatter(x=combined_x.loc[(combined_x['type']=='CableDetectionClamp') & (combined_x['passName']=='mainpass_up1_autogain'), 'plot_angle'], y=combined_x.loc[(combined_x['type']=='CableDetectionClamp') & (combined_x['passName']=='mainpass_up1_autogain'), 'depth'], mode='markers', name='CableDetectionClamp main 1', marker_color='blue', customdata=combined_x.loc[(combined_x['type']=='CableDetectionClamp') & (combined_x['passName']=='mainpass_up1_autogain'), ['hadware_name', 'angle_rounded', 'passName']]))\n",
    "\n",
    "fig.add_trace(go.Scatter(x=combined_x.loc[(combined_x['type']=='CableDetectionClamp') & (combined_x['passName']=='mainpass_up2_autogain'), 'plot_angle'], y=combined_x.loc[(combined_x['type']=='CableDetectionClamp') & (combined_x['passName']=='mainpass_up2_autogain'), 'depth'], mode='markers', name='CableDetectionClamp main 2', marker_color='red', customdata=combined_x.loc[(combined_x['type']=='CableDetectionClamp') & (combined_x['passName']=='mainpass_up2_autogain'), ['hadware_name', 'angle_rounded', 'passName']]))\n",
    "\n",
    "# fig.add_trace(go.Scatter(x=combined_x.loc[combined_x['type']=='CrossCouplingProtector', 'plot_angle'], y=combined_x.loc[combined_x['type']=='CrossCouplingProtector', 'depth'], mode='markers', name='CrossCouplingProtector', marker_color='darkolivegreen', customdata=combined_x.loc[combined_x['type']=='CrossCouplingProtector', ['hadware_name', 'angle_rounded']]))\n",
    "\n",
    "# fig.add_trace(go.Scatter(x=combined_x.loc[combined_x['type']=='Centralizer', 'plot_angle'], y=combined_x.loc[combined_x['type']=='Centralizer', 'depth'], mode='markers', name='Centralizer', marker_color='cadetblue', customdata=combined_x.loc[combined_x['type']=='Centralizer', ['hadware_name', 'angle_rounded']]))\n",
    "\n",
    "# fig.add_trace(go.Scatter(x=combined_x.loc[combined_x['type']=='Other', 'plot_angle'], y=combined_x.loc[combined_x['type']=='Other', 'depth'], mode='markers', name='Other', marker_color='navy', customdata=combined_x.loc[combined_x['type']=='Other', ['hadware_name', 'angle_rounded']]))\n",
    "\n",
    "# fig.add_trace(go.Scatter(x=combined_x.loc[combined_x['type']=='PERFS', 'plot_angle'], y=combined_x.loc[combined_x['type']=='PERFS', 'depth'], mode='markers', name='PERFS', marker_color='navy', customdata=combined_x.loc[combined_x['type']=='PERFS', ['name', 'angle_rounded']]))\n",
    "\n",
    "# fig.add_trace(go.Scatter(x=combined_x.loc[combined_x['type']=='CableDetectionClamp', 'fiber_plot_angle'], y=combined_x.loc[combined_x['type']=='CableDetectionClamp', 'depth'], mode='lines+markers', name='Fiber Wire', marker_color='crimson', customdata=combined_x.loc[combined_x['type']=='CableDetectionClamp', ['hadware_name', 'fiber_angle_rounded']]))\n",
    "\n",
    "fig.update_traces(hovertemplate='%{customdata[0]}<br>%{customdata[2]}<br>%{customdata[1]}')\n",
    "fig.update_xaxes(range=[-240, -100])\n",
    "fig.update_yaxes(autorange=\"reversed\")\n",
    "fig.update_layout(hovermode=\"y\", title=\"x check\", legend_title=\"Type\", legend_orientation=\"h\", template=\"plotly\", yaxis_title=\"Depth\", xaxis_title='AngleFromHighSideClockwiseDegrees')\n",
    "fig.show()"
   ]
  },
  {
   "cell_type": "code",
   "execution_count": null,
   "metadata": {},
   "outputs": [],
   "source": [
    "pio.write_html(fig, file='plotly/446_plot_xcheck.html', auto_open=False)"
   ]
  },
  {
   "cell_type": "code",
   "execution_count": null,
   "metadata": {},
   "outputs": [],
   "source": []
  }
 ],
 "metadata": {
  "kernelspec": {
   "display_name": "Python 3.10.6 ('.venv_p106': venv)",
   "language": "python",
   "name": "python3"
  },
  "language_info": {
   "codemirror_mode": {
    "name": "ipython",
    "version": 3
   },
   "file_extension": ".py",
   "mimetype": "text/x-python",
   "name": "python",
   "nbconvert_exporter": "python",
   "pygments_lexer": "ipython3",
   "version": "3.10.6"
  },
  "orig_nbformat": 4,
  "vscode": {
   "interpreter": {
    "hash": "7704e6e57cc2736c6d2b21b5de76d1c605a2836683d937ec3f5cccd12aac8fe7"
   }
  }
 },
 "nbformat": 4,
 "nbformat_minor": 2
}
